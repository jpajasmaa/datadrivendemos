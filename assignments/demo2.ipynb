{
 "cells": [
  {
   "cell_type": "code",
   "execution_count": 1,
   "id": "a60946af",
   "metadata": {},
   "outputs": [
    {
     "data": {
      "text/html": [
       "<style>.container { width:100% !important; }</style>"
      ],
      "text/plain": [
       "<IPython.core.display.HTML object>"
      ]
     },
     "execution_count": 1,
     "metadata": {},
     "output_type": "execute_result"
    }
   ],
   "source": [
    "from IPython.display import HTML\n",
    "HTML(\"<style>.container { width:100% !important; }</style>\")"
   ]
  },
  {
   "cell_type": "code",
   "execution_count": 32,
   "id": "31129e19",
   "metadata": {},
   "outputs": [],
   "source": [
    "import warnings\n",
    "warnings.filterwarnings('ignore')"
   ]
  },
  {
   "cell_type": "code",
   "execution_count": 2,
   "id": "efd31856",
   "metadata": {},
   "outputs": [],
   "source": [
    "import numpy as np\n",
    "from desdeo_emo.EAs import RVEA, NSGAIII, IBEA\n",
    "from desdeo_problem.testproblems.TestProblems import test_problem_builder\n",
    "from desdeo_problem import DataProblem\n",
    "#from desdeo_problem.testproblems.DBMOPP import DBMOPP\n",
    "from desdeo_tools.utilities import fast_non_dominated_sort, hypervolume_indicator\n",
    "\n",
    "import matplotlib.pyplot as plt\n",
    "import sklearn\n",
    "from pyDOE import lhs\n",
    "import pandas as pd"
   ]
  },
  {
   "cell_type": "code",
   "execution_count": 3,
   "id": "df9b35bb",
   "metadata": {
    "scrolled": true
   },
   "outputs": [],
   "source": [
    "#pip install pyDOE"
   ]
  },
  {
   "cell_type": "code",
   "execution_count": 4,
   "id": "e59d523a",
   "metadata": {},
   "outputs": [
    {
     "ename": "SyntaxError",
     "evalue": "invalid syntax (<ipython-input-4-12e7fc6b3c7f>, line 1)",
     "output_type": "error",
     "traceback": [
      "\u001b[0;36m  Input \u001b[0;32mIn [4]\u001b[0;36m\u001b[0m\n\u001b[0;31m    elif design == \"LHSDesign\":\u001b[0m\n\u001b[0m    ^\u001b[0m\n\u001b[0;31mSyntaxError\u001b[0m\u001b[0;31m:\u001b[0m invalid syntax\n"
     ]
    }
   ],
   "source": [
    "    elif design == \"LHSDesign\":\n",
    "        lower_limits = np.asarray(problem.get_variable_lower_bounds())\n",
    "        upper_limits = np.asarray(problem.get_variable_upper_bounds())\n",
    "        individuals = lhs(problem.n_of_variables, samples=pop_size)\n",
    "        # Scaling\n",
    "        individuals = individuals * (upper_limits - lower_limits) + lower_limits\n",
    "\n",
    "        return individuals"
   ]
  },
  {
   "cell_type": "code",
   "execution_count": 4,
   "id": "d4c99e4c",
   "metadata": {},
   "outputs": [],
   "source": [
    "#np.sqrt(mean_squared_error(self.y, y_pred))\n",
    "\n",
    "from sklearn.metrics import mean_squared_error, r2_score\n",
    "\n",
    "#r2_score(self.y, y_pred)"
   ]
  },
  {
   "cell_type": "markdown",
   "id": "0b92ba94",
   "metadata": {},
   "source": [
    "## Assignment 2\n",
    "\n",
    "Generate 100 samples (LHS sampling) with the welded beam design problem (K=2, n=4). \n",
    "\n",
    "Build two\n",
    "types of surrogate models for each objective and ﬁnd the R-squared and RMSE for K fold cross\n",
    "validations. \n",
    "\n",
    "Suggest which models to use (for each objective) for performing optimization based on\n",
    "the accuracies. \n",
    "\n",
    "Finally generate 50 more LHS samples and test the models and show their RMSEs\n",
    "\n",
    "\n",
    "- Use DESDEO, sklearn, GPy\n",
    "- Optimize the hyperparameters for Kriging\n",
    "- You can also try to optimize the hyperparameters for random forest"
   ]
  },
  {
   "cell_type": "markdown",
   "id": "dbc76f6b",
   "metadata": {},
   "source": [
    "##### what should be done\n",
    "\n",
    "100 pistettä jakaa Kfold CVllä.. GPR ja Randomforest obj1 ja obj2. Seurata näiden opetus R2 ja RMSE. Sitten optimoida parameterejä kunnes tyytyväinen ja generoida 50 pistettä lisää, joille sama homma. Testata malleja.\n",
    "\n",
    "\n",
    "TODO: \n",
    " optimize krigin params.. \n",
    " f1 näyttää niin hyvältä että sitä ei varmaan tarvitse optimoida pikemminkin vain jos löytää miksi niin hyvä\n",
    " f2 sitä voisi sitten koittaa parantaa. Luulisi että normalisointi auttaiis mutta en tiedä..\n",
    " Onko probleema edes formuloitu oikein kun ei ole og paperia missä biobjective formulointi löytynyt?"
   ]
  },
  {
   "cell_type": "markdown",
   "id": "cfdcb3de",
   "metadata": {},
   "source": [
    "## Result \n",
    "\n",
    "|  |  | Objective 1 K | | Objective 1 RF |  Objective 2 K | Objective 2 RF |\n",
    "| --- | --- | --- | --- | --- | -- | -- |\n",
    "| Kfold CV R^2 |  |  |   |   |   | |\n",
    "| kfold CV RMSE |  |  |  |  |   | |\n",
    "| Test R^2 |  | |  |   |  | |\n",
    "| Test RMSE |  |  |  |   |   | |"
   ]
  },
  {
   "cell_type": "code",
   "execution_count": 5,
   "id": "64e2cfd9",
   "metadata": {},
   "outputs": [],
   "source": [
    "# the problem, should be correct one\n",
    "\n",
    "P = 6000\n",
    "C = 0.000036578 # check if enough zeroes should be 3.6578 times 10^-4\n",
    "\n",
    "def f1(x):\n",
    "    return 1.10471*x[:,0]**2*x[:,1] + 0.04811*x[:,2]*x[:,3]*(14 + x[:,1])\n",
    "\n",
    "\n",
    "def f2(x):\n",
    "    return (P / (x[:,3]*x[:,2]**3)) * C\n"
   ]
  },
  {
   "cell_type": "markdown",
   "id": "7ea56569",
   "metadata": {},
   "source": [
    "The two objectives are the fabrication cost of the beam and the deflection of the end of the beam under the applied load P. The load P is fixed at 6,000 lbs, and the distance L is fixed at 14 in.\n",
    "\n",
    "The design variables are:\n",
    "\n",
    "x(1) = h, the thickness of the welds\n",
    "\n",
    "x(2) = l, the length of the welds\n",
    "\n",
    "x(3) = t, the height of the beam\n",
    "\n",
    "x(4) = b, the width of the beam"
   ]
  },
  {
   "cell_type": "code",
   "execution_count": 6,
   "id": "8d4986c5",
   "metadata": {},
   "outputs": [],
   "source": [
    "from sklearn.gaussian_process import GaussianProcessRegressor as GPR"
   ]
  },
  {
   "cell_type": "markdown",
   "id": "1a85b4c7",
   "metadata": {},
   "source": [
    "Krigin and Random Forests were suggested.. "
   ]
  },
  {
   "cell_type": "code",
   "execution_count": 7,
   "id": "a94f0008",
   "metadata": {},
   "outputs": [],
   "source": [
    "def create_samples(samples):\n",
    "    # create samples \n",
    "    x = lhs(4, samples)\n",
    "    # could rescale if needed. sklearn GPR assumes that mean is  0 ?\n",
    "    #x = (x - 0.5)\n",
    "    return x\n",
    "    \n",
    "#func1.shape"
   ]
  },
  {
   "cell_type": "markdown",
   "id": "e308fbdb",
   "metadata": {},
   "source": [
    "### GRP from sklearn \n",
    "- TODO : kfold cross validation "
   ]
  },
  {
   "cell_type": "code",
   "execution_count": 8,
   "id": "11f17d33",
   "metadata": {},
   "outputs": [],
   "source": [
    "from sklearn.pipeline import Pipeline\n",
    "\n",
    "from sklearn.gaussian_process.kernels import RBF, ExpSineSquared, WhiteKernel, RationalQuadratic, DotProduct, ConstantKernel, Matern"
   ]
  },
  {
   "cell_type": "code",
   "execution_count": 9,
   "id": "c375874e",
   "metadata": {},
   "outputs": [],
   "source": [
    "def rmse(predictions, targets):\n",
    "    return np.sqrt(((predictions - targets) ** 2).mean())"
   ]
  },
  {
   "cell_type": "markdown",
   "id": "e1105b5d",
   "metadata": {},
   "source": [
    "## CREATE SAMPLES WITH LHS\n",
    "\n",
    "it really should just be as simple as below ?!\n",
    "https://scikit-learn.org/stable/modules/cross_validation.html"
   ]
  },
  {
   "cell_type": "code",
   "execution_count": 10,
   "id": "72a63243",
   "metadata": {
    "scrolled": false
   },
   "outputs": [
    {
     "name": "stdout",
     "output_type": "stream",
     "text": [
      "Means of objective values with samples f1: 0.3439207018890032 and f2: 23235247.22762987\n"
     ]
    },
    {
     "data": {
      "text/html": [
       "<div>\n",
       "<style scoped>\n",
       "    .dataframe tbody tr th:only-of-type {\n",
       "        vertical-align: middle;\n",
       "    }\n",
       "\n",
       "    .dataframe tbody tr th {\n",
       "        vertical-align: top;\n",
       "    }\n",
       "\n",
       "    .dataframe thead th {\n",
       "        text-align: right;\n",
       "    }\n",
       "</style>\n",
       "<table border=\"1\" class=\"dataframe\">\n",
       "  <thead>\n",
       "    <tr style=\"text-align: right;\">\n",
       "      <th></th>\n",
       "      <th>h</th>\n",
       "      <th>l</th>\n",
       "      <th>t</th>\n",
       "      <th>b</th>\n",
       "      <th>f1</th>\n",
       "      <th>f2</th>\n",
       "    </tr>\n",
       "  </thead>\n",
       "  <tbody>\n",
       "    <tr>\n",
       "      <th>0</th>\n",
       "      <td>0.452819</td>\n",
       "      <td>0.257094</td>\n",
       "      <td>0.404499</td>\n",
       "      <td>0.508666</td>\n",
       "      <td>0.199365</td>\n",
       "      <td>6.519092</td>\n",
       "    </tr>\n",
       "    <tr>\n",
       "      <th>1</th>\n",
       "      <td>0.512293</td>\n",
       "      <td>0.584729</td>\n",
       "      <td>0.885964</td>\n",
       "      <td>0.763484</td>\n",
       "      <td>0.644151</td>\n",
       "      <td>0.413355</td>\n",
       "    </tr>\n",
       "    <tr>\n",
       "      <th>2</th>\n",
       "      <td>0.586808</td>\n",
       "      <td>0.986071</td>\n",
       "      <td>0.176000</td>\n",
       "      <td>0.433791</td>\n",
       "      <td>0.430146</td>\n",
       "      <td>92.801583</td>\n",
       "    </tr>\n",
       "    <tr>\n",
       "      <th>3</th>\n",
       "      <td>0.010268</td>\n",
       "      <td>0.780786</td>\n",
       "      <td>0.778205</td>\n",
       "      <td>0.882939</td>\n",
       "      <td>0.488695</td>\n",
       "      <td>0.527423</td>\n",
       "    </tr>\n",
       "    <tr>\n",
       "      <th>4</th>\n",
       "      <td>0.982737</td>\n",
       "      <td>0.344753</td>\n",
       "      <td>0.028916</td>\n",
       "      <td>0.334136</td>\n",
       "      <td>0.374484</td>\n",
       "      <td>27167.851681</td>\n",
       "    </tr>\n",
       "  </tbody>\n",
       "</table>\n",
       "</div>"
      ],
      "text/plain": [
       "          h         l         t         b        f1            f2\n",
       "0  0.452819  0.257094  0.404499  0.508666  0.199365      6.519092\n",
       "1  0.512293  0.584729  0.885964  0.763484  0.644151      0.413355\n",
       "2  0.586808  0.986071  0.176000  0.433791  0.430146     92.801583\n",
       "3  0.010268  0.780786  0.778205  0.882939  0.488695      0.527423\n",
       "4  0.982737  0.344753  0.028916  0.334136  0.374484  27167.851681"
      ]
     },
     "execution_count": 10,
     "metadata": {},
     "output_type": "execute_result"
    }
   ],
   "source": [
    "x = create_samples(100)\n",
    "func1 = f1(x)\n",
    "func2 = f2(x)\n",
    "f = np.vstack((func1, func2)).T\n",
    "\n",
    "data = pd.DataFrame(np.hstack((x, f)), columns=[\"h\", \"l\", \"t\", \"b\", \"f1\", \"f2\"])\n",
    "f1_mean = func1.mean()\n",
    "f2_mean = func2.mean()\n",
    "print(f\"Means of objective values with samples f1: {f1_mean} and f2: {f2_mean}\")\n",
    "data[:5]"
   ]
  },
  {
   "cell_type": "code",
   "execution_count": 35,
   "id": "b9f1313e",
   "metadata": {
    "scrolled": true
   },
   "outputs": [
    {
     "name": "stdout",
     "output_type": "stream",
     "text": [
      "GaussianProcessRegressor(alpha=1e-06,\n",
      "                         kernel=RationalQuadratic(alpha=1, length_scale=1),\n",
      "                         n_restarts_optimizer=1, normalize_y=True,\n",
      "                         random_state=7)\n",
      "GaussianProcessRegressor(alpha=1000.0, kernel=Matern(length_scale=1, nu=1.5),\n",
      "                         n_restarts_optimizer=1, normalize_y=True,\n",
      "                         random_state=7)\n"
     ]
    }
   ],
   "source": [
    "from sklearn.gaussian_process import kernels\n",
    "from sklearn.model_selection import GridSearchCV\n",
    "\n",
    "seed = 7\n",
    "\n",
    "parameters = {\n",
    "    \"alpha\": [1e-10, 1e-9, 1e-8, 1e-7, 1e-6, 1e-5, 1e-4,\n",
    "              1e-3, 1e-2, 1e-1, 1e-0, 1e1, 1e2, 1e3, 1e4],\n",
    "    \"kernel\": [\n",
    "        kernels.RBF(length_scale_bounds=(1e-10, 1000000)),\n",
    "        kernels.RationalQuadratic(length_scale_bounds=(1e-10, 1000000)),\n",
    "        kernels.DotProduct(sigma_0_bounds=(1e-10, 1000000)),\n",
    "        kernels.Matern(length_scale_bounds=(1e-10, 1000000)),\n",
    "        kernels.ExpSineSquared(length_scale_bounds=(1e-10, 1000000))\n",
    "    ]\n",
    "}\n",
    "\n",
    "gaussianProcessRegressor_y1 = GridSearchCV(GPR(normalize_y=True, n_restarts_optimizer=1,random_state=seed), parameters)\n",
    "gaussianProcessRegressor_y2 = GridSearchCV(GPR(normalize_y=True,n_restarts_optimizer=1,random_state=seed), parameters)\n",
    "\n",
    "# fit best parameters\n",
    "gaussianProcessRegressor_y1.fit(x, func1)\n",
    "gaussianProcessRegressor_y1 = gaussianProcessRegressor_y1.best_estimator_\n",
    "gaussianProcessRegressor_y2.fit(x, func2)\n",
    "#gaussianProcessRegressor_y2.fit(x[:, 2:], func2) #ignoring the not needed xs\n",
    "gaussianProcessRegressor_y2 = gaussianProcessRegressor_y2.best_estimator_\n",
    "print(gaussianProcessRegressor_y1)\n",
    "print(gaussianProcessRegressor_y2)"
   ]
  },
  {
   "cell_type": "code",
   "execution_count": 36,
   "id": "470159a5",
   "metadata": {},
   "outputs": [
    {
     "data": {
      "text/plain": [
       "array([0.99975493, 0.99918531, 0.99969459, 0.99876425, 0.99862832,\n",
       "       0.99865644, 0.9994967 , 0.99923207, 0.99749856, 0.99852198])"
      ]
     },
     "execution_count": 36,
     "metadata": {},
     "output_type": "execute_result"
    }
   ],
   "source": [
    "from sklearn.model_selection import cross_val_score\n",
    "\n",
    "\n",
    "cross_val_score(gaussianProcessRegressor_y1, x, func1, cv=10, scoring='r2')"
   ]
  },
  {
   "cell_type": "code",
   "execution_count": 37,
   "id": "e1e1b71a",
   "metadata": {},
   "outputs": [
    {
     "data": {
      "text/plain": [
       "array([-1.01179333e+07, -2.19463155e+08, -2.64108031e+13, -9.49435023e+11,\n",
       "       -1.13137563e+06, -2.35209985e+11, -1.11108375e-01, -6.61267818e+05,\n",
       "       -5.11149097e+11, -4.71934495e+07])"
      ]
     },
     "execution_count": 37,
     "metadata": {},
     "output_type": "execute_result"
    }
   ],
   "source": [
    "cross_val_score(gaussianProcessRegressor_y2, x, func2, cv=10, scoring='r2')"
   ]
  },
  {
   "cell_type": "code",
   "execution_count": 38,
   "id": "edc7973b",
   "metadata": {},
   "outputs": [
    {
     "data": {
      "text/plain": [
       "(array([0.1995449 , 0.64411487, 0.43014886, 0.48866712, 0.37448026,\n",
       "        0.03093177, 0.73144869, 0.01566588, 0.00979845, 0.35097896,\n",
       "        0.02623518, 0.07645653, 0.22366867, 0.2968595 , 0.13408699,\n",
       "        0.09092056, 0.46961292, 0.28270871, 0.47696394, 0.64951695,\n",
       "        0.51773742, 0.32912897, 0.64044376, 0.25525032, 0.64577882,\n",
       "        0.7803725 , 0.10567733, 0.3957686 , 0.35957662, 0.52932006,\n",
       "        0.45974794, 0.05017142, 0.59552831, 0.54482963, 0.56287385,\n",
       "        0.1118312 , 0.34153856, 0.2128833 , 1.04785116, 0.83662389,\n",
       "        0.16072066, 0.05142841, 0.69557704, 0.50818625, 0.6632105 ,\n",
       "        0.40831791, 0.31697786, 0.09447876, 0.04600992, 0.40980085,\n",
       "        0.28127017, 0.64357839, 0.358381  , 0.41567228, 0.32974531,\n",
       "        0.41086284, 0.10904884, 0.18394405, 0.08214844, 0.58607056,\n",
       "        0.38209291, 0.46381793, 0.14646258, 0.06277221, 0.18899304,\n",
       "        0.13428556, 0.3241466 , 0.44428288, 0.34254674, 0.12203093,\n",
       "        0.11275086, 0.74664905, 0.43470774, 0.61098766, 0.3313842 ,\n",
       "        0.11600185, 0.28117074, 0.39014625, 0.10420774, 0.26920727,\n",
       "        0.28220673, 0.12677897, 1.25653555, 0.39884   , 0.79284003,\n",
       "        0.14367088, 0.44560931, 0.50597108, 0.05813197, 0.59153856,\n",
       "        0.08624829, 0.00604572, 0.25682299, 0.31570623, 0.24670493,\n",
       "        0.17609502, 0.21539956, 0.12734532, 0.13851592, 0.13124418]),\n",
       " array([0.00022358, 0.00023884, 0.00024076, 0.00024051, 0.00024087,\n",
       "        0.00024047, 0.0002397 , 0.00024084, 0.00023999, 0.00022296,\n",
       "        0.00024074, 0.00024076, 0.00023968, 0.00024063, 0.00023982,\n",
       "        0.00024029, 0.0002388 , 0.00024019, 0.00023608, 0.0002394 ,\n",
       "        0.00023327, 0.00024086, 0.00023828, 0.00024041, 0.00024043,\n",
       "        0.00023966, 0.00023617, 0.00023066, 0.00022378, 0.00024082,\n",
       "        0.00024054, 0.00023934, 0.00023923, 0.00023814, 0.0002397 ,\n",
       "        0.00024071, 0.00024083, 0.00023756, 0.00024081, 0.00024011,\n",
       "        0.0002403 , 0.00024085, 0.00024082, 0.00024082, 0.00023681,\n",
       "        0.00024077, 0.0002343 , 0.0002384 , 0.00023868, 0.00023996,\n",
       "        0.00024068, 0.00024058, 0.00023959, 0.00023716, 0.00023548,\n",
       "        0.0002405 , 0.00024052, 0.00024058, 0.00024084, 0.00024042,\n",
       "        0.00024065, 0.00024011, 0.00022343, 0.00024087, 0.00020982,\n",
       "        0.00024075, 0.00024071, 0.00023299, 0.0002399 , 0.00023942,\n",
       "        0.00023783, 0.00024088, 0.00023833, 0.00023939, 0.0002392 ,\n",
       "        0.00023994, 0.00024082, 0.00022836, 0.00024033, 0.00024068,\n",
       "        0.00024073, 0.00023264, 0.00024087, 0.00023179, 0.00024011,\n",
       "        0.00023965, 0.00020789, 0.00024023, 0.00024083, 0.00024046,\n",
       "        0.00024082, 0.00024047, 0.00024   , 0.00024084, 0.00023796,\n",
       "        0.00022484, 0.00023911, 0.00024052, 0.00023968, 0.00023961]))"
      ]
     },
     "execution_count": 38,
     "metadata": {},
     "output_type": "execute_result"
    }
   ],
   "source": [
    "m, std = gaussianProcessRegressor_y1.predict(x, return_std=True)\n",
    "m, std"
   ]
  },
  {
   "cell_type": "code",
   "execution_count": 39,
   "id": "4ae4bb30",
   "metadata": {},
   "outputs": [
    {
     "data": {
      "text/plain": [
       "(array([23234931.5661938 , 23234209.55207624, 23235320.51811856,\n",
       "        23233816.10489636, 23236481.45563307, 23235702.7963833 ,\n",
       "        23234349.10107119, 23233706.6510722 , 23232459.68923299,\n",
       "        23233714.90615416, 23235637.81356643, 23233024.48942355,\n",
       "        23235929.53405555, 23235104.00309398, 23236602.38928251,\n",
       "        23235081.84447247, 23234861.39400398, 23233658.20374422,\n",
       "        23234111.75081616, 23234737.79290875, 23234260.33443259,\n",
       "        23235076.79647023, 23235813.00382766, 23233272.47354869,\n",
       "        23233067.24455168, 23234313.41817789, 23234876.28719698,\n",
       "        23233180.0123767 , 23234819.24625159, 23233957.0764161 ,\n",
       "        23232908.89537481, 23234770.27673857, 23236342.26162861,\n",
       "        23236128.15424662, 23234555.72530779, 23237148.93631208,\n",
       "        23236176.17371664, 23233552.89884736, 23235653.58440166,\n",
       "        23234586.99830491, 23231861.57319217, 23234377.67994055,\n",
       "        23235702.70602736, 23233354.69779154, 23235170.10992999,\n",
       "        23235628.53041637, 23235748.39711351, 23235646.4874554 ,\n",
       "        23232653.20803693, 23236997.4764746 , 23237861.43629978,\n",
       "        23233469.63756729, 23234554.25637284, 23234956.81881665,\n",
       "        23234419.75973182, 23234780.18948131, 23233800.89747527,\n",
       "        23233987.46856644, 23236134.9664437 , 23236235.25350215,\n",
       "        23233489.74076015, 23234710.93587749, 23234654.84108074,\n",
       "        23235455.31079673, 23235364.12451034, 23234257.85931603,\n",
       "        23237870.09503585, 23235487.62568664, 23237228.61303578,\n",
       "        23233313.56786378, 23233304.71699873, 23233777.06221452,\n",
       "        23233526.40981851, 23234727.87695081, 23235052.3312954 ,\n",
       "        23233214.41349641, 23234767.58223713, 23233387.33306107,\n",
       "        23235283.44780716, 23236922.23903661, 23232488.27726259,\n",
       "        23234128.3295622 , 23235418.50138564, 23233450.62616575,\n",
       "        23234475.94448519, 23232973.15530673, 23234505.02585161,\n",
       "        23233774.6076292 , 23236209.0646091 , 23232872.40388174,\n",
       "        23234480.61857842, 23231868.45975446, 23232189.08912244,\n",
       "        23235847.0490467 , 23234175.81396915, 23235831.00168513,\n",
       "        23232883.65421102, 23234381.94283435, 23235527.41623491,\n",
       "        23235060.67821254]),\n",
       " array([2.20414134e+08, 2.20418264e+08, 2.20421663e+08, 2.20426657e+08,\n",
       "        2.20425696e+08, 2.20423087e+08, 2.20423024e+08, 2.20428507e+08,\n",
       "        2.20423324e+08, 2.20417313e+08, 2.20427377e+08, 2.20421144e+08,\n",
       "        2.20417931e+08, 2.20421481e+08, 2.20420011e+08, 2.20419248e+08,\n",
       "        2.20422002e+08, 2.20418701e+08, 2.20414350e+08, 2.20416597e+08,\n",
       "        2.20415848e+08, 2.20425005e+08, 2.20416040e+08, 2.20421361e+08,\n",
       "        2.20423051e+08, 2.20419121e+08, 2.20418614e+08, 2.20420890e+08,\n",
       "        2.20412500e+08, 2.20426698e+08, 2.20425463e+08, 2.20422569e+08,\n",
       "        2.20419106e+08, 2.20418145e+08, 2.20419458e+08, 2.20426795e+08,\n",
       "        2.20424279e+08, 2.20419206e+08, 2.20421872e+08, 2.20423155e+08,\n",
       "        2.20424902e+08, 2.20424093e+08, 2.20423908e+08, 2.20425679e+08,\n",
       "        2.20416649e+08, 2.20427209e+08, 2.20414434e+08, 2.20417722e+08,\n",
       "        2.20420871e+08, 2.20420738e+08, 2.20430027e+08, 2.20422591e+08,\n",
       "        2.20418156e+08, 2.20414802e+08, 2.20414489e+08, 2.20420606e+08,\n",
       "        2.20423288e+08, 2.20422397e+08, 2.20423700e+08, 2.20420692e+08,\n",
       "        2.20422265e+08, 2.20425013e+08, 2.20414233e+08, 2.20425516e+08,\n",
       "        2.20416175e+08, 2.20420478e+08, 2.20427482e+08, 2.20414875e+08,\n",
       "        2.20424131e+08, 2.20417546e+08, 2.20419184e+08, 2.20432178e+08,\n",
       "        2.20422291e+08, 2.20417489e+08, 2.20420140e+08, 2.20420137e+08,\n",
       "        2.20424888e+08, 2.20418864e+08, 2.20420067e+08, 2.20426036e+08,\n",
       "        2.20423136e+08, 2.20414909e+08, 2.20424451e+08, 2.20419134e+08,\n",
       "        2.20419780e+08, 2.20419042e+08, 2.20413441e+08, 2.20420176e+08,\n",
       "        2.20425831e+08, 2.20426390e+08, 2.20427183e+08, 2.20425936e+08,\n",
       "        2.20423302e+08, 2.20422417e+08, 2.20414266e+08, 2.20417175e+08,\n",
       "        2.20419996e+08, 2.20421832e+08, 2.20416174e+08, 2.20420808e+08]))"
      ]
     },
     "execution_count": 39,
     "metadata": {},
     "output_type": "execute_result"
    }
   ],
   "source": [
    "m, std = gaussianProcessRegressor_y2.predict(x, return_std=True)\n",
    "m, std"
   ]
  },
  {
   "cell_type": "markdown",
   "id": "8ce2fc14",
   "metadata": {},
   "source": [
    "#### from the data \n",
    "as one can see x ranges from [0,1] bc LHS. F1 seems to get values with mean of about 0.35 and f2 with way bigger numbers. So should one normalize f2 separetely or to do what with this big difference ?"
   ]
  },
  {
   "cell_type": "markdown",
   "id": "d0424656",
   "metadata": {},
   "source": [
    "## F1 with GPR"
   ]
  },
  {
   "cell_type": "code",
   "execution_count": 231,
   "id": "3d2f0919",
   "metadata": {
    "scrolled": true
   },
   "outputs": [
    {
     "name": "stdout",
     "output_type": "stream",
     "text": [
      "[0.9996066  0.99985174 0.99895904 0.99975568 0.99992012]\n",
      "7.926660062146229e-08\n"
     ]
    }
   ],
   "source": [
    "from sklearn.model_selection import cross_val_score\n",
    "\n",
    "gpr = GPR()\n",
    "gpr.fit(x,func1)\n",
    "\n",
    "# this is jsut using cross val score. But need to do the splitting? \n",
    "scores = cross_val_score(gpr, x, func1, cv=5, scoring='r2')\n",
    "print(scores)\n",
    "\n",
    "m, std = gpr.predict(x, return_std=True)\n",
    "print(mean_squared_error(m,func1, squared=False)) # dunno if this correct ?\n",
    "# print(r2_score(mean, func1))"
   ]
  },
  {
   "cell_type": "markdown",
   "id": "7e119465",
   "metadata": {},
   "source": [
    "## F1 with RF"
   ]
  },
  {
   "cell_type": "code",
   "execution_count": 232,
   "id": "d2b26ecd",
   "metadata": {},
   "outputs": [
    {
     "name": "stdout",
     "output_type": "stream",
     "text": [
      "[0.9304012  0.87473371 0.74688544 0.86391013 0.92384354]\n",
      "0.03684535544060995\n"
     ]
    }
   ],
   "source": [
    "from sklearn.ensemble import RandomForestRegressor\n",
    "\n",
    "regr = RandomForestRegressor(random_state=7)\n",
    "regr.fit(x, func1)\n",
    "scores = cross_val_score(regr, x, func1, cv=5, scoring='r2')\n",
    "print(scores)\n",
    "rm = regr.predict(x)\n",
    "print(mean_squared_error(rm,func1, squared=False))\n",
    "#print(r2_score(rm, func1))"
   ]
  },
  {
   "cell_type": "markdown",
   "id": "6d843f0c",
   "metadata": {},
   "source": [
    "## F2 with GPR"
   ]
  },
  {
   "cell_type": "code",
   "execution_count": 233,
   "id": "7f532370",
   "metadata": {},
   "outputs": [
    {
     "name": "stdout",
     "output_type": "stream",
     "text": [
      "[-1.56805751e+10 -1.16227983e+05 -4.03055748e+05 -5.39012560e-02\n",
      " -2.57163880e+07]\n",
      "53.20269192003474\n"
     ]
    }
   ],
   "source": [
    "gpr2 = GPR()\n",
    "#gpr2 = GPR(normalize_y=True)\n",
    "gpr2.fit(x,func2)\n",
    "\n",
    "# this is jsut using cross val score. But need to do the splitting? \n",
    "scores2 = cross_val_score(gpr2, x, func2, cv=5, scoring='r2')\n",
    "print(scores2)\n",
    "\n",
    "m2, std = gpr2.predict(x, return_std=True)\n",
    "print(mean_squared_error(m2,func2, squared=False)) # dunno if this correct ?"
   ]
  },
  {
   "cell_type": "markdown",
   "id": "6b651da9",
   "metadata": {},
   "source": [
    "## F2 with RF"
   ]
  },
  {
   "cell_type": "code",
   "execution_count": 234,
   "id": "8394bf5b",
   "metadata": {},
   "outputs": [
    {
     "name": "stdout",
     "output_type": "stream",
     "text": [
      "[-1.54371871e+00 -4.88578321e+03 -1.32843025e+03 -4.84898502e-02\n",
      "  1.62984707e-01]\n",
      "869825.7256647566\n"
     ]
    }
   ],
   "source": [
    "regr2 = RandomForestRegressor(random_state=7)\n",
    "regr2.fit(x, func2)\n",
    "\n",
    "rscores2 = cross_val_score(regr2, x, func2, cv=5, scoring='r2')\n",
    "print(rscores2)\n",
    "\n",
    "rm2 = regr2.predict(x)\n",
    "print(mean_squared_error(rm2,func2, squared=False))\n",
    "#print(r2_score(rm2, func2))"
   ]
  },
  {
   "cell_type": "markdown",
   "id": "5b4eebea",
   "metadata": {},
   "source": [
    "## Get test samples"
   ]
  },
  {
   "cell_type": "code",
   "execution_count": 40,
   "id": "74058d78",
   "metadata": {
    "scrolled": false
   },
   "outputs": [
    {
     "name": "stdout",
     "output_type": "stream",
     "text": [
      "Means of test objective values with test samples f1: 0.383279562377923 and f2: 329222585.8429057\n"
     ]
    },
    {
     "data": {
      "text/html": [
       "<div>\n",
       "<style scoped>\n",
       "    .dataframe tbody tr th:only-of-type {\n",
       "        vertical-align: middle;\n",
       "    }\n",
       "\n",
       "    .dataframe tbody tr th {\n",
       "        vertical-align: top;\n",
       "    }\n",
       "\n",
       "    .dataframe thead th {\n",
       "        text-align: right;\n",
       "    }\n",
       "</style>\n",
       "<table border=\"1\" class=\"dataframe\">\n",
       "  <thead>\n",
       "    <tr style=\"text-align: right;\">\n",
       "      <th></th>\n",
       "      <th>h</th>\n",
       "      <th>l</th>\n",
       "      <th>t</th>\n",
       "      <th>b</th>\n",
       "      <th>f1</th>\n",
       "      <th>f2</th>\n",
       "    </tr>\n",
       "  </thead>\n",
       "  <tbody>\n",
       "    <tr>\n",
       "      <th>0</th>\n",
       "      <td>0.563538</td>\n",
       "      <td>0.208288</td>\n",
       "      <td>0.264922</td>\n",
       "      <td>0.324709</td>\n",
       "      <td>0.131875</td>\n",
       "      <td>36.351602</td>\n",
       "    </tr>\n",
       "    <tr>\n",
       "      <th>1</th>\n",
       "      <td>0.655374</td>\n",
       "      <td>0.495457</td>\n",
       "      <td>0.868391</td>\n",
       "      <td>0.343040</td>\n",
       "      <td>0.442833</td>\n",
       "      <td>0.976970</td>\n",
       "    </tr>\n",
       "    <tr>\n",
       "      <th>2</th>\n",
       "      <td>0.128710</td>\n",
       "      <td>0.224082</td>\n",
       "      <td>0.699472</td>\n",
       "      <td>0.890044</td>\n",
       "      <td>0.430132</td>\n",
       "      <td>0.720525</td>\n",
       "    </tr>\n",
       "    <tr>\n",
       "      <th>3</th>\n",
       "      <td>0.421948</td>\n",
       "      <td>0.345727</td>\n",
       "      <td>0.143778</td>\n",
       "      <td>0.433464</td>\n",
       "      <td>0.111012</td>\n",
       "      <td>170.350467</td>\n",
       "    </tr>\n",
       "    <tr>\n",
       "      <th>4</th>\n",
       "      <td>0.778437</td>\n",
       "      <td>0.689512</td>\n",
       "      <td>0.849889</td>\n",
       "      <td>0.360994</td>\n",
       "      <td>0.678392</td>\n",
       "      <td>0.990342</td>\n",
       "    </tr>\n",
       "  </tbody>\n",
       "</table>\n",
       "</div>"
      ],
      "text/plain": [
       "          h         l         t         b        f1          f2\n",
       "0  0.563538  0.208288  0.264922  0.324709  0.131875   36.351602\n",
       "1  0.655374  0.495457  0.868391  0.343040  0.442833    0.976970\n",
       "2  0.128710  0.224082  0.699472  0.890044  0.430132    0.720525\n",
       "3  0.421948  0.345727  0.143778  0.433464  0.111012  170.350467\n",
       "4  0.778437  0.689512  0.849889  0.360994  0.678392    0.990342"
      ]
     },
     "execution_count": 40,
     "metadata": {},
     "output_type": "execute_result"
    }
   ],
   "source": [
    "# gen the test data\n",
    "\n",
    "x_test = create_samples(50)\n",
    "func_test1 = f1(x_test)\n",
    "func_test2 = f2(x_test)\n",
    "f1t_mean = func_test1.mean()\n",
    "f2t_mean = func_test2.mean()\n",
    "print(f\"Means of test objective values with test samples f1: {f1t_mean} and f2: {f2t_mean}\")\n",
    "f_test = np.vstack((func_test1, func_test2)).T\n",
    "test_data = pd.DataFrame(np.hstack((x_test, f_test)), columns=[\"h\", \"l\", \"t\", \"b\", \"f1\", \"f2\"])\n",
    "test_data[:5]"
   ]
  },
  {
   "cell_type": "code",
   "execution_count": 42,
   "id": "c0952c01",
   "metadata": {},
   "outputs": [
    {
     "name": "stdout",
     "output_type": "stream",
     "text": [
      "0.0036963495083106933\n",
      "0.9997958910881756\n"
     ]
    }
   ],
   "source": [
    "mean, std = gaussianProcessRegressor_y1.predict(x_test, return_std=True)\n",
    "print(mean_squared_error(mean,func_test1, squared=False)) # dunno if this correct ?\n",
    "print(r2_score(mean, func_test1))"
   ]
  },
  {
   "cell_type": "code",
   "execution_count": 41,
   "id": "78cf7112",
   "metadata": {},
   "outputs": [
    {
     "name": "stdout",
     "output_type": "stream",
     "text": [
      "2324774192.6438375\n",
      "-5989142724818.657\n"
     ]
    }
   ],
   "source": [
    "mean, std = gaussianProcessRegressor_y2.predict(x_test, return_std=True)\n",
    "print(mean_squared_error(mean,func_test2, squared=False)) # dunno if this correct ?\n",
    "print(r2_score(mean, func_test2))"
   ]
  },
  {
   "cell_type": "markdown",
   "id": "d34bfef5",
   "metadata": {},
   "source": [
    "## GPR F1 TEST"
   ]
  },
  {
   "cell_type": "code",
   "execution_count": 236,
   "id": "7ce99f36",
   "metadata": {
    "scrolled": true
   },
   "outputs": [
    {
     "name": "stdout",
     "output_type": "stream",
     "text": [
      "0.0028721956277529335\n",
      "0.999881178980473\n"
     ]
    }
   ],
   "source": [
    "mean, std = gpr.predict(x_test, return_std=True)\n",
    "print(mean_squared_error(mean,func_test1, squared=False)) # dunno if this correct ?\n",
    "print(r2_score(mean, func_test1))"
   ]
  },
  {
   "cell_type": "markdown",
   "id": "af9506a8",
   "metadata": {},
   "source": [
    "## RF F1 TEST"
   ]
  },
  {
   "cell_type": "code",
   "execution_count": 237,
   "id": "072c2142",
   "metadata": {},
   "outputs": [
    {
     "name": "stdout",
     "output_type": "stream",
     "text": [
      "0.0896142328508594\n",
      "0.8131621493260025\n"
     ]
    }
   ],
   "source": [
    "rmean = regr.predict(x_test)\n",
    "print(mean_squared_error(rmean,func_test1, squared=False)) # dunno if this correct ?\n",
    "print(r2_score(rmean, func_test1))"
   ]
  },
  {
   "cell_type": "markdown",
   "id": "b235198a",
   "metadata": {},
   "source": [
    "## GPR F2 TEST"
   ]
  },
  {
   "cell_type": "code",
   "execution_count": 238,
   "id": "35ecd8a5",
   "metadata": {},
   "outputs": [
    {
     "name": "stdout",
     "output_type": "stream",
     "text": [
      "5667383.045929776\n",
      "-0.001482976046963902\n"
     ]
    }
   ],
   "source": [
    "mean2, std2 = gpr2.predict(x_test,return_std=True)\n",
    "print(mean_squared_error(mean2,func_test2, squared=False))\n",
    "print(r2_score(mean2, func_test2))"
   ]
  },
  {
   "cell_type": "markdown",
   "id": "424e70b2",
   "metadata": {},
   "source": [
    "## RF F2 TEST"
   ]
  },
  {
   "cell_type": "code",
   "execution_count": 239,
   "id": "b2db1d1b",
   "metadata": {},
   "outputs": [
    {
     "name": "stdout",
     "output_type": "stream",
     "text": [
      "466451.9728315159\n",
      "0.15984132791606342\n"
     ]
    }
   ],
   "source": [
    "rmean2 = regr2.predict(x_test)\n",
    "print(mean_squared_error(rmean2,func_test2, squared=False))\n",
    "print(r2_score(rmean2, func_test2))"
   ]
  },
  {
   "cell_type": "markdown",
   "id": "01598385",
   "metadata": {},
   "source": [
    "## TODO:\n",
    "\n",
    "to me the above looks correctly done BUT gpr1 seems to be too good and gpr2 seems to be too bad?\n",
    "\n",
    "if f2 has smaller mean that test_f2, our r2 goes negative. DUnno what to do with this\n",
    "\n",
    "\n",
    "Atleast random forests are consistent with the issue. Even though wont be as good for f1, still bad for f2 and in the same way.\n",
    "\n",
    "RF seems to work better f2, especially if train and test set has similar magnitude mean. This sounds like I should someway properly do the normalization."
   ]
  },
  {
   "cell_type": "code",
   "execution_count": null,
   "id": "7e603bb6",
   "metadata": {},
   "outputs": [],
   "source": []
  },
  {
   "cell_type": "code",
   "execution_count": 84,
   "id": "1ed03fe6",
   "metadata": {},
   "outputs": [],
   "source": [
    "\n",
    "## sklearn, with func1\n",
    "#gpr = GPR()\n",
    "#gpr.fit(x,func1)\n",
    "#mean, std = gpr.predict(x, return_std=True)\n",
    "#print(mean_squared_error(mean,func1)) # dunno if this correct ?\n",
    "#print(r2_score(mean, func1))"
   ]
  },
  {
   "cell_type": "code",
   "execution_count": 86,
   "id": "f1818916",
   "metadata": {},
   "outputs": [],
   "source": [
    "## sklearn, with func2\n",
    "#gpr = GPR()\n",
    "#gpr.fit(x,func2)\n",
    "#mean, std = gpr.predict(x, return_std=True)\n",
    "#print(mean_squared_error(mean,func2))\n",
    "#print(r2_score(mean, func2))"
   ]
  },
  {
   "cell_type": "markdown",
   "id": "4aa36342",
   "metadata": {},
   "source": [
    "### RF from sklearn \n",
    "- TODO : kfold cross validation "
   ]
  },
  {
   "cell_type": "code",
   "execution_count": 26,
   "id": "9230536f",
   "metadata": {},
   "outputs": [
    {
     "name": "stdout",
     "output_type": "stream",
     "text": [
      "0.0015696025359983495\n",
      "0.9764521506416795\n"
     ]
    }
   ],
   "source": [
    "from sklearn.ensemble import RandomForestRegressor\n",
    "\n",
    "regr = RandomForestRegressor(random_state=7)\n",
    "regr.fit(x, func1)\n",
    "m = regr.predict(x)\n",
    "print(mean_squared_error(m,func1))\n",
    "print(r2_score(m, func1))"
   ]
  },
  {
   "cell_type": "code",
   "execution_count": 25,
   "id": "1d9fef28",
   "metadata": {},
   "outputs": [
    {
     "name": "stdout",
     "output_type": "stream",
     "text": [
      "42353013631.449585\n",
      "0.5427258801350856\n"
     ]
    }
   ],
   "source": [
    "regr = RandomForestRegressor(random_state=7)\n",
    "regr.fit(x, func2)\n",
    "m = regr.predict(x)\n",
    "print(mean_squared_error(m,func2))\n",
    "print(r2_score(m, func2))"
   ]
  },
  {
   "cell_type": "markdown",
   "id": "3b3629cb",
   "metadata": {},
   "source": [
    " ## trying with desdeo"
   ]
  },
  {
   "cell_type": "code",
   "execution_count": 92,
   "id": "b4bdda01",
   "metadata": {},
   "outputs": [],
   "source": [
    "problem = DataProblem(data=data, variable_names=[\"h\", \"l\", \"t\", \"b\"], objective_names=[\"f1\", \"f2\"])"
   ]
  },
  {
   "cell_type": "code",
   "execution_count": 93,
   "id": "723aad70",
   "metadata": {},
   "outputs": [],
   "source": [
    "from desdeo_problem.surrogatemodels.SurrogateModels import GaussianProcessRegressor"
   ]
  },
  {
   "cell_type": "code",
   "execution_count": 57,
   "id": "06cadfd6",
   "metadata": {},
   "outputs": [],
   "source": [
    "#\n",
    "# Desdeo styl\n",
    "y = problem.train(gpr)\n",
    "#problem.train(GaussianProcessRegressor)\n",
    "#gpr = GPR()\n",
    "\n",
    "y = problem.train(GPR)\n",
    "y\n",
    "#gpr.score(x,y)"
   ]
  }
 ],
 "metadata": {
  "kernelspec": {
   "display_name": "desdeoENV",
   "language": "python",
   "name": "desdeoenv"
  },
  "language_info": {
   "codemirror_mode": {
    "name": "ipython",
    "version": 3
   },
   "file_extension": ".py",
   "mimetype": "text/x-python",
   "name": "python",
   "nbconvert_exporter": "python",
   "pygments_lexer": "ipython3",
   "version": "3.9.9"
  }
 },
 "nbformat": 4,
 "nbformat_minor": 5
}
