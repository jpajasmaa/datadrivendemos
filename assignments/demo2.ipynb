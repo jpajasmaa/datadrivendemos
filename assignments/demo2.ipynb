{
 "cells": [
  {
   "cell_type": "code",
   "execution_count": 1,
   "id": "a60946af",
   "metadata": {},
   "outputs": [
    {
     "data": {
      "text/html": [
       "<style>.container { width:100% !important; }</style>"
      ],
      "text/plain": [
       "<IPython.core.display.HTML object>"
      ]
     },
     "execution_count": 1,
     "metadata": {},
     "output_type": "execute_result"
    }
   ],
   "source": [
    "from IPython.display import HTML\n",
    "HTML(\"<style>.container { width:100% !important; }</style>\")"
   ]
  },
  {
   "cell_type": "code",
   "execution_count": 2,
   "id": "31129e19",
   "metadata": {},
   "outputs": [],
   "source": [
    "import warnings\n",
    "warnings.filterwarnings('ignore')"
   ]
  },
  {
   "cell_type": "code",
   "execution_count": 3,
   "id": "efd31856",
   "metadata": {},
   "outputs": [],
   "source": [
    "import numpy as np\n",
    "from desdeo_emo.EAs import RVEA, NSGAIII, IBEA\n",
    "from desdeo_problem.testproblems.TestProblems import test_problem_builder\n",
    "from desdeo_problem import DataProblem\n",
    "#from desdeo_problem.testproblems.DBMOPP import DBMOPP\n",
    "from desdeo_tools.utilities import fast_non_dominated_sort, hypervolume_indicator\n",
    "\n",
    "import matplotlib.pyplot as plt\n",
    "import sklearn\n",
    "from pyDOE import lhs\n",
    "import pandas as pd"
   ]
  },
  {
   "cell_type": "code",
   "execution_count": 4,
   "id": "df9b35bb",
   "metadata": {
    "scrolled": true
   },
   "outputs": [],
   "source": [
    "#pip install pyDOE"
   ]
  },
  {
   "cell_type": "code",
   "execution_count": 5,
   "id": "d4c99e4c",
   "metadata": {},
   "outputs": [],
   "source": [
    "#np.sqrt(mean_squared_error(self.y, y_pred))\n",
    "\n",
    "from sklearn.metrics import mean_squared_error, r2_score\n",
    "\n",
    "#r2_score(self.y, y_pred)"
   ]
  },
  {
   "cell_type": "markdown",
   "id": "0b92ba94",
   "metadata": {},
   "source": [
    "## Assignment 2\n",
    "\n",
    "Generate 100 samples (LHS sampling) with the welded beam design problem (K=2, n=4). \n",
    "\n",
    "Build two\n",
    "types of surrogate models for each objective and ﬁnd the R-squared and RMSE for K fold cross\n",
    "validations. \n",
    "\n",
    "Suggest which models to use (for each objective) for performing optimization based on\n",
    "the accuracies. \n",
    "\n",
    "Finally generate 50 more LHS samples and test the models and show their RMSEs\n",
    "\n",
    "\n",
    "- Use DESDEO, sklearn, GPy\n",
    "- Optimize the hyperparameters for Kriging\n",
    "- You can also try to optimize the hyperparameters for random forest"
   ]
  },
  {
   "cell_type": "markdown",
   "id": "dbc76f6b",
   "metadata": {},
   "source": [
    "##### what should be done\n",
    "\n",
    "100 pistettä jakaa Kfold CVllä.. GPR ja Randomforest obj1 ja obj2. Seurata näiden opetus R2 ja RMSE. Sitten optimoida parameterejä kunnes tyytyväinen ja generoida 50 pistettä lisää, joille sama homma. Testata malleja.\n",
    "\n",
    "\n",
    "TODO: \n",
    " optimize krigin params.. \n",
    " f1 näyttää niin hyvältä että sitä ei varmaan tarvitse optimoida pikemminkin vain jos löytää miksi niin hyvä\n",
    " f2 sitä voisi sitten koittaa parantaa. Luulisi että normalisointi auttaiis mutta en tiedä..\n",
    " Onko probleema edes formuloitu oikein kun ei ole og paperia missä biobjective formulointi löytynyt?"
   ]
  },
  {
   "cell_type": "markdown",
   "id": "cfdcb3de",
   "metadata": {},
   "source": [
    "## Result \n",
    "\n",
    "|  |  | Objective 1 K | | Objective 1 RF |  Objective 2 K | Objective 2 RF |\n",
    "| --- | --- | --- | --- | --- | -- | -- |\n",
    "| Kfold CV R^2 |  |  |   |   |   | |\n",
    "| kfold CV RMSE |  |  |  |  |   | |\n",
    "| Test R^2 |  | |  |   |  | |\n",
    "| Test RMSE |  |  |  |   |   | |"
   ]
  },
  {
   "cell_type": "code",
   "execution_count": 6,
   "id": "64e2cfd9",
   "metadata": {},
   "outputs": [],
   "source": [
    "# the problem, should be correct one\n",
    "\n",
    "P = 6000\n",
    "C = 0.000036578 # check if enough zeroes should be 3.6578 times 10^-4\n",
    "\n",
    "def f1(x):\n",
    "    return 1.10471*x[:,0]**2*x[:,1] + 0.04811*x[:,2]*x[:,3]*(14 + x[:,1])\n",
    "\n",
    "\n",
    "def f2(x):\n",
    "    return (P / (x[:,3]*x[:,2]**3)) * C\n"
   ]
  },
  {
   "cell_type": "markdown",
   "id": "7ea56569",
   "metadata": {},
   "source": [
    "The two objectives are the fabrication cost of the beam and the deflection of the end of the beam under the applied load P. The load P is fixed at 6,000 lbs, and the distance L is fixed at 14 in.\n",
    "\n",
    "The design variables are:\n",
    "\n",
    "x(1) = h, the thickness of the welds\n",
    "\n",
    "x(2) = l, the length of the welds\n",
    "\n",
    "x(3) = t, the height of the beam\n",
    "\n",
    "x(4) = b, the width of the beam"
   ]
  },
  {
   "cell_type": "markdown",
   "id": "1a85b4c7",
   "metadata": {},
   "source": [
    "Krigin and Random Forests were suggested.. "
   ]
  },
  {
   "cell_type": "code",
   "execution_count": 7,
   "id": "a94f0008",
   "metadata": {},
   "outputs": [],
   "source": [
    "def create_samples(samples):\n",
    "    # create samples \n",
    "    x = lhs(4, samples)\n",
    "    # could rescale if needed. sklearn GPR assumes that mean is  0 ?\n",
    "    #x = (x - 0.5)\n",
    "    return x"
   ]
  },
  {
   "cell_type": "markdown",
   "id": "e308fbdb",
   "metadata": {},
   "source": [
    "### GRP from sklearn \n",
    "- TODO : kfold cross validation "
   ]
  },
  {
   "cell_type": "code",
   "execution_count": 8,
   "id": "11f17d33",
   "metadata": {},
   "outputs": [],
   "source": [
    "from sklearn.pipeline import Pipeline\n",
    "\n",
    "from sklearn.gaussian_process.kernels import RBF, ExpSineSquared, WhiteKernel, RationalQuadratic, DotProduct, ConstantKernel, Matern"
   ]
  },
  {
   "cell_type": "code",
   "execution_count": 9,
   "id": "c375874e",
   "metadata": {},
   "outputs": [],
   "source": [
    "def rmse(predictions, targets):\n",
    "    return np.sqrt(((predictions - targets) ** 2).mean())"
   ]
  },
  {
   "cell_type": "markdown",
   "id": "e1105b5d",
   "metadata": {},
   "source": [
    "## CREATE SAMPLES WITH LHS\n",
    "\n",
    "it really should just be as simple as below ?!\n",
    "https://scikit-learn.org/stable/modules/cross_validation.html"
   ]
  },
  {
   "cell_type": "code",
   "execution_count": 49,
   "id": "72a63243",
   "metadata": {
    "scrolled": true
   },
   "outputs": [
    {
     "name": "stdout",
     "output_type": "stream",
     "text": [
      "Means of objective values with samples f1: 0.3349113620411198 and f2: 11301.56268934375\n"
     ]
    },
    {
     "data": {
      "text/html": [
       "<div>\n",
       "<style scoped>\n",
       "    .dataframe tbody tr th:only-of-type {\n",
       "        vertical-align: middle;\n",
       "    }\n",
       "\n",
       "    .dataframe tbody tr th {\n",
       "        vertical-align: top;\n",
       "    }\n",
       "\n",
       "    .dataframe thead th {\n",
       "        text-align: right;\n",
       "    }\n",
       "</style>\n",
       "<table border=\"1\" class=\"dataframe\">\n",
       "  <thead>\n",
       "    <tr style=\"text-align: right;\">\n",
       "      <th></th>\n",
       "      <th>h</th>\n",
       "      <th>l</th>\n",
       "      <th>t</th>\n",
       "      <th>b</th>\n",
       "      <th>f1</th>\n",
       "      <th>f2</th>\n",
       "    </tr>\n",
       "  </thead>\n",
       "  <tbody>\n",
       "    <tr>\n",
       "      <th>0</th>\n",
       "      <td>0.393126</td>\n",
       "      <td>0.599178</td>\n",
       "      <td>0.547354</td>\n",
       "      <td>0.342836</td>\n",
       "      <td>0.234099</td>\n",
       "      <td>3.903735</td>\n",
       "    </tr>\n",
       "    <tr>\n",
       "      <th>1</th>\n",
       "      <td>0.346647</td>\n",
       "      <td>0.812066</td>\n",
       "      <td>0.553611</td>\n",
       "      <td>0.299163</td>\n",
       "      <td>0.225821</td>\n",
       "      <td>4.323646</td>\n",
       "    </tr>\n",
       "    <tr>\n",
       "      <th>2</th>\n",
       "      <td>0.988790</td>\n",
       "      <td>0.031050</td>\n",
       "      <td>0.191425</td>\n",
       "      <td>0.492253</td>\n",
       "      <td>0.097144</td>\n",
       "      <td>63.560791</td>\n",
       "    </tr>\n",
       "    <tr>\n",
       "      <th>3</th>\n",
       "      <td>0.810163</td>\n",
       "      <td>0.554175</td>\n",
       "      <td>0.959442</td>\n",
       "      <td>0.764266</td>\n",
       "      <td>0.915263</td>\n",
       "      <td>0.325140</td>\n",
       "    </tr>\n",
       "    <tr>\n",
       "      <th>4</th>\n",
       "      <td>0.589279</td>\n",
       "      <td>0.621323</td>\n",
       "      <td>0.927859</td>\n",
       "      <td>0.607913</td>\n",
       "      <td>0.635122</td>\n",
       "      <td>0.451943</td>\n",
       "    </tr>\n",
       "  </tbody>\n",
       "</table>\n",
       "</div>"
      ],
      "text/plain": [
       "          h         l         t         b        f1         f2\n",
       "0  0.393126  0.599178  0.547354  0.342836  0.234099   3.903735\n",
       "1  0.346647  0.812066  0.553611  0.299163  0.225821   4.323646\n",
       "2  0.988790  0.031050  0.191425  0.492253  0.097144  63.560791\n",
       "3  0.810163  0.554175  0.959442  0.764266  0.915263   0.325140\n",
       "4  0.589279  0.621323  0.927859  0.607913  0.635122   0.451943"
      ]
     },
     "execution_count": 49,
     "metadata": {},
     "output_type": "execute_result"
    }
   ],
   "source": [
    "x = create_samples(100)\n",
    "func1 = f1(x)\n",
    "func2 = f2(x)\n",
    "f = np.vstack((func1, func2)).T\n",
    "\n",
    "data = pd.DataFrame(np.hstack((x, f)), columns=[\"h\", \"l\", \"t\", \"b\", \"f1\", \"f2\"])\n",
    "f1_mean = func1.mean()\n",
    "f2_mean = func2.mean()\n",
    "print(f\"Means of objective values with samples f1: {f1_mean} and f2: {f2_mean}\")\n",
    "data[:5]"
   ]
  },
  {
   "cell_type": "code",
   "execution_count": 51,
   "id": "3881ac16",
   "metadata": {},
   "outputs": [],
   "source": [
    "from sklearn.preprocessing import MinMaxScaler\n",
    "\n",
    "# as assumed works with train but if new samples wont get scaled worse results\n",
    "#sc = MinMaxScaler()\n",
    "#f = sc.fit_transform(f)"
   ]
  },
  {
   "cell_type": "markdown",
   "id": "8ce2fc14",
   "metadata": {},
   "source": [
    "#### from the data \n",
    "as one can see x ranges from [0,1] bc LHS. F1 seems to get values with mean of about 0.35 and f2 with way bigger numbers. So should one normalize f2 separetely or to do what with this big difference ?"
   ]
  },
  {
   "cell_type": "code",
   "execution_count": 52,
   "id": "b9f1313e",
   "metadata": {
    "scrolled": false
   },
   "outputs": [
    {
     "name": "stdout",
     "output_type": "stream",
     "text": [
      "GaussianProcessRegressor(alpha=1e-06, kernel=RBF(length_scale=1),\n",
      "                         n_restarts_optimizer=1, normalize_y=True,\n",
      "                         random_state=7)\n",
      "GaussianProcessRegressor(alpha=0.01,\n",
      "                         kernel=RationalQuadratic(alpha=1, length_scale=1),\n",
      "                         n_restarts_optimizer=1, normalize_y=True,\n",
      "                         random_state=7)\n"
     ]
    }
   ],
   "source": [
    "from sklearn.gaussian_process import kernels\n",
    "from sklearn.model_selection import GridSearchCV\n",
    "from sklearn.model_selection import cross_val_score\n",
    "from sklearn.gaussian_process import GaussianProcessRegressor as GPR\n",
    "\n",
    "from sklearn.model_selection import train_test_split\n",
    "\n",
    "x, x_test, f, y_test = train_test_split(x, f, test_size=0.20, random_state=7)\n",
    "\n",
    "func1 = f[:,0] # train ys\n",
    "func2 = f[:,1]\n",
    "\n",
    "y1 = y_test[:,0] # test ys\n",
    "y2 = y_test[:,1]\n",
    "\n",
    "seed = 7\n",
    "\n",
    "parameters = {\n",
    "    \"alpha\": [1e-10, 1e-8, 1e-6, 1e-4,\n",
    "                1e-2, 1e-0, 1e2, 1e4],\n",
    "    \"kernel\": [\n",
    "        kernels.RBF(length_scale_bounds=(1e-10, 1000000)),\n",
    "        kernels.RationalQuadratic(length_scale_bounds=(1e-10, 1000000)),\n",
    "        kernels.DotProduct(sigma_0_bounds=(1e-10, 1000000)),\n",
    "        kernels.Matern(length_scale_bounds=(1e-10, 1000000)),\n",
    "        kernels.ExpSineSquared(length_scale_bounds=(1e-10, 1000000))\n",
    "    ]\n",
    "}\n",
    "\n",
    "# GridSearchCV does crossvalidation\n",
    "gpr = GridSearchCV(GPR(normalize_y=True, n_restarts_optimizer=1,random_state=seed), parameters, cv=10)\n",
    "\n",
    "gpr2 = GridSearchCV(GPR(normalize_y=True,n_restarts_optimizer=1,random_state=seed), parameters, cv=10)\n",
    "\n",
    "# fit best parameters\n",
    "gpr.fit(x, func1)\n",
    "gpr = gpr.best_estimator_\n",
    "print(gpr)\n",
    "\n",
    "gpr2.fit(x, func2)\n",
    "gpr2 = gpr2.best_estimator_\n",
    "print(gpr2)"
   ]
  },
  {
   "cell_type": "code",
   "execution_count": 53,
   "id": "5f7d6618",
   "metadata": {},
   "outputs": [
    {
     "name": "stdout",
     "output_type": "stream",
     "text": [
      "0.008538916592643594\n",
      "0.9983027103242501\n"
     ]
    }
   ],
   "source": [
    "m, std = gpr.predict(x_test, return_std=True)\n",
    "print(mean_squared_error(m,y1, squared=False)) # dunno if this correct ?\n",
    "print(r2_score(m, y1))"
   ]
  },
  {
   "cell_type": "code",
   "execution_count": 54,
   "id": "1110d322",
   "metadata": {},
   "outputs": [
    {
     "name": "stdout",
     "output_type": "stream",
     "text": [
      "0.013301647640069716\n",
      "-1.852698647271667\n"
     ]
    }
   ],
   "source": [
    "m2, std = gpr2.predict(x_test, return_std=True)\n",
    "print(mean_squared_error(m2, y2, squared=False))\n",
    "print(r2_score(m2, y2))"
   ]
  },
  {
   "cell_type": "markdown",
   "id": "d0424656",
   "metadata": {},
   "source": [
    "## F1 with GPR"
   ]
  },
  {
   "cell_type": "code",
   "execution_count": 231,
   "id": "3d2f0919",
   "metadata": {
    "scrolled": true
   },
   "outputs": [
    {
     "name": "stdout",
     "output_type": "stream",
     "text": [
      "[0.9996066  0.99985174 0.99895904 0.99975568 0.99992012]\n",
      "7.926660062146229e-08\n"
     ]
    }
   ],
   "source": [
    "\n",
    "\n",
    "gpr = GPR()\n",
    "gpr.fit(x,func1)\n",
    "\n",
    "# this is jsut using cross val score. But need to do the splitting? \n",
    "scores = cross_val_score(gpr, x, func1, cv=5, scoring='r2')\n",
    "print(scores)\n",
    "\n",
    "m, std = gpr.predict(x, return_std=True)\n",
    "print(mean_squared_error(m,func1, squared=False)) # dunno if this correct ?\n",
    "print(r2_score(mean, func1))"
   ]
  },
  {
   "cell_type": "markdown",
   "id": "7e119465",
   "metadata": {},
   "source": [
    "## F1 with RF"
   ]
  },
  {
   "cell_type": "code",
   "execution_count": 232,
   "id": "d2b26ecd",
   "metadata": {},
   "outputs": [
    {
     "name": "stdout",
     "output_type": "stream",
     "text": [
      "[0.9304012  0.87473371 0.74688544 0.86391013 0.92384354]\n",
      "0.03684535544060995\n"
     ]
    }
   ],
   "source": [
    "from sklearn.ensemble import RandomForestRegressor\n",
    "\n",
    "regr = RandomForestRegressor(random_state=7)\n",
    "regr.fit(x, func1)\n",
    "scores = cross_val_score(regr, x, func1, cv=5, scoring='r2')\n",
    "print(scores)\n",
    "rm = regr.predict(x)\n",
    "print(mean_squared_error(rm,func1, squared=False))\n",
    "#print(r2_score(rm, func1))"
   ]
  },
  {
   "cell_type": "markdown",
   "id": "6d843f0c",
   "metadata": {},
   "source": [
    "## F2 with GPR"
   ]
  },
  {
   "cell_type": "code",
   "execution_count": 233,
   "id": "7f532370",
   "metadata": {},
   "outputs": [
    {
     "name": "stdout",
     "output_type": "stream",
     "text": [
      "[-1.56805751e+10 -1.16227983e+05 -4.03055748e+05 -5.39012560e-02\n",
      " -2.57163880e+07]\n",
      "53.20269192003474\n"
     ]
    }
   ],
   "source": [
    "gpr2 = GPR()\n",
    "#gpr2 = GPR(normalize_y=True)\n",
    "gpr2.fit(x,func2)\n",
    "\n",
    "# this is jsut using cross val score. But need to do the splitting? \n",
    "scores2 = cross_val_score(gpr2, x, func2, cv=5, scoring='r2')\n",
    "print(scores2)\n",
    "\n",
    "m2, std = gpr2.predict(x, return_std=True)\n",
    "print(mean_squared_error(m2,func2, squared=False)) # dunno if this correct ?"
   ]
  },
  {
   "cell_type": "markdown",
   "id": "6b651da9",
   "metadata": {},
   "source": [
    "## F2 with RF"
   ]
  },
  {
   "cell_type": "code",
   "execution_count": 234,
   "id": "8394bf5b",
   "metadata": {},
   "outputs": [
    {
     "name": "stdout",
     "output_type": "stream",
     "text": [
      "[-1.54371871e+00 -4.88578321e+03 -1.32843025e+03 -4.84898502e-02\n",
      "  1.62984707e-01]\n",
      "869825.7256647566\n"
     ]
    }
   ],
   "source": [
    "regr2 = RandomForestRegressor(random_state=7)\n",
    "regr2.fit(x, func2)\n",
    "\n",
    "rscores2 = cross_val_score(regr2, x, func2, cv=5, scoring='r2')\n",
    "print(rscores2)\n",
    "\n",
    "rm2 = regr2.predict(x)\n",
    "print(mean_squared_error(rm2,func2, squared=False))\n",
    "#print(r2_score(rm2, func2))"
   ]
  },
  {
   "cell_type": "markdown",
   "id": "5b4eebea",
   "metadata": {},
   "source": [
    "## Get test samples"
   ]
  },
  {
   "cell_type": "code",
   "execution_count": 55,
   "id": "74058d78",
   "metadata": {
    "scrolled": false
   },
   "outputs": [
    {
     "name": "stdout",
     "output_type": "stream",
     "text": [
      "Means of test objective values with test samples f1: 0.36090846981946767 and f2: 4432.3807765978145\n"
     ]
    },
    {
     "data": {
      "text/html": [
       "<div>\n",
       "<style scoped>\n",
       "    .dataframe tbody tr th:only-of-type {\n",
       "        vertical-align: middle;\n",
       "    }\n",
       "\n",
       "    .dataframe tbody tr th {\n",
       "        vertical-align: top;\n",
       "    }\n",
       "\n",
       "    .dataframe thead th {\n",
       "        text-align: right;\n",
       "    }\n",
       "</style>\n",
       "<table border=\"1\" class=\"dataframe\">\n",
       "  <thead>\n",
       "    <tr style=\"text-align: right;\">\n",
       "      <th></th>\n",
       "      <th>h</th>\n",
       "      <th>l</th>\n",
       "      <th>t</th>\n",
       "      <th>b</th>\n",
       "      <th>f1</th>\n",
       "      <th>f2</th>\n",
       "    </tr>\n",
       "  </thead>\n",
       "  <tbody>\n",
       "    <tr>\n",
       "      <th>0</th>\n",
       "      <td>0.349439</td>\n",
       "      <td>0.398685</td>\n",
       "      <td>0.503116</td>\n",
       "      <td>0.718311</td>\n",
       "      <td>0.304125</td>\n",
       "      <td>2.399137</td>\n",
       "    </tr>\n",
       "    <tr>\n",
       "      <th>1</th>\n",
       "      <td>0.218137</td>\n",
       "      <td>0.514260</td>\n",
       "      <td>0.986138</td>\n",
       "      <td>0.031180</td>\n",
       "      <td>0.048503</td>\n",
       "      <td>7.339804</td>\n",
       "    </tr>\n",
       "    <tr>\n",
       "      <th>2</th>\n",
       "      <td>0.251976</td>\n",
       "      <td>0.102797</td>\n",
       "      <td>0.632866</td>\n",
       "      <td>0.499367</td>\n",
       "      <td>0.221634</td>\n",
       "      <td>1.733868</td>\n",
       "    </tr>\n",
       "    <tr>\n",
       "      <th>3</th>\n",
       "      <td>0.795385</td>\n",
       "      <td>0.253852</td>\n",
       "      <td>0.611071</td>\n",
       "      <td>0.184814</td>\n",
       "      <td>0.254858</td>\n",
       "      <td>5.204284</td>\n",
       "    </tr>\n",
       "    <tr>\n",
       "      <th>4</th>\n",
       "      <td>0.185183</td>\n",
       "      <td>0.121076</td>\n",
       "      <td>0.148283</td>\n",
       "      <td>0.883903</td>\n",
       "      <td>0.093630</td>\n",
       "      <td>76.154294</td>\n",
       "    </tr>\n",
       "  </tbody>\n",
       "</table>\n",
       "</div>"
      ],
      "text/plain": [
       "          h         l         t         b        f1         f2\n",
       "0  0.349439  0.398685  0.503116  0.718311  0.304125   2.399137\n",
       "1  0.218137  0.514260  0.986138  0.031180  0.048503   7.339804\n",
       "2  0.251976  0.102797  0.632866  0.499367  0.221634   1.733868\n",
       "3  0.795385  0.253852  0.611071  0.184814  0.254858   5.204284\n",
       "4  0.185183  0.121076  0.148283  0.883903  0.093630  76.154294"
      ]
     },
     "execution_count": 55,
     "metadata": {},
     "output_type": "execute_result"
    }
   ],
   "source": [
    "# gen the test data\n",
    "\n",
    "x_test = create_samples(50)\n",
    "func_test1 = f1(x_test)\n",
    "func_test2 = f2(x_test)\n",
    "f1t_mean = func_test1.mean()\n",
    "f2t_mean = func_test2.mean()\n",
    "print(f\"Means of test objective values with test samples f1: {f1t_mean} and f2: {f2t_mean}\")\n",
    "f_test = np.vstack((func_test1, func_test2)).T\n",
    "test_data = pd.DataFrame(np.hstack((x_test, f_test)), columns=[\"h\", \"l\", \"t\", \"b\", \"f1\", \"f2\"])\n",
    "test_data[:5]"
   ]
  },
  {
   "cell_type": "code",
   "execution_count": 56,
   "id": "c0952c01",
   "metadata": {},
   "outputs": [
    {
     "name": "stdout",
     "output_type": "stream",
     "text": [
      "0.11092284842847702\n",
      "0.6845228180803303\n"
     ]
    }
   ],
   "source": [
    "mean, std = gpr.predict(x_test, return_std=True)\n",
    "print(mean_squared_error(mean,func_test1, squared=False)) # dunno if this correct ?\n",
    "print(r2_score(mean, func_test1))"
   ]
  },
  {
   "cell_type": "code",
   "execution_count": 57,
   "id": "78cf7112",
   "metadata": {},
   "outputs": [
    {
     "name": "stdout",
     "output_type": "stream",
     "text": [
      "27570.000925251625\n",
      "-520315775869.29626\n"
     ]
    }
   ],
   "source": [
    "mean, std = gpr2.predict(x_test, return_std=True)\n",
    "print(mean_squared_error(mean,func_test2, squared=False)) # dunno if this correct ?\n",
    "print(r2_score(mean, func_test2))"
   ]
  },
  {
   "cell_type": "markdown",
   "id": "d34bfef5",
   "metadata": {},
   "source": [
    "## GPR F1 TEST"
   ]
  },
  {
   "cell_type": "code",
   "execution_count": 236,
   "id": "7ce99f36",
   "metadata": {
    "scrolled": true
   },
   "outputs": [
    {
     "name": "stdout",
     "output_type": "stream",
     "text": [
      "0.0028721956277529335\n",
      "0.999881178980473\n"
     ]
    }
   ],
   "source": [
    "mean, std = gpr.predict(x_test, return_std=True)\n",
    "print(mean_squared_error(mean,func_test1, squared=False)) # dunno if this correct ?\n",
    "print(r2_score(mean, func_test1))"
   ]
  },
  {
   "cell_type": "markdown",
   "id": "af9506a8",
   "metadata": {},
   "source": [
    "## RF F1 TEST"
   ]
  },
  {
   "cell_type": "code",
   "execution_count": 237,
   "id": "072c2142",
   "metadata": {},
   "outputs": [
    {
     "name": "stdout",
     "output_type": "stream",
     "text": [
      "0.0896142328508594\n",
      "0.8131621493260025\n"
     ]
    }
   ],
   "source": [
    "rmean = regr.predict(x_test)\n",
    "print(mean_squared_error(rmean,func_test1, squared=False)) # dunno if this correct ?\n",
    "print(r2_score(rmean, func_test1))"
   ]
  },
  {
   "cell_type": "markdown",
   "id": "b235198a",
   "metadata": {},
   "source": [
    "## GPR F2 TEST"
   ]
  },
  {
   "cell_type": "code",
   "execution_count": 238,
   "id": "35ecd8a5",
   "metadata": {},
   "outputs": [
    {
     "name": "stdout",
     "output_type": "stream",
     "text": [
      "5667383.045929776\n",
      "-0.001482976046963902\n"
     ]
    }
   ],
   "source": [
    "mean2, std2 = gpr2.predict(x_test,return_std=True)\n",
    "print(mean_squared_error(mean2,func_test2, squared=False))\n",
    "print(r2_score(mean2, func_test2))"
   ]
  },
  {
   "cell_type": "markdown",
   "id": "424e70b2",
   "metadata": {},
   "source": [
    "## RF F2 TEST"
   ]
  },
  {
   "cell_type": "code",
   "execution_count": 239,
   "id": "b2db1d1b",
   "metadata": {},
   "outputs": [
    {
     "name": "stdout",
     "output_type": "stream",
     "text": [
      "466451.9728315159\n",
      "0.15984132791606342\n"
     ]
    }
   ],
   "source": [
    "rmean2 = regr2.predict(x_test)\n",
    "print(mean_squared_error(rmean2,func_test2, squared=False))\n",
    "print(r2_score(rmean2, func_test2))"
   ]
  },
  {
   "cell_type": "markdown",
   "id": "01598385",
   "metadata": {},
   "source": [
    "## TODO:\n",
    "\n",
    "to me the above looks correctly done BUT gpr1 seems to be too good and gpr2 seems to be too bad?\n",
    "\n",
    "if f2 has smaller mean that test_f2, our r2 goes negative. DUnno what to do with this\n",
    "\n",
    "\n",
    "Atleast random forests are consistent with the issue. Even though wont be as good for f1, still bad for f2 and in the same way.\n",
    "\n",
    "RF seems to work better f2, especially if train and test set has similar magnitude mean. This sounds like I should someway properly do the normalization."
   ]
  },
  {
   "cell_type": "code",
   "execution_count": null,
   "id": "7e603bb6",
   "metadata": {},
   "outputs": [],
   "source": []
  },
  {
   "cell_type": "code",
   "execution_count": 84,
   "id": "1ed03fe6",
   "metadata": {},
   "outputs": [],
   "source": [
    "\n",
    "## sklearn, with func1\n",
    "#gpr = GPR()\n",
    "#gpr.fit(x,func1)\n",
    "#mean, std = gpr.predict(x, return_std=True)\n",
    "#print(mean_squared_error(mean,func1)) # dunno if this correct ?\n",
    "#print(r2_score(mean, func1))"
   ]
  },
  {
   "cell_type": "code",
   "execution_count": 86,
   "id": "f1818916",
   "metadata": {},
   "outputs": [],
   "source": [
    "## sklearn, with func2\n",
    "#gpr = GPR()\n",
    "#gpr.fit(x,func2)\n",
    "#mean, std = gpr.predict(x, return_std=True)\n",
    "#print(mean_squared_error(mean,func2))\n",
    "#print(r2_score(mean, func2))"
   ]
  },
  {
   "cell_type": "markdown",
   "id": "4aa36342",
   "metadata": {},
   "source": [
    "### RF from sklearn \n",
    "- TODO : kfold cross validation "
   ]
  },
  {
   "cell_type": "code",
   "execution_count": 26,
   "id": "9230536f",
   "metadata": {},
   "outputs": [
    {
     "name": "stdout",
     "output_type": "stream",
     "text": [
      "0.0015696025359983495\n",
      "0.9764521506416795\n"
     ]
    }
   ],
   "source": [
    "from sklearn.ensemble import RandomForestRegressor\n",
    "\n",
    "regr = RandomForestRegressor(random_state=7)\n",
    "regr.fit(x, func1)\n",
    "m = regr.predict(x)\n",
    "print(mean_squared_error(m,func1))\n",
    "print(r2_score(m, func1))"
   ]
  },
  {
   "cell_type": "code",
   "execution_count": 25,
   "id": "1d9fef28",
   "metadata": {},
   "outputs": [
    {
     "name": "stdout",
     "output_type": "stream",
     "text": [
      "42353013631.449585\n",
      "0.5427258801350856\n"
     ]
    }
   ],
   "source": [
    "regr = RandomForestRegressor(random_state=7)\n",
    "regr.fit(x, func2)\n",
    "m = regr.predict(x)\n",
    "print(mean_squared_error(m,func2))\n",
    "print(r2_score(m, func2))"
   ]
  },
  {
   "cell_type": "markdown",
   "id": "3b3629cb",
   "metadata": {},
   "source": [
    " ## trying with desdeo"
   ]
  },
  {
   "cell_type": "code",
   "execution_count": 92,
   "id": "b4bdda01",
   "metadata": {},
   "outputs": [],
   "source": [
    "problem = DataProblem(data=data, variable_names=[\"h\", \"l\", \"t\", \"b\"], objective_names=[\"f1\", \"f2\"])"
   ]
  },
  {
   "cell_type": "code",
   "execution_count": 93,
   "id": "723aad70",
   "metadata": {},
   "outputs": [],
   "source": [
    "from desdeo_problem.surrogatemodels.SurrogateModels import GaussianProcessRegressor"
   ]
  },
  {
   "cell_type": "code",
   "execution_count": 57,
   "id": "06cadfd6",
   "metadata": {},
   "outputs": [],
   "source": [
    "#\n",
    "# Desdeo styl\n",
    "y = problem.train(gpr)\n",
    "#problem.train(GaussianProcessRegressor)\n",
    "#gpr = GPR()\n",
    "\n",
    "y = problem.train(GPR)\n",
    "y\n",
    "#gpr.score(x,y)"
   ]
  }
 ],
 "metadata": {
  "kernelspec": {
   "display_name": "desdeoENV",
   "language": "python",
   "name": "desdeoenv"
  },
  "language_info": {
   "codemirror_mode": {
    "name": "ipython",
    "version": 3
   },
   "file_extension": ".py",
   "mimetype": "text/x-python",
   "name": "python",
   "nbconvert_exporter": "python",
   "pygments_lexer": "ipython3",
   "version": "3.9.9"
  }
 },
 "nbformat": 4,
 "nbformat_minor": 5
}
