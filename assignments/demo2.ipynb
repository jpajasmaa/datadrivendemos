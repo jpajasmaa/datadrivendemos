{
 "cells": [
  {
   "cell_type": "code",
   "execution_count": 1,
   "id": "a60946af",
   "metadata": {},
   "outputs": [
    {
     "data": {
      "text/html": [
       "<style>.container { width:100% !important; }</style>"
      ],
      "text/plain": [
       "<IPython.core.display.HTML object>"
      ]
     },
     "execution_count": 1,
     "metadata": {},
     "output_type": "execute_result"
    }
   ],
   "source": [
    "from IPython.display import HTML\n",
    "HTML(\"<style>.container { width:100% !important; }</style>\")"
   ]
  },
  {
   "cell_type": "code",
   "execution_count": 2,
   "id": "31129e19",
   "metadata": {},
   "outputs": [],
   "source": [
    "import warnings\n",
    "warnings.filterwarnings('ignore')"
   ]
  },
  {
   "cell_type": "code",
   "execution_count": 35,
   "id": "efd31856",
   "metadata": {},
   "outputs": [],
   "source": [
    "import numpy as np\n",
    "from desdeo_emo.EAs import RVEA, NSGAIII, IBEA\n",
    "from desdeo_problem.testproblems.TestProblems import test_problem_builder\n",
    "from desdeo_problem import DataProblem\n",
    "from desdeo_tools.utilities import fast_non_dominated_sort, hypervolume_indicator\n",
    "\n",
    "import matplotlib.pyplot as plt\n",
    "import sklearn\n",
    "from pyDOE import lhs\n",
    "import pandas as pd\n",
    "\n",
    "from sklearn.metrics import mean_squared_error, r2_score\n",
    "\n",
    "from sklearn.gaussian_process.kernels import RBF, ExpSineSquared, WhiteKernel, RationalQuadratic, DotProduct, ConstantKernel, Matern\n",
    "\n",
    "from sklearn.gaussian_process import kernels\n",
    "from sklearn.model_selection import GridSearchCV\n",
    "from sklearn.model_selection import cross_val_score\n",
    "from sklearn.gaussian_process import GaussianProcessRegressor as GPR"
   ]
  },
  {
   "cell_type": "markdown",
   "id": "0b92ba94",
   "metadata": {},
   "source": [
    "## Assignment 2\n",
    "\n",
    "Generate 100 samples (LHS sampling) with the welded beam design problem (K=2, n=4). \n",
    "\n",
    "Build two\n",
    "types of surrogate models for each objective and ﬁnd the R-squared and RMSE for K fold cross\n",
    "validations. \n",
    "\n",
    "Suggest which models to use (for each objective) for performing optimization based on\n",
    "the accuracies. \n",
    "\n",
    "Finally generate 50 more LHS samples and test the models and show their RMSEs\n",
    "\n",
    "\n",
    "- Use DESDEO, sklearn, GPy\n",
    "- Optimize the hyperparameters for Kriging\n",
    "- You can also try to optimize the hyperparameters for random forest"
   ]
  },
  {
   "cell_type": "code",
   "execution_count": 181,
   "id": "64e2cfd9",
   "metadata": {},
   "outputs": [],
   "source": [
    "# the welded beam design problem\n",
    "def f1(x):\n",
    "    return 1.10471*x[:,0]**2*x[:,1] + 0.04811*x[:,2]*x[:,3]*(14 + x[:,1])\n",
    "\n",
    "\n",
    "def f2(x):\n",
    "    return 2.1952 / (x[:,2]**3*x[:,3])"
   ]
  },
  {
   "cell_type": "markdown",
   "id": "7ea56569",
   "metadata": {},
   "source": [
    "The two objectives are the fabrication cost of the beam and the deflection of the end of the beam under the applied load P. The load P is fixed at 6,000 lbs, and the distance L is fixed at 14 in.\n",
    "\n",
    "The design variables are:\n",
    "\n",
    "x(1) = h, the thickness of the welds\n",
    "\n",
    "x(2) = l, the length of the welds\n",
    "\n",
    "x(3) = t, the height of the beam\n",
    "\n",
    "x(4) = b, the width of the beam"
   ]
  },
  {
   "cell_type": "markdown",
   "id": "1a85b4c7",
   "metadata": {},
   "source": [
    "Krigin and Random Forests were suggested.. "
   ]
  },
  {
   "cell_type": "code",
   "execution_count": 195,
   "id": "a94f0008",
   "metadata": {},
   "outputs": [],
   "source": [
    "def create_samples(samples):\n",
    "    # create samples \n",
    "    x = lhs(4, samples)\n",
    "    return x"
   ]
  },
  {
   "cell_type": "markdown",
   "id": "e1105b5d",
   "metadata": {},
   "source": [
    "## CREATE SAMPLES WITH LHS"
   ]
  },
  {
   "cell_type": "code",
   "execution_count": 245,
   "id": "72a63243",
   "metadata": {
    "scrolled": true
   },
   "outputs": [
    {
     "name": "stdout",
     "output_type": "stream",
     "text": [
      "Means of objective values with samples f1: 0.3731406834303446 and f2: 330053.74177119206\n"
     ]
    },
    {
     "data": {
      "text/html": [
       "<div>\n",
       "<style scoped>\n",
       "    .dataframe tbody tr th:only-of-type {\n",
       "        vertical-align: middle;\n",
       "    }\n",
       "\n",
       "    .dataframe tbody tr th {\n",
       "        vertical-align: top;\n",
       "    }\n",
       "\n",
       "    .dataframe thead th {\n",
       "        text-align: right;\n",
       "    }\n",
       "</style>\n",
       "<table border=\"1\" class=\"dataframe\">\n",
       "  <thead>\n",
       "    <tr style=\"text-align: right;\">\n",
       "      <th></th>\n",
       "      <th>h</th>\n",
       "      <th>l</th>\n",
       "      <th>t</th>\n",
       "      <th>b</th>\n",
       "      <th>f1</th>\n",
       "      <th>f2</th>\n",
       "    </tr>\n",
       "  </thead>\n",
       "  <tbody>\n",
       "    <tr>\n",
       "      <th>0</th>\n",
       "      <td>0.696825</td>\n",
       "      <td>0.253083</td>\n",
       "      <td>0.335443</td>\n",
       "      <td>0.458088</td>\n",
       "      <td>0.241125</td>\n",
       "      <td>126.960957</td>\n",
       "    </tr>\n",
       "    <tr>\n",
       "      <th>1</th>\n",
       "      <td>0.494590</td>\n",
       "      <td>0.525668</td>\n",
       "      <td>0.219958</td>\n",
       "      <td>0.438255</td>\n",
       "      <td>0.209419</td>\n",
       "      <td>470.682244</td>\n",
       "    </tr>\n",
       "    <tr>\n",
       "      <th>2</th>\n",
       "      <td>0.013893</td>\n",
       "      <td>0.435320</td>\n",
       "      <td>0.900958</td>\n",
       "      <td>0.934106</td>\n",
       "      <td>0.584563</td>\n",
       "      <td>3.213398</td>\n",
       "    </tr>\n",
       "    <tr>\n",
       "      <th>3</th>\n",
       "      <td>0.444241</td>\n",
       "      <td>0.462126</td>\n",
       "      <td>0.152969</td>\n",
       "      <td>0.338337</td>\n",
       "      <td>0.136760</td>\n",
       "      <td>1812.640278</td>\n",
       "    </tr>\n",
       "    <tr>\n",
       "      <th>4</th>\n",
       "      <td>0.830599</td>\n",
       "      <td>0.795981</td>\n",
       "      <td>0.622840</td>\n",
       "      <td>0.545435</td>\n",
       "      <td>0.848468</td>\n",
       "      <td>16.657173</td>\n",
       "    </tr>\n",
       "  </tbody>\n",
       "</table>\n",
       "</div>"
      ],
      "text/plain": [
       "          h         l         t         b        f1           f2\n",
       "0  0.696825  0.253083  0.335443  0.458088  0.241125   126.960957\n",
       "1  0.494590  0.525668  0.219958  0.438255  0.209419   470.682244\n",
       "2  0.013893  0.435320  0.900958  0.934106  0.584563     3.213398\n",
       "3  0.444241  0.462126  0.152969  0.338337  0.136760  1812.640278\n",
       "4  0.830599  0.795981  0.622840  0.545435  0.848468    16.657173"
      ]
     },
     "execution_count": 245,
     "metadata": {},
     "output_type": "execute_result"
    }
   ],
   "source": [
    "x = create_samples(100)\n",
    "func1 = f1(x)\n",
    "func2 = f2(x)\n",
    "f = np.vstack((func1, func2)).T\n",
    "\n",
    "data = pd.DataFrame(np.hstack((x, f)), columns=[\"h\", \"l\", \"t\", \"b\", \"f1\", \"f2\"])\n",
    "f1_mean = func1.mean()\n",
    "f2_mean = func2.mean()\n",
    "\n",
    "print(f\"Means of objective values with samples f1: {f1_mean} and f2: {f2_mean}\")\n",
    "data[:5]"
   ]
  },
  {
   "cell_type": "markdown",
   "id": "8ce2fc14",
   "metadata": {},
   "source": [
    "#### Optimizing the Gaussian Process Regressor hyperparameters"
   ]
  },
  {
   "cell_type": "code",
   "execution_count": 246,
   "id": "b9f1313e",
   "metadata": {
    "scrolled": false
   },
   "outputs": [
    {
     "name": "stdout",
     "output_type": "stream",
     "text": [
      "GaussianProcessRegressor(alpha=1e-08, n_restarts_optimizer=1, normalize_y=True,\n",
      "                         random_state=7)\n",
      "GaussianProcessRegressor(alpha=0.0001,\n",
      "                         kernel=RationalQuadratic(alpha=1, length_scale=1),\n",
      "                         n_restarts_optimizer=1, normalize_y=True,\n",
      "                         random_state=7)\n"
     ]
    }
   ],
   "source": [
    "from sklearn.model_selection import train_test_split\n",
    "\n",
    "x, x_test, f, y_test = train_test_split(x, f, test_size=0.20, random_state=7)\n",
    "\n",
    "func1 = f[:,0] # train ys\n",
    "func2 = f[:,1]\n",
    "\n",
    "y1 = y_test[:,0] # test ys\n",
    "y2 = y_test[:,1]\n",
    "\n",
    "seed = 7\n",
    "\n",
    "parameters = {\n",
    "    \"alpha\": [1e-10, 1e-8, 1e-6, 1e-4,\n",
    "                1e-2, 1e-0, 1e2, 1e4],\n",
    "    \"kernel\": [\n",
    "        None,\n",
    "        kernels.RBF(length_scale_bounds=(1e-10, 1000000)),\n",
    "        kernels.RationalQuadratic(length_scale_bounds=(1e-10, 1000000)),\n",
    "        kernels.DotProduct(sigma_0_bounds=(1e-10, 1000000)),\n",
    "        kernels.Matern(length_scale_bounds=(1e-10, 1000000)),\n",
    "        kernels.ExpSineSquared(length_scale_bounds=(1e-10, 1000000))\n",
    "    ]\n",
    "}\n",
    "\n",
    "# GridSearchCV does crossvalidation\n",
    "gpr = GridSearchCV(GPR(normalize_y=True, n_restarts_optimizer=1,random_state=seed), parameters, cv=10)\n",
    "\n",
    "gpr2 = GridSearchCV(GPR(normalize_y=True, n_restarts_optimizer=1,random_state=seed), parameters, cv=10)\n",
    "\n",
    "# fit best parameters\n",
    "gpr.fit(x, func1)\n",
    "gpr = gpr.best_estimator_\n",
    "print(gpr)\n",
    "\n",
    "gpr2.fit(x, func2)\n",
    "gpr2 = gpr2.best_estimator_\n",
    "print(gpr2)"
   ]
  },
  {
   "cell_type": "markdown",
   "id": "d0424656",
   "metadata": {},
   "source": [
    "## F1 with GPR"
   ]
  },
  {
   "cell_type": "code",
   "execution_count": 247,
   "id": "5f7d6618",
   "metadata": {},
   "outputs": [
    {
     "name": "stdout",
     "output_type": "stream",
     "text": [
      "0.001547885830680775\n",
      "0.999971946738293\n"
     ]
    }
   ],
   "source": [
    "m, std = gpr.predict(x_test, return_std=True)\n",
    "print(mean_squared_error(m,y1, squared=False)) # dunno if this correct ?\n",
    "print(r2_score(m, y1))"
   ]
  },
  {
   "cell_type": "markdown",
   "id": "7e119465",
   "metadata": {},
   "source": [
    "## F1 with RF"
   ]
  },
  {
   "cell_type": "code",
   "execution_count": 248,
   "id": "d2b26ecd",
   "metadata": {},
   "outputs": [
    {
     "name": "stdout",
     "output_type": "stream",
     "text": [
      "[0.33336697 0.93872918 0.89232316 0.67054358 0.94119456 0.79931845\n",
      " 0.84750489 0.7485616  0.9397964  0.62985609]\n",
      "0.12152460972080045\n",
      "0.5906373993857471\n"
     ]
    }
   ],
   "source": [
    "from sklearn.ensemble import RandomForestRegressor\n",
    "\n",
    "regr = RandomForestRegressor(random_state=7)\n",
    "regr.fit(x, func1)\n",
    "scores = cross_val_score(regr, x, func1, cv=10, scoring='r2')\n",
    "print(scores)\n",
    "\n",
    "rm = regr.predict(x_test)\n",
    "print(mean_squared_error(rm,y1, squared=False))\n",
    "print(r2_score(rm, y1))"
   ]
  },
  {
   "cell_type": "markdown",
   "id": "6d843f0c",
   "metadata": {},
   "source": [
    "## F2 with GPR"
   ]
  },
  {
   "cell_type": "code",
   "execution_count": 249,
   "id": "1110d322",
   "metadata": {},
   "outputs": [
    {
     "name": "stdout",
     "output_type": "stream",
     "text": [
      "6271405.057456365\n",
      "-2006.2372673250013\n"
     ]
    }
   ],
   "source": [
    "m2, std2 = gpr2.predict(x_test, return_std=True)\n",
    "print(mean_squared_error(m2, y2, squared=False))\n",
    "print(r2_score(m2, y2))"
   ]
  },
  {
   "cell_type": "markdown",
   "id": "6b651da9",
   "metadata": {},
   "source": [
    "## F2 with RF"
   ]
  },
  {
   "cell_type": "code",
   "execution_count": 250,
   "id": "8394bf5b",
   "metadata": {},
   "outputs": [
    {
     "name": "stdout",
     "output_type": "stream",
     "text": [
      "[-5.74140691e+04 -1.23527646e+02  6.41877574e-02  5.17031278e-01\n",
      "  3.08241955e-01  7.84598943e-01 -6.55876011e+00  6.65939698e-01\n",
      " -2.02819595e+00 -1.19114788e+01]\n",
      "6198801.45515619\n",
      "-627.4329921390555\n"
     ]
    }
   ],
   "source": [
    "regr2 = RandomForestRegressor(random_state=7)\n",
    "regr2.fit(x, func2)\n",
    "\n",
    "rscores2 = cross_val_score(regr2, x, func2, cv=10, scoring='r2')\n",
    "print(rscores2)\n",
    "\n",
    "rm2 = regr2.predict(x_test)\n",
    "print(mean_squared_error(rm2,y2, squared=False))\n",
    "print(r2_score(rm2, y2))"
   ]
  },
  {
   "cell_type": "markdown",
   "id": "5b4eebea",
   "metadata": {},
   "source": [
    "## Get test samples"
   ]
  },
  {
   "cell_type": "code",
   "execution_count": 251,
   "id": "74058d78",
   "metadata": {
    "scrolled": false
   },
   "outputs": [
    {
     "name": "stdout",
     "output_type": "stream",
     "text": [
      "Means of test objective values with test samples f1: 0.3476898140281998 and f2: 40799.06137646955\n"
     ]
    },
    {
     "data": {
      "text/html": [
       "<div>\n",
       "<style scoped>\n",
       "    .dataframe tbody tr th:only-of-type {\n",
       "        vertical-align: middle;\n",
       "    }\n",
       "\n",
       "    .dataframe tbody tr th {\n",
       "        vertical-align: top;\n",
       "    }\n",
       "\n",
       "    .dataframe thead th {\n",
       "        text-align: right;\n",
       "    }\n",
       "</style>\n",
       "<table border=\"1\" class=\"dataframe\">\n",
       "  <thead>\n",
       "    <tr style=\"text-align: right;\">\n",
       "      <th></th>\n",
       "      <th>h</th>\n",
       "      <th>l</th>\n",
       "      <th>t</th>\n",
       "      <th>b</th>\n",
       "      <th>f1</th>\n",
       "      <th>f2</th>\n",
       "    </tr>\n",
       "  </thead>\n",
       "  <tbody>\n",
       "    <tr>\n",
       "      <th>0</th>\n",
       "      <td>0.945195</td>\n",
       "      <td>0.049578</td>\n",
       "      <td>0.013712</td>\n",
       "      <td>0.620961</td>\n",
       "      <td>0.054686</td>\n",
       "      <td>1.371088e+06</td>\n",
       "    </tr>\n",
       "    <tr>\n",
       "      <th>1</th>\n",
       "      <td>0.325336</td>\n",
       "      <td>0.307963</td>\n",
       "      <td>0.896435</td>\n",
       "      <td>0.031593</td>\n",
       "      <td>0.055504</td>\n",
       "      <td>9.645516e+01</td>\n",
       "    </tr>\n",
       "    <tr>\n",
       "      <th>2</th>\n",
       "      <td>0.836416</td>\n",
       "      <td>0.786693</td>\n",
       "      <td>0.268481</td>\n",
       "      <td>0.535054</td>\n",
       "      <td>0.710185</td>\n",
       "      <td>2.120005e+02</td>\n",
       "    </tr>\n",
       "    <tr>\n",
       "      <th>3</th>\n",
       "      <td>0.880953</td>\n",
       "      <td>0.530463</td>\n",
       "      <td>0.957278</td>\n",
       "      <td>0.818375</td>\n",
       "      <td>1.002441</td>\n",
       "      <td>3.057788e+00</td>\n",
       "    </tr>\n",
       "    <tr>\n",
       "      <th>4</th>\n",
       "      <td>0.620299</td>\n",
       "      <td>0.203199</td>\n",
       "      <td>0.371361</td>\n",
       "      <td>0.864410</td>\n",
       "      <td>0.305722</td>\n",
       "      <td>4.958659e+01</td>\n",
       "    </tr>\n",
       "  </tbody>\n",
       "</table>\n",
       "</div>"
      ],
      "text/plain": [
       "          h         l         t         b        f1            f2\n",
       "0  0.945195  0.049578  0.013712  0.620961  0.054686  1.371088e+06\n",
       "1  0.325336  0.307963  0.896435  0.031593  0.055504  9.645516e+01\n",
       "2  0.836416  0.786693  0.268481  0.535054  0.710185  2.120005e+02\n",
       "3  0.880953  0.530463  0.957278  0.818375  1.002441  3.057788e+00\n",
       "4  0.620299  0.203199  0.371361  0.864410  0.305722  4.958659e+01"
      ]
     },
     "execution_count": 251,
     "metadata": {},
     "output_type": "execute_result"
    }
   ],
   "source": [
    "# gen the test data\n",
    "\n",
    "x_test = create_samples(50)\n",
    "func_test1 = f1(x_test)\n",
    "func_test2 = f2(x_test)\n",
    "f1t_mean = func_test1.mean()\n",
    "f2t_mean = func_test2.mean()\n",
    "print(f\"Means of test objective values with test samples f1: {f1t_mean} and f2: {f2t_mean}\")\n",
    "f_test = np.vstack((func_test1, func_test2)).T\n",
    "test_data = pd.DataFrame(np.hstack((x_test, f_test)), columns=[\"h\", \"l\", \"t\", \"b\", \"f1\", \"f2\"])\n",
    "test_data[:5]"
   ]
  },
  {
   "cell_type": "markdown",
   "id": "d34bfef5",
   "metadata": {},
   "source": [
    "## GPR F1 TEST"
   ]
  },
  {
   "cell_type": "code",
   "execution_count": 252,
   "id": "7ce99f36",
   "metadata": {
    "scrolled": true
   },
   "outputs": [
    {
     "name": "stdout",
     "output_type": "stream",
     "text": [
      "0.0030890540856077934\n",
      "0.9998747587318525\n"
     ]
    }
   ],
   "source": [
    "mean, std = gpr.predict(x_test, return_std=True)\n",
    "print(mean_squared_error(mean,func_test1, squared=False)) # dunno if this correct ?\n",
    "print(r2_score(mean, func_test1))"
   ]
  },
  {
   "cell_type": "markdown",
   "id": "af9506a8",
   "metadata": {},
   "source": [
    "## RF F1 TEST"
   ]
  },
  {
   "cell_type": "code",
   "execution_count": 253,
   "id": "072c2142",
   "metadata": {},
   "outputs": [
    {
     "name": "stdout",
     "output_type": "stream",
     "text": [
      "0.1069419900405299\n",
      "0.7593319507553078\n"
     ]
    }
   ],
   "source": [
    "rmean = regr.predict(x_test)\n",
    "print(mean_squared_error(rmean,func_test1, squared=False)) # dunno if this correct ?\n",
    "print(r2_score(rmean, func_test1))"
   ]
  },
  {
   "cell_type": "markdown",
   "id": "b235198a",
   "metadata": {},
   "source": [
    "## GPR F2 TEST"
   ]
  },
  {
   "cell_type": "code",
   "execution_count": 254,
   "id": "35ecd8a5",
   "metadata": {},
   "outputs": [
    {
     "name": "stdout",
     "output_type": "stream",
     "text": [
      "230278.62035542377\n",
      "-1.2078170020378547\n"
     ]
    }
   ],
   "source": [
    "mean2, std2 = gpr2.predict(x_test,return_std=True)\n",
    "print(mean_squared_error(mean2,func_test2, squared=False))\n",
    "print(r2_score(mean2, func_test2))"
   ]
  },
  {
   "cell_type": "markdown",
   "id": "424e70b2",
   "metadata": {},
   "source": [
    "## RF F2 TEST"
   ]
  },
  {
   "cell_type": "code",
   "execution_count": 255,
   "id": "b2db1d1b",
   "metadata": {},
   "outputs": [
    {
     "name": "stdout",
     "output_type": "stream",
     "text": [
      "152367.4892707121\n",
      "0.5108065372310573\n"
     ]
    }
   ],
   "source": [
    "rmean2 = regr2.predict(x_test)\n",
    "print(mean_squared_error(rmean2,func_test2, squared=False))\n",
    "print(r2_score(rmean2, func_test2))"
   ]
  },
  {
   "cell_type": "markdown",
   "id": "cfdcb3de",
   "metadata": {},
   "source": [
    "## Result \n",
    "\n",
    "|  |    Objective 1 GPR |  Objective 1 RF |  Objective 2 GPR | Objective 2 RF |\n",
    "| --- | --- | --- | --- | --|\n",
    "| Kfold CV R^2 | 0.999   | 0.591    | -2006.237   | -627.433  |  \n",
    "| kfold CV RMSE | 0.002   | 0.122   | 6271405.057   | 6198801.455  |   \n",
    "| Test R^2 | 0.999 |0.759 | -1.208 | 0.510  | \n",
    "| Test RMSE | 0.003 | 0.107 | 230278.620 | 152367.490   |    "
   ]
  },
  {
   "cell_type": "markdown",
   "id": "01598385",
   "metadata": {},
   "source": [
    "### Some thoughts about the results\n",
    "\n",
    "GPR seemed to handle objective 1 very well and easily within all crossvalidations in training and in the new generated test samples. While RF did good, GPR was superior in objective 1. RF had some worse results in training, more variance. Though to be noted, only hyperparameters of the GPR was optimized using GridSearchCV, RF could have reached better and most likely more stable results if used in the same way and then only use the best RF model in following tests too.\n",
    "\n",
    "More interesting was objective 2, which had a lot of variance between its values. This can be seen on the worse results using both GPR and RF. RMSE was through the roof in many times, although both seemed to get around to the same magnitude of RMSE, many times $r^2$ values were very different. Like in the results, consistently RF showed better $r^2$ values. Results presented in the table are somewhat better runs, where the was less variance objective 2's values. This was just figured out by checking the mean.\n",
    "\n",
    "In any case the results considering objective 2 varied a from a great range and only observation I got was that if the variance between the min and max of objective 2 values was smaller the methods worked bit better and the results had bit more sense. That's why run with \"better results\" was chosen in the end."
   ]
  }
 ],
 "metadata": {
  "kernelspec": {
   "display_name": "desdeoENV",
   "language": "python",
   "name": "desdeoenv"
  },
  "language_info": {
   "codemirror_mode": {
    "name": "ipython",
    "version": 3
   },
   "file_extension": ".py",
   "mimetype": "text/x-python",
   "name": "python",
   "nbconvert_exporter": "python",
   "pygments_lexer": "ipython3",
   "version": "3.9.9"
  }
 },
 "nbformat": 4,
 "nbformat_minor": 5
}
