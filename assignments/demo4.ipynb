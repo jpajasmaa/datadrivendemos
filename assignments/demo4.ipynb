{
 "cells": [
  {
   "cell_type": "code",
   "execution_count": 3,
   "id": "2d6f87a8",
   "metadata": {},
   "outputs": [
    {
     "data": {
      "text/html": [
       "<style>.container { width:100% !important; }</style>"
      ],
      "text/plain": [
       "<IPython.core.display.HTML object>"
      ]
     },
     "execution_count": 3,
     "metadata": {},
     "output_type": "execute_result"
    }
   ],
   "source": [
    "from IPython.display import HTML\n",
    "HTML(\"<style>.container { width:100% !important; }</style>\")"
   ]
  },
  {
   "cell_type": "code",
   "execution_count": 4,
   "id": "42282e89",
   "metadata": {},
   "outputs": [],
   "source": [
    "import numpy as np\n",
    "from desdeo_emo.EAs import RVEA, NSGAIII\n",
    "from desdeo_problem.testproblems.TestProblems import test_problem_builder\n",
    "from desdeo_problem import DataProblem\n",
    "from desdeo_tools.utilities import fast_non_dominated_sort, hypervolume_indicator\n",
    "\n",
    "import matplotlib.pyplot as plt\n",
    "import sklearn\n",
    "from pyDOE import lhs\n",
    "import pandas as pd\n",
    "from sklearn.gaussian_process import GaussianProcessRegressor\n",
    "from sklearn.gaussian_process.kernels import RBF, ExpSineSquared, WhiteKernel, RationalQuadratic, DotProduct, ConstantKernel, Matern"
   ]
  },
  {
   "cell_type": "markdown",
   "id": "d833f7f7",
   "metadata": {},
   "source": [
    "## Assignment 4"
   ]
  },
  {
   "cell_type": "markdown",
   "id": "0d0f0d7d",
   "metadata": {},
   "source": [
    "## Task 1 \n",
    "\n",
    "Implement probability of selection for single objective optimization. * (refer eqn.\n",
    "12, 13, 14)"
   ]
  },
  {
   "cell_type": "code",
   "execution_count": 5,
   "id": "5638065e",
   "metadata": {},
   "outputs": [],
   "source": [
    "np.set_printoptions(precision=4,suppress=True) # easier to check values rn when we dont care too much about the exactness"
   ]
  },
  {
   "cell_type": "code",
   "execution_count": 6,
   "id": "5beb2c22",
   "metadata": {},
   "outputs": [
    {
     "data": {
      "text/plain": [
       "array([1., 0.])"
      ]
     },
     "execution_count": 6,
     "metadata": {},
     "output_type": "execute_result"
    }
   ],
   "source": [
    "# in minimization think probability of being wrong, in max probability of acceptance\n",
    "# probability of sample A dominating sample B in max is P(A > B) is\n",
    "def prob_selection(a, b, sigma_a, sigma_b):\n",
    "    #sigma_b = sigma_b + 0.01 # just to prevent division by zero\n",
    "    # seems not to be the correct way of hanlding sigma 0\n",
    "    if sigma_b == 0.0:\n",
    "        s = 0.\n",
    "        m = np.zeros_like(a)\n",
    "        print(\"hh\")\n",
    "    else:\n",
    "        s = sigma_a / sigma_b\n",
    "        m = (a - b) / sigma_b\n",
    "    \n",
    "    top = -2.5*m / np.sqrt(2 + 2*s**2)\n",
    "    bot = 1 + np.exp(top)\n",
    "    return 1 / bot\n",
    "\n",
    "# b clearly dominates\n",
    "a = np.array([1.0, 1.0])\n",
    "b = np.array([0.5, 1.5])\n",
    "sigma_a = 0.001\n",
    "sigma_b = 0.001\n",
    "\n",
    "prob_selection(a, b, sigma_a, sigma_b)"
   ]
  },
  {
   "cell_type": "code",
   "execution_count": 7,
   "id": "9d983c9f",
   "metadata": {},
   "outputs": [
    {
     "name": "stdout",
     "output_type": "stream",
     "text": [
      "[0.5]\n"
     ]
    },
    {
     "data": {
      "text/plain": [
       "array([0.6514])"
      ]
     },
     "execution_count": 7,
     "metadata": {},
     "output_type": "execute_result"
    }
   ],
   "source": [
    "def prob_sel2(a, b, sigma_a, sigma_b):\n",
    "    if sigma_b == 0.0:\n",
    "        s = 0.\n",
    "        m = np.zeros_like(a)\n",
    "        print(\"hh\")\n",
    "    else:\n",
    "        s = sigma_a / sigma_b\n",
    "        m = (a - b) / sigma_b\n",
    "    \n",
    "    #m = m * 10\n",
    "    print(m)\n",
    "    \n",
    "    bot = 0.8*np.sqrt(2 + 2*s**2)\n",
    "    return 0.5*(1 + np.tanh(m/bot))\n",
    "    \n",
    "    \n",
    "    \n",
    "# a1 clearly dominates b1, b1 clearly dominates a2\n",
    "a = np.array([1.0])\n",
    "b = np.array([0.5])\n",
    "sigma_a = 1.\n",
    "sigma_b = 1.\n",
    "\n",
    "prob_sel2(a, b, sigma_a, sigma_b)"
   ]
  },
  {
   "cell_type": "code",
   "execution_count": 8,
   "id": "555bea12",
   "metadata": {},
   "outputs": [
    {
     "name": "stdout",
     "output_type": "stream",
     "text": [
      "[5.]\n"
     ]
    },
    {
     "data": {
      "text/plain": [
       "array([0.9981])"
      ]
     },
     "execution_count": 8,
     "metadata": {},
     "output_type": "execute_result"
    }
   ],
   "source": [
    "# a1 clearly dominates b1, b1 clearly dominates a2\n",
    "a = np.array([1.0])\n",
    "b = np.array([0.5])\n",
    "sigma_a = 0.1\n",
    "sigma_b = 0.1\n",
    "\n",
    "prob_sel2(a, b, sigma_a, sigma_b)"
   ]
  },
  {
   "cell_type": "markdown",
   "id": "695c0b79",
   "metadata": {},
   "source": [
    "So we can see that probability of being wrong with first items (1 and 2) by choosing a is 0.22. Again for second items (1,5) thats 0.007.  And also with 3rd items (3,1) its 0.92. So we can clearly see its working properly."
   ]
  },
  {
   "cell_type": "markdown",
   "id": "e4437cb5",
   "metadata": {},
   "source": [
    "## Task 2\n",
    "\n",
    "Implement probability of dominance and ranking. * (refer eqn. 15, 17, 18, 22)\n",
    "\n",
    "- Generate 50 samples from DTLZ2 problem (3 objectives, 5 decision variables) using LHS sampling\n",
    "- Build Kriging surrogates using the generated samples\n",
    "- Resample or generate 20 data points randomly\n",
    "- Rank the 20 points using probability of dominance ranking"
   ]
  },
  {
   "cell_type": "code",
   "execution_count": 9,
   "id": "4749f665",
   "metadata": {},
   "outputs": [],
   "source": [
    "dtlz2_3 = test_problem_builder(\"DTLZ2\", n_of_variables=5, n_of_objectives=3)"
   ]
  },
  {
   "cell_type": "code",
   "execution_count": 10,
   "id": "33c319db",
   "metadata": {},
   "outputs": [],
   "source": [
    "def create_samples(dec_dim, samples):\n",
    "    # create samples \n",
    "    x = lhs(dec_dim, samples)     \n",
    "    return np.asarray(x)"
   ]
  },
  {
   "cell_type": "code",
   "execution_count": 11,
   "id": "f41cd46d",
   "metadata": {
    "scrolled": true
   },
   "outputs": [
    {
     "name": "stdout",
     "output_type": "stream",
     "text": [
      "(50, 5)\n",
      "[[1.0668 0.5408 0.7942]\n",
      " [0.1699 0.036  1.1112]\n",
      " [0.8094 0.78   1.097 ]\n",
      " [0.6699 0.0956 0.9318]\n",
      " [0.2268 0.7223 0.7839]]\n"
     ]
    }
   ],
   "source": [
    "x = create_samples(5, 50)\n",
    "print(x.shape)\n",
    "eval_results = dtlz2_3.evaluate(x)\n",
    "y = eval_results.objectives\n",
    "print(y[:5])"
   ]
  },
  {
   "cell_type": "code",
   "execution_count": 12,
   "id": "c667eb5b",
   "metadata": {},
   "outputs": [
    {
     "name": "stdout",
     "output_type": "stream",
     "text": [
      "[1.0668 0.1699 0.8094 0.6699 0.2268 0.0043 0.2729 0.8219 0.7401 1.0812\n",
      " 0.559  0.5981 0.0238 0.1004 0.5951 0.4605 0.3882 0.1644 0.0413 0.1049\n",
      " 0.2666 0.7666 0.9582 0.1136 0.317  0.3608 0.5692 0.3433 0.3233 0.756\n",
      " 0.6436 0.23   0.2251 0.0075 0.4687 0.903  0.5115 0.683  0.6598 0.9424\n",
      " 0.738  0.6803 1.1731 0.282  0.0087 1.0503 0.6059 0.7074 0.017  1.0741]\n"
     ]
    }
   ],
   "source": [
    "print(y[:,0])"
   ]
  },
  {
   "cell_type": "code",
   "execution_count": 13,
   "id": "f4514e24",
   "metadata": {},
   "outputs": [],
   "source": [
    "## build surrogates\n",
    "\n",
    "kernel = 1.0 * Matern(length_scale=1.0, length_scale_bounds=(1e-1, 20.0), nu=1.5)\n",
    "    \n",
    "y1 = y[:,0]\n",
    "gpr1 = GaussianProcessRegressor(kernel,n_restarts_optimizer=1,random_state=7).fit(x, y1)\n",
    "\n",
    "y2 = y[:,1]\n",
    "gpr2 = GaussianProcessRegressor(kernel,n_restarts_optimizer=1,random_state=7).fit(x, y2)\n",
    "\n",
    "y3 = y[:,2]\n",
    "gpr3 = GaussianProcessRegressor(kernel,n_restarts_optimizer=1,random_state=7).fit(x, y3)"
   ]
  },
  {
   "cell_type": "code",
   "execution_count": 16,
   "id": "09247aa3",
   "metadata": {},
   "outputs": [
    {
     "name": "stdout",
     "output_type": "stream",
     "text": [
      "0.06867311849039004\n",
      "0.07332612206176277\n",
      "0.058133660004295616\n"
     ]
    },
    {
     "data": {
      "text/plain": [
       "(20, 3)"
      ]
     },
     "execution_count": 16,
     "metadata": {},
     "output_type": "execute_result"
    }
   ],
   "source": [
    "## resampling\n",
    "\n",
    "x_samples = create_samples(5, 20)\n",
    "\n",
    "# predict\n",
    "y1_sample, y1_std = gpr1.predict(x_samples, return_std=True) \n",
    "print(np.mean(y1_std))\n",
    "\n",
    "# predict\n",
    "y2_sample, y2_std = gpr2.predict(x_samples, return_std=True) \n",
    "print(np.mean(y2_std))\n",
    "# predict\n",
    "y3_sample, y3_std = gpr3.predict(x_samples, return_std=True) \n",
    "print(np.mean(y3_std))\n",
    "\n",
    "y_samples = np.column_stack((y1_sample, y2_sample, y3_sample))\n",
    "#y_samples.reshape(1,-1)\n",
    "y_samples.shape"
   ]
  },
  {
   "cell_type": "code",
   "execution_count": 17,
   "id": "90226adf",
   "metadata": {},
   "outputs": [
    {
     "name": "stdout",
     "output_type": "stream",
     "text": [
      "[[ 0.0163  0.455   0.9597]\n",
      " [ 1.1093  0.3884  0.3568]\n",
      " [ 0.2481  0.2141  1.3462]\n",
      " [ 0.7222  0.137   0.9658]\n",
      " [ 0.9132  0.5184  0.6437]\n",
      " [ 0.6316  0.9443  0.5498]\n",
      " [ 0.2316  0.5148  1.2019]\n",
      " [ 0.9392  0.4815  0.565 ]\n",
      " [ 0.0943  0.245   1.3302]\n",
      " [ 0.8478  0.2146  0.8207]\n",
      " [ 0.1858  0.8328  0.7581]\n",
      " [ 0.3354  1.2419  0.2287]\n",
      " [ 0.816   0.5767  0.7197]\n",
      " [ 0.1365  0.0025  1.3502]\n",
      " [ 0.1872  0.1615  1.0186]\n",
      " [ 0.1424  1.1369  0.2426]\n",
      " [ 0.3743  0.391   1.0853]\n",
      " [ 0.4682  0.9476 -0.009 ]\n",
      " [ 0.5401  0.6512  0.9633]\n",
      " [ 0.6609  0.0997  0.9897]]\n"
     ]
    }
   ],
   "source": [
    "print(y_samples)"
   ]
  },
  {
   "cell_type": "code",
   "execution_count": 19,
   "id": "581e6dfa",
   "metadata": {},
   "outputs": [
    {
     "data": {
      "text/plain": [
       "190.0"
      ]
     },
     "execution_count": 19,
     "metadata": {},
     "output_type": "execute_result"
    }
   ],
   "source": [
    "def sum_of_rank_pos(n):\n",
    "    return n*(n - 1)/2\n",
    "\n",
    "sum_of_rank_pos(y_samples.shape[0])"
   ]
  },
  {
   "cell_type": "code",
   "execution_count": 20,
   "id": "89466011",
   "metadata": {
    "scrolled": true
   },
   "outputs": [
    {
     "name": "stdout",
     "output_type": "stream",
     "text": [
      "(6, 2)\n"
     ]
    }
   ],
   "source": [
    "A = [0.2, 0.9]  # tässä on a1 a2. kun lasketaan prod P (Ai < bi) i to n, tulee P(A < B)\n",
    "B = [0.3, 0.5]\n",
    "C = [0.5, 0.3]\n",
    "D = [0.8, 0.2]\n",
    "E = [0.85, 0.5]\n",
    "F = [0.9, 0.95]\n",
    "\n",
    "sols = np.array([A, B, C, D, E, F])\n",
    "print(sols.shape)\n",
    "ff = np.zeros(sols.shape[0])\n",
    "# this being eq21\n",
    "#for i in range(ff.shape[0]):\n",
    "    #for j in range(ff.shape[0]):\n",
    "        #ff[i] += smaller(sols[j], sols[i])\n",
    "    #ff[i] -= 0.5"
   ]
  },
  {
   "cell_type": "markdown",
   "id": "5a9b9ce8",
   "metadata": {},
   "source": [
    "## DONE:\n",
    "\n",
    "Single objective ranking works with uncertainty 0 and uncertainty 1. So prob_sel2 works\n",
    "MO ranking with uncertainty 0 works\n",
    "\n",
    "mo ranking with uncertainty works\n",
    "\n",
    "## TODO:\n",
    "\n",
    "rest of the assigment using some data\n",
    "\n",
    "ask/find out about the bug with m."
   ]
  },
  {
   "cell_type": "code",
   "execution_count": 73,
   "id": "eae0c88a",
   "metadata": {},
   "outputs": [],
   "source": [
    "\n",
    "## Need to:\n",
    "## either multiply m by 10, or multiply sigmas by 10, to get similar results than in example\n",
    "##\n",
    "\n",
    "\n",
    "def prob_sel2(a, b, sigma_a, sigma_b):\n",
    "    s = sigma_a / sigma_b\n",
    "    #print(\"S\",s)\n",
    "    #s = 1.\n",
    "    m = (a - b) / sigma_b\n",
    "    #print(\"M\",m)\n",
    "    m = m *10\n",
    "\n",
    "    bot = 0.8*np.sqrt(2 + 2*s**2)\n",
    "    res = 0.5*(1 + np.tanh(m/bot))\n",
    "    res = np.prod(res)\n",
    "    return res\n",
    "\n",
    "\n",
    "# note 18.27 approx with uncertainty of 0 works\n",
    "def sof_prob_dom_multi2(fit, j, sigma_a, sigma_b):\n",
    "    summa = 0\n",
    "    # should just go over the multi\n",
    "    for i in range(fit.shape[0]):\n",
    "        for ii in range(fit.shape[1]):\n",
    "            \n",
    "            fits = fit[i][ii]\n",
    "            if j[ii] == fits:\n",
    "                #summa += 0.25\n",
    "                s = prob_sel2(j[ii], fits, sigma_a, sigma_b)\n",
    "                #print(\"eq\", s)\n",
    "                summa += 0.5*s\n",
    "            elif j[ii] > fits:\n",
    "                #summa += 0.5\n",
    "                s = prob_sel2(j[ii], fits, sigma_a, sigma_b)\n",
    "                #print(\"doms\",s)\n",
    "                summa += 0.5*s\n",
    "            elif j[ii] < fits:\n",
    "                #summa += 0\n",
    "                s = prob_sel2(j[ii], fits, sigma_a, sigma_b)\n",
    "                #print(\"does not dom\",s)\n",
    "                summa += 0.5*s\n",
    "            else:\n",
    "                print(\"should not get here\")\n",
    "        \n",
    "    summa -= 0.5\n",
    "    # this seems to need to be -5.5 for 5 var, 3 obj\n",
    "    \n",
    "    return summa"
   ]
  },
  {
   "cell_type": "markdown",
   "id": "8e514a36",
   "metadata": {},
   "source": [
    "###  this\n",
    "If the tness values are non-dominated, the corresponding\n",
    "probabilities are P (A > B ) = 0, P (A < B ) = 0, and P (A \u0011 B ) = 1. We have\n",
    "now lost the value 1 from the probability of domination calculations, therefore"
   ]
  },
  {
   "cell_type": "code",
   "execution_count": 74,
   "id": "fc64d215",
   "metadata": {
    "scrolled": false
   },
   "outputs": [
    {
     "data": {
      "text/plain": [
       "[2.0, 1.75, 1.5, 1.5, 3.25, 5.0]"
      ]
     },
     "execution_count": 74,
     "metadata": {},
     "output_type": "execute_result"
    }
   ],
   "source": [
    "s2 = []\n",
    "sigma_a, sigma_b = 0.001, 0.001\n",
    "\n",
    "for i in range(len(sols)):\n",
    "    s2.append(sof_prob_dom_multi2(sols, sols[i], sigma_a, sigma_b))\n",
    "s2"
   ]
  },
  {
   "cell_type": "code",
   "execution_count": 75,
   "id": "3f4099be",
   "metadata": {},
   "outputs": [
    {
     "data": {
      "text/plain": [
       "15.0"
      ]
     },
     "execution_count": 75,
     "metadata": {},
     "output_type": "execute_result"
    }
   ],
   "source": [
    "np.sum(s2)"
   ]
  },
  {
   "cell_type": "code",
   "execution_count": 76,
   "id": "cb6bd2f4",
   "metadata": {},
   "outputs": [
    {
     "data": {
      "text/plain": [
       "[2.2906164496671124,\n",
       " 1.634060344553688,\n",
       " 1.436565639361921,\n",
       " 1.9073932584275828,\n",
       " 3.1988455322854907,\n",
       " 4.532518775704205]"
      ]
     },
     "execution_count": 76,
     "metadata": {},
     "output_type": "execute_result"
    }
   ],
   "source": [
    "s3 = []\n",
    "sigma_a, sigma_b = 1., 1.\n",
    "\n",
    "for i in range(len(sols)):\n",
    "    s3.append(sof_prob_dom_multi2(sols, sols[i], sigma_a, sigma_b))\n",
    "s3"
   ]
  },
  {
   "cell_type": "code",
   "execution_count": 77,
   "id": "3c065a2b",
   "metadata": {
    "scrolled": true
   },
   "outputs": [
    {
     "data": {
      "text/plain": [
       "[9.983539862158816,\n",
       " 14.923115396531195,\n",
       " 15.100614790037495,\n",
       " 13.991592720363448,\n",
       " 17.605723494257724,\n",
       " 16.413209176635547,\n",
       " 16.902782142840184,\n",
       " 16.73786017316808,\n",
       " 12.26186565188478,\n",
       " 15.017493542825521,\n",
       " 13.958191127710052,\n",
       " 14.264908771016616,\n",
       " 17.750210555379986,\n",
       " 10.70573645874667,\n",
       " 11.040314429828666,\n",
       " 11.64130724073004,\n",
       " 16.07685479955206,\n",
       " 13.598026547638694,\n",
       " 18.27880863909876,\n",
       " 13.747844479595656]"
      ]
     },
     "execution_count": 77,
     "metadata": {},
     "output_type": "execute_result"
    }
   ],
   "source": [
    "s3 = []\n",
    "sigma_a, sigma_b = 0.05, 0.05\n",
    "\n",
    "\n",
    "for i in range(len(y_samples)):\n",
    "    s3.append(sof_prob_dom_multi2(y_samples, y_samples[i], sigma_a, sigma_b))\n",
    "s3"
   ]
  },
  {
   "cell_type": "code",
   "execution_count": 78,
   "id": "b5e9eb19",
   "metadata": {},
   "outputs": [
    {
     "data": {
      "text/plain": [
       "290.0"
      ]
     },
     "execution_count": 78,
     "metadata": {},
     "output_type": "execute_result"
    }
   ],
   "source": [
    "np.sum(s3)"
   ]
  },
  {
   "cell_type": "code",
   "execution_count": 79,
   "id": "ab11cecc",
   "metadata": {},
   "outputs": [
    {
     "data": {
      "text/plain": [
       "190.0"
      ]
     },
     "execution_count": 79,
     "metadata": {},
     "output_type": "execute_result"
    }
   ],
   "source": [
    "sum_of_rank_pos(y_samples.shape[0])"
   ]
  },
  {
   "cell_type": "markdown",
   "id": "b5088563",
   "metadata": {},
   "source": [
    "### Everything kinda works?\n",
    "\n",
    "* expect the m needs to be * by 10 for the paper examples to work\n",
    "\n",
    "* and one should minus -5.5 from the sum with 5 var, 3 obj to keep sum of rank pos equal.\n",
    "\n",
    "\n",
    "Probably has something to do with below..\n",
    "\"\"\"\n",
    "domination calculations.\n",
    "If we consider the ranking case for a single dimension, if A and B are iden-\n",
    "tical, we cannot choose between them and so add in 0.5 to the sum. With\n",
    "non-domination, we also have the situation where we cannot choose between\n",
    "objectives and should therefore add 0.5 to the sum as required. In the case of\n",
    "uncertain measurements, we can multiply the value of 0:5 by the probability of\n",
    "non-domination, and still subtract o 0:5 to allow for comparing the individual\n",
    "with itself, thereby maintaining the sum of the rank positions as n(n 1)=2.\n",
    "Thus we can add the non-domination term into (21). The rank calculation for\n",
    "multi-objective ranking is shown in (22), where n is the number of measurements\n",
    "\n",
    "\"\"\n",
    "Does it just come from that 5.5 happens to be the combinations of 3 dimensions in this case?"
   ]
  },
  {
   "cell_type": "code",
   "execution_count": null,
   "id": "bc5c2426",
   "metadata": {},
   "outputs": [],
   "source": [
    "x = 0.5 * 2\n",
    "0.25\n",
    "\n",
    "0.25 = y * 5\n",
    "\n",
    "0.25/3"
   ]
  },
  {
   "cell_type": "code",
   "execution_count": 80,
   "id": "d1f60306",
   "metadata": {},
   "outputs": [],
   "source": [
    "z = 5.5 * 5"
   ]
  },
  {
   "cell_type": "code",
   "execution_count": 81,
   "id": "53816bf7",
   "metadata": {},
   "outputs": [
    {
     "data": {
      "text/plain": [
       "27.5"
      ]
     },
     "execution_count": 81,
     "metadata": {},
     "output_type": "execute_result"
    }
   ],
   "source": [
    "z"
   ]
  },
  {
   "cell_type": "code",
   "execution_count": 82,
   "id": "02582f89",
   "metadata": {},
   "outputs": [
    {
     "data": {
      "text/plain": [
       "1.5"
      ]
     },
     "execution_count": 82,
     "metadata": {},
     "output_type": "execute_result"
    }
   ],
   "source": [
    "0.5*3"
   ]
  },
  {
   "cell_type": "code",
   "execution_count": 83,
   "id": "8c7aef49",
   "metadata": {},
   "outputs": [
    {
     "data": {
      "text/plain": [
       "0.75"
      ]
     },
     "execution_count": 83,
     "metadata": {},
     "output_type": "execute_result"
    }
   ],
   "source": [
    "0.5*1.5"
   ]
  },
  {
   "cell_type": "code",
   "execution_count": 84,
   "id": "a7b0d340",
   "metadata": {},
   "outputs": [
    {
     "data": {
      "text/plain": [
       "3.6666666666666665"
      ]
     },
     "execution_count": 84,
     "metadata": {},
     "output_type": "execute_result"
    }
   ],
   "source": [
    "5.5 / 1.5"
   ]
  },
  {
   "cell_type": "code",
   "execution_count": 85,
   "id": "800d6cbb",
   "metadata": {},
   "outputs": [
    {
     "data": {
      "text/plain": [
       "1.8333333333333333"
      ]
     },
     "execution_count": 85,
     "metadata": {},
     "output_type": "execute_result"
    }
   ],
   "source": [
    "5.5 / 3\n"
   ]
  },
  {
   "cell_type": "code",
   "execution_count": null,
   "id": "3d8daa10",
   "metadata": {},
   "outputs": [],
   "source": []
  }
 ],
 "metadata": {
  "kernelspec": {
   "display_name": "38datademos_env",
   "language": "python",
   "name": "38datademos_env"
  },
  "language_info": {
   "codemirror_mode": {
    "name": "ipython",
    "version": 3
   },
   "file_extension": ".py",
   "mimetype": "text/x-python",
   "name": "python",
   "nbconvert_exporter": "python",
   "pygments_lexer": "ipython3",
   "version": "3.8.13"
  }
 },
 "nbformat": 4,
 "nbformat_minor": 5
}
