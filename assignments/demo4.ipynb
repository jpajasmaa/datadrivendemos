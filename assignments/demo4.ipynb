{
 "cells": [
  {
   "cell_type": "code",
   "execution_count": 1,
   "id": "2d6f87a8",
   "metadata": {},
   "outputs": [
    {
     "data": {
      "text/html": [
       "<style>.container { width:100% !important; }</style>"
      ],
      "text/plain": [
       "<IPython.core.display.HTML object>"
      ]
     },
     "execution_count": 1,
     "metadata": {},
     "output_type": "execute_result"
    }
   ],
   "source": [
    "from IPython.display import HTML\n",
    "HTML(\"<style>.container { width:100% !important; }</style>\")"
   ]
  },
  {
   "cell_type": "code",
   "execution_count": 2,
   "id": "42282e89",
   "metadata": {},
   "outputs": [],
   "source": [
    "import numpy as np\n",
    "from desdeo_emo.EAs import RVEA, NSGAIII\n",
    "from desdeo_problem.testproblems.TestProblems import test_problem_builder\n",
    "from desdeo_problem import DataProblem\n",
    "from desdeo_tools.utilities import fast_non_dominated_sort, hypervolume_indicator\n",
    "\n",
    "import matplotlib.pyplot as plt\n",
    "import sklearn\n",
    "from pyDOE import lhs\n",
    "import pandas as pd\n",
    "from sklearn.gaussian_process import GaussianProcessRegressor\n",
    "from sklearn.gaussian_process.kernels import RBF, ExpSineSquared, WhiteKernel, RationalQuadratic, DotProduct, ConstantKernel, Matern"
   ]
  },
  {
   "cell_type": "markdown",
   "id": "d833f7f7",
   "metadata": {},
   "source": [
    "## Assignment 4"
   ]
  },
  {
   "cell_type": "markdown",
   "id": "0d0f0d7d",
   "metadata": {},
   "source": [
    "## Task 1 \n",
    "\n",
    "Implement probability of selection for single objective optimization. * (refer eqn.\n",
    "12, 13, 14)"
   ]
  },
  {
   "cell_type": "code",
   "execution_count": 3,
   "id": "5638065e",
   "metadata": {},
   "outputs": [],
   "source": [
    "np.set_printoptions(precision=4,suppress=True) # easier to check values rn when we dont care too much about the exactness"
   ]
  },
  {
   "cell_type": "code",
   "execution_count": 196,
   "id": "5beb2c22",
   "metadata": {},
   "outputs": [
    {
     "data": {
      "text/plain": [
       "array([1., 0.])"
      ]
     },
     "execution_count": 196,
     "metadata": {},
     "output_type": "execute_result"
    }
   ],
   "source": [
    "# in minimization think probability of being wrong, in max probability of acceptance\n",
    "# probability of sample A dominating sample B in max is P(A > B) is\n",
    "def prob_selection(a, b, sigma_a, sigma_b):\n",
    "    #sigma_b = sigma_b + 0.01 # just to prevent division by zero\n",
    "    # seems not to be the correct way of hanlding sigma 0\n",
    "    if sigma_b == 0.0:\n",
    "        s = 0.\n",
    "        m = np.zeros_like(a)\n",
    "        print(\"hh\")\n",
    "    else:\n",
    "        s = sigma_a / sigma_b\n",
    "        m = (a - b) / sigma_b\n",
    "    \n",
    "    top = -2.5*m / np.sqrt(2 + 2*s**2)\n",
    "    bot = 1 + np.exp(top)\n",
    "    return 1 / bot\n",
    "\n",
    "# b clearly dominates\n",
    "a = np.array([1.0, 1.0])\n",
    "b = np.array([0.5, 1.5])\n",
    "sigma_a = .01\n",
    "sigma_b = .01\n",
    "\n",
    "prob_selection(a, b, sigma_a, sigma_b)"
   ]
  },
  {
   "cell_type": "code",
   "execution_count": 195,
   "id": "9d983c9f",
   "metadata": {},
   "outputs": [
    {
     "data": {
      "text/plain": [
       "array([1., 0.])"
      ]
     },
     "execution_count": 195,
     "metadata": {},
     "output_type": "execute_result"
    }
   ],
   "source": [
    "def prob_sel2(a, b, sigma_a, sigma_b):\n",
    "    if sigma_b == 0.0:\n",
    "        s = 0.\n",
    "        m = np.zeros_like(a)\n",
    "        print(\"hh\")\n",
    "    else:\n",
    "        s = sigma_a / sigma_b\n",
    "        m = (a - b) / sigma_b\n",
    "    \n",
    "    bot = 0.8*np.sqrt(2 + 2*s**2)\n",
    "    return 0.5*(1 + np.tanh(m/bot))\n",
    "    \n",
    "    \n",
    "    \n",
    "# a1 clearly dominates b1, b1 clearly dominates a2\n",
    "a = np.array([1.0, 1.0])\n",
    "b = np.array([0.5, 1.5])\n",
    "sigma_a = 0.001\n",
    "sigma_b = 0.001\n",
    "\n",
    "prob_sel2(a, b, sigma_a, sigma_b)"
   ]
  },
  {
   "cell_type": "markdown",
   "id": "695c0b79",
   "metadata": {},
   "source": [
    "So we can see that probability of being wrong with first items (1 and 2) by choosing a is 0.22. Again for second items (1,5) thats 0.007.  And also with 3rd items (3,1) its 0.92. So we can clearly see its working properly."
   ]
  },
  {
   "cell_type": "markdown",
   "id": "e4437cb5",
   "metadata": {},
   "source": [
    "## Task 2\n",
    "\n",
    "Implement probability of dominance and ranking. * (refer eqn. 15, 17, 18, 22)\n",
    "\n",
    "- Generate 50 samples from DTLZ2 problem (3 objectives, 5 decision variables) using LHS sampling\n",
    "- Build Kriging surrogates using the generated samples\n",
    "- Resample or generate 20 data points randomly\n",
    "- Rank the 20 points using probability of dominance ranking"
   ]
  },
  {
   "cell_type": "code",
   "execution_count": 145,
   "id": "4749f665",
   "metadata": {},
   "outputs": [],
   "source": [
    "dtlz2_3 = test_problem_builder(\"DTLZ2\", n_of_variables=5, n_of_objectives=3)"
   ]
  },
  {
   "cell_type": "code",
   "execution_count": 146,
   "id": "33c319db",
   "metadata": {},
   "outputs": [],
   "source": [
    "def create_samples(dec_dim, samples):\n",
    "    # create samples \n",
    "    x = lhs(dec_dim, samples)     \n",
    "    return np.asarray(x)"
   ]
  },
  {
   "cell_type": "code",
   "execution_count": 147,
   "id": "f41cd46d",
   "metadata": {
    "scrolled": true
   },
   "outputs": [
    {
     "name": "stdout",
     "output_type": "stream",
     "text": [
      "(50, 5)\n",
      "[[0.0015 0.001  1.2205]\n",
      " [1.102  0.1826 0.3468]\n",
      " [0.107  0.0588 1.4862]\n",
      " [0.0478 1.0128 0.4683]\n",
      " [1.0729 0.381  0.7594]]\n"
     ]
    }
   ],
   "source": [
    "x = create_samples(5, 50)\n",
    "print(x.shape)\n",
    "eval_results = dtlz2_3.evaluate(x)\n",
    "y = eval_results.objectives\n",
    "print(y[:5])"
   ]
  },
  {
   "cell_type": "code",
   "execution_count": 148,
   "id": "c667eb5b",
   "metadata": {},
   "outputs": [
    {
     "name": "stdout",
     "output_type": "stream",
     "text": [
      "[0.0015 1.102  0.107  0.0478 1.0729 0.3648 0.2215 0.194  0.6316 0.4401\n",
      " 0.5976 1.0801 0.6267 0.1289 0.0709 0.4962 0.1839 0.6767 0.1372 1.1737\n",
      " 0.1433 0.4147 0.5981 0.6159 0.5137 0.5745 0.1024 0.7553 0.3949 0.7295\n",
      " 0.0104 0.2927 0.024  0.7091 0.461  0.0893 0.8149 0.6307 1.2136 1.1422\n",
      " 1.1002 0.6958 0.4623 0.3283 0.9385 0.1827 0.919  0.2595 1.117  0.0041]\n"
     ]
    }
   ],
   "source": [
    "print(y[:,0])"
   ]
  },
  {
   "cell_type": "code",
   "execution_count": 149,
   "id": "f4514e24",
   "metadata": {},
   "outputs": [],
   "source": [
    "## build surrogates\n",
    "\n",
    "kernel = 1.0 * Matern(length_scale=1.0, length_scale_bounds=(1e-1, 20.0), nu=1.5)\n",
    "    \n",
    "y1 = y[:,0]\n",
    "gpr1 = GaussianProcessRegressor(kernel,n_restarts_optimizer=1,random_state=7).fit(x, y1)\n",
    "\n",
    "y2 = y[:,1]\n",
    "gpr2 = GaussianProcessRegressor(kernel,n_restarts_optimizer=1,random_state=7).fit(x, y2)\n",
    "\n",
    "y3 = y[:,2]\n",
    "gpr3 = GaussianProcessRegressor(kernel,n_restarts_optimizer=1,random_state=7).fit(x, y3)"
   ]
  },
  {
   "cell_type": "code",
   "execution_count": 150,
   "id": "09247aa3",
   "metadata": {},
   "outputs": [],
   "source": [
    "## resampling\n",
    "\n",
    "x_samples = create_samples(5, 20)\n",
    "\n",
    "# predict\n",
    "y1_sample, y1_std = gpr1.predict(x_samples, return_std=True) \n",
    "\n",
    "# predict\n",
    "y2_sample, y2_std = gpr2.predict(x_samples, return_std=True) \n",
    "\n",
    "# predict\n",
    "y3_sample, y3_std = gpr3.predict(x_samples, return_std=True) "
   ]
  },
  {
   "cell_type": "code",
   "execution_count": 1070,
   "id": "356be609",
   "metadata": {},
   "outputs": [],
   "source": [
    "\n",
    "\n",
    "# eq 15: MO P(A < B) : product to k, P(Aj < Bj)\n",
    "def smaller(a, b):\n",
    "    p = 0\n",
    "    # probl sel calculates P(A>B), so turn around for P (A < B)\n",
    "    props = prob_selection(b, a, .01, .01)\n",
    "    p = np.prod(props)\n",
    "    #p = props\n",
    "    #print(props)\n",
    "\n",
    "    return p\n",
    "\n",
    "# eq 17: MO P(A > B) : product to k, 1 - P(Aj < Bj)\n",
    "def bigger(a, b):\n",
    "    return 1 - smaller(a, b)\n",
    "\n",
    "\n",
    "# eq 18: MO P(A = B) : 1 - P(A < B) - P(A > B)\n",
    "def equals(a, b):\n",
    "    return 1 - smaller(a, b) - bigger(a, b)\n",
    "\n",
    "\n",
    "def me_equals(a, b):\n",
    "    summa = 0\n",
    "    \n",
    "    #if f1 < f2:\n",
    "    \n",
    "def dominates(x: np.ndarray, y: np.ndarray):\n",
    "    dom = 0\n",
    "\n",
    "    for i in range(len(x)):\n",
    "        if x[i] > y[i]:\n",
    "            return 0\n",
    "        elif x[i] < y[i]:\n",
    "            dom = 1\n",
    "            \n",
    "    return dom"
   ]
  },
  {
   "cell_type": "code",
   "execution_count": 1071,
   "id": "8ae7351b",
   "metadata": {},
   "outputs": [
    {
     "data": {
      "text/plain": [
       "1"
      ]
     },
     "execution_count": 1071,
     "metadata": {},
     "output_type": "execute_result"
    }
   ],
   "source": [
    "dominates(a,b)"
   ]
  },
  {
   "cell_type": "code",
   "execution_count": 1072,
   "id": "2b7159fe",
   "metadata": {
    "scrolled": true
   },
   "outputs": [
    {
     "data": {
      "text/plain": [
       "0.5"
      ]
     },
     "execution_count": 1072,
     "metadata": {},
     "output_type": "execute_result"
    }
   ],
   "source": [
    "a = np.array([0.35,0.5])\n",
    "b = np.array([0.85,0.5])\n",
    "\n",
    "\n",
    "B = a\n",
    "E = b\n",
    "\n",
    "smaller(B,E)"
   ]
  },
  {
   "cell_type": "code",
   "execution_count": 1073,
   "id": "7fc98922",
   "metadata": {
    "scrolled": true
   },
   "outputs": [
    {
     "data": {
      "text/plain": [
       "0.5"
      ]
     },
     "execution_count": 1073,
     "metadata": {},
     "output_type": "execute_result"
    }
   ],
   "source": [
    "bigger(B,E)"
   ]
  },
  {
   "cell_type": "code",
   "execution_count": 1074,
   "id": "a4732d3c",
   "metadata": {},
   "outputs": [
    {
     "data": {
      "text/plain": [
       "0.5"
      ]
     },
     "execution_count": 1074,
     "metadata": {},
     "output_type": "execute_result"
    }
   ],
   "source": [
    "bigger(a,b)"
   ]
  },
  {
   "cell_type": "code",
   "execution_count": 1075,
   "id": "32fb0446",
   "metadata": {},
   "outputs": [
    {
     "data": {
      "text/plain": [
       "0.0"
      ]
     },
     "execution_count": 1075,
     "metadata": {},
     "output_type": "execute_result"
    }
   ],
   "source": [
    "equals(a,b)"
   ]
  },
  {
   "cell_type": "code",
   "execution_count": 1076,
   "id": "cdd61130",
   "metadata": {
    "scrolled": true
   },
   "outputs": [],
   "source": [
    "f = bigger(a, b)\n",
    "\n",
    "# objective values from fitness measurements\n",
    "f1 = np.array([0,1])\n",
    "f2 = np.array([1,2])\n",
    "# f1 dominates f2"
   ]
  },
  {
   "cell_type": "code",
   "execution_count": 1077,
   "id": "4b678dc1",
   "metadata": {},
   "outputs": [],
   "source": [
    "rrr = np.array([1.,2.,3.])\n",
    "kkk = np.array([4.,5.,6.])\n",
    "\n"
   ]
  },
  {
   "cell_type": "code",
   "execution_count": 1078,
   "id": "581e6dfa",
   "metadata": {},
   "outputs": [
    {
     "data": {
      "text/plain": [
       "15.0"
      ]
     },
     "execution_count": 1078,
     "metadata": {},
     "output_type": "execute_result"
    }
   ],
   "source": [
    "def sum_of_rank_pos(n):\n",
    "    return n*(n - 1)/2\n",
    "\n",
    "sum_of_rank_pos(ff.shape[0])"
   ]
  },
  {
   "cell_type": "code",
   "execution_count": 1080,
   "id": "3169739e",
   "metadata": {},
   "outputs": [],
   "source": [
    "\n",
    "# eq 21: give fitnesses, return rankings \n",
    "def eq21(f):\n",
    "    ri = np.zeros_like(f)\n",
    "    for i in range(f.shape[0]):\n",
    "        for j in range(f.shape[0]):\n",
    "            ri[i] += smaller(f[j], f[i])\n",
    "            #ri[i] += dominates(f[j], f[i])\n",
    "        ri[i] -= 0.5\n",
    "    return ri\n",
    "    \n",
    "\n",
    "# this is wrong or the equals atleast is wrong\n",
    "def eq22(sols):\n",
    "    print(sols.shape)\n",
    "    num_sols = len(sols)\n",
    "    ri = np.zeros(6)\n",
    "    # could vectorize do stupid first\n",
    "    print(ri.shape)\n",
    "    #n = f.shape[0]\n",
    "    for i in range(num_sols):\n",
    "        #print(sols[i])\n",
    "        for j in range(num_sols):\n",
    "            ri[i] += dominates(sols[i], sols[j])    \n",
    "            print(f\"ri {ri[i]} __ {i} ___ {j}\")\n",
    "    \n",
    "        ri[i] -= 0.5\n",
    "    ri *= 0.5\n",
    "            #ri[i] -= 0.5\n",
    "        \n",
    "            \n",
    "    print(ri)\n",
    "    #ri -= 0.5\n",
    "    return ri\n",
    "    \n",
    "    \n",
    "\n",
    "# eq 22: proba ranking : sum to n, P(Fj > Fi) + 0.5 sum to n P(Fj = Fi) - 0.5\n",
    "def probabilitistic_ranking():\n",
    "    ranks = 0\n",
    "    #non_dom = \n",
    "    \n",
    "    return ranks"
   ]
  },
  {
   "cell_type": "code",
   "execution_count": 1081,
   "id": "89466011",
   "metadata": {
    "scrolled": true
   },
   "outputs": [
    {
     "name": "stdout",
     "output_type": "stream",
     "text": [
      "(6, 2)\n"
     ]
    }
   ],
   "source": [
    "A = [0.2, 0.9]  # tässä on a1 a2. kun lasketaan prod P (Ai < bi) i to n, tulee P(A < B)\n",
    "B = [0.3, 0.5]\n",
    "C = [0.5, 0.3]\n",
    "D = [0.8, 0.2]\n",
    "E = [0.85, 0.5]\n",
    "F = [0.9, 0.95]\n",
    "\n",
    "sols = np.array([A, B, C, D, E, F])\n",
    "print(sols.shape)\n",
    "ff = np.zeros(sols.shape[0])\n",
    "# this being eq21\n",
    "for i in range(ff.shape[0]):\n",
    "    for j in range(ff.shape[0]):\n",
    "        ff[i] += smaller(sols[j], sols[i])\n",
    "    #ff[i] -= 0.5"
   ]
  },
  {
   "cell_type": "code",
   "execution_count": 1082,
   "id": "8d242aa0",
   "metadata": {},
   "outputs": [
    {
     "data": {
      "text/plain": [
       "array([0.25  , 0.25  , 0.25  , 0.25  , 2.7481, 5.2461])"
      ]
     },
     "execution_count": 1082,
     "metadata": {},
     "output_type": "execute_result"
    }
   ],
   "source": [
    "ff\n",
    "#pr1 = ff"
   ]
  },
  {
   "cell_type": "code",
   "execution_count": 1083,
   "id": "a8ef043a",
   "metadata": {},
   "outputs": [
    {
     "data": {
      "text/plain": [
       "array([1.5002, 1.4998, 1.4998, 1.5002, 4.    , 5.    ])"
      ]
     },
     "execution_count": 1083,
     "metadata": {},
     "output_type": "execute_result"
    }
   ],
   "source": [
    "pr1 = eq21(ff)\n",
    "pr1"
   ]
  },
  {
   "cell_type": "code",
   "execution_count": 1084,
   "id": "d289ae53",
   "metadata": {},
   "outputs": [
    {
     "name": "stdout",
     "output_type": "stream",
     "text": [
      "(6, 2)\n",
      "(6,)\n",
      "ri 0.0 __ 0 ___ 0\n",
      "ri 0.0 __ 0 ___ 1\n",
      "ri 0.0 __ 0 ___ 2\n",
      "ri 0.0 __ 0 ___ 3\n",
      "ri 0.0 __ 0 ___ 4\n",
      "ri 1.0 __ 0 ___ 5\n",
      "ri 0.0 __ 1 ___ 0\n",
      "ri 0.0 __ 1 ___ 1\n",
      "ri 0.0 __ 1 ___ 2\n",
      "ri 0.0 __ 1 ___ 3\n",
      "ri 1.0 __ 1 ___ 4\n",
      "ri 2.0 __ 1 ___ 5\n",
      "ri 0.0 __ 2 ___ 0\n",
      "ri 0.0 __ 2 ___ 1\n",
      "ri 0.0 __ 2 ___ 2\n",
      "ri 0.0 __ 2 ___ 3\n",
      "ri 1.0 __ 2 ___ 4\n",
      "ri 2.0 __ 2 ___ 5\n",
      "ri 0.0 __ 3 ___ 0\n",
      "ri 0.0 __ 3 ___ 1\n",
      "ri 0.0 __ 3 ___ 2\n",
      "ri 0.0 __ 3 ___ 3\n",
      "ri 1.0 __ 3 ___ 4\n",
      "ri 2.0 __ 3 ___ 5\n",
      "ri 0.0 __ 4 ___ 0\n",
      "ri 0.0 __ 4 ___ 1\n",
      "ri 0.0 __ 4 ___ 2\n",
      "ri 0.0 __ 4 ___ 3\n",
      "ri 0.0 __ 4 ___ 4\n",
      "ri 1.0 __ 4 ___ 5\n",
      "ri 0.0 __ 5 ___ 0\n",
      "ri 0.0 __ 5 ___ 1\n",
      "ri 0.0 __ 5 ___ 2\n",
      "ri 0.0 __ 5 ___ 3\n",
      "ri 0.0 __ 5 ___ 4\n",
      "ri 0.0 __ 5 ___ 5\n",
      "[ 0.25  0.75  0.75  0.75  0.25 -0.25]\n"
     ]
    },
    {
     "data": {
      "text/plain": [
       "array([ 0.25,  0.75,  0.75,  0.75,  0.25, -0.25])"
      ]
     },
     "execution_count": 1084,
     "metadata": {},
     "output_type": "execute_result"
    }
   ],
   "source": [
    "pr2 = eq22(sols)\n",
    "pr2"
   ]
  },
  {
   "cell_type": "code",
   "execution_count": 1085,
   "id": "c48acb3c",
   "metadata": {
    "scrolled": true
   },
   "outputs": [
    {
     "data": {
      "text/plain": [
       "array([1.7502, 2.2498, 2.2498, 2.2502, 4.25  , 4.75  ])"
      ]
     },
     "execution_count": 1085,
     "metadata": {},
     "output_type": "execute_result"
    }
   ],
   "source": [
    "res = pr1 + pr2\n",
    "res"
   ]
  },
  {
   "cell_type": "code",
   "execution_count": 1086,
   "id": "a847a36a",
   "metadata": {},
   "outputs": [
    {
     "data": {
      "text/plain": [
       "17.5"
      ]
     },
     "execution_count": 1086,
     "metadata": {},
     "output_type": "execute_result"
    }
   ],
   "source": [
    "np.sum(res)"
   ]
  },
  {
   "cell_type": "code",
   "execution_count": 432,
   "id": "b367214a",
   "metadata": {},
   "outputs": [],
   "source": [
    "assert np.floor(np.sum(res)) == sum_of_rank_pos(ff.shape[0])"
   ]
  },
  {
   "cell_type": "code",
   "execution_count": null,
   "id": "3c065a2b",
   "metadata": {},
   "outputs": [],
   "source": []
  }
 ],
 "metadata": {
  "kernelspec": {
   "display_name": "38datademos_env",
   "language": "python",
   "name": "38datademos_env"
  },
  "language_info": {
   "codemirror_mode": {
    "name": "ipython",
    "version": 3
   },
   "file_extension": ".py",
   "mimetype": "text/x-python",
   "name": "python",
   "nbconvert_exporter": "python",
   "pygments_lexer": "ipython3",
   "version": "3.8.13"
  }
 },
 "nbformat": 4,
 "nbformat_minor": 5
}
