{
 "cells": [
  {
   "cell_type": "code",
   "execution_count": 1,
   "id": "2d6f87a8",
   "metadata": {},
   "outputs": [
    {
     "data": {
      "text/html": [
       "<style>.container { width:100% !important; }</style>"
      ],
      "text/plain": [
       "<IPython.core.display.HTML object>"
      ]
     },
     "execution_count": 1,
     "metadata": {},
     "output_type": "execute_result"
    }
   ],
   "source": [
    "from IPython.display import HTML\n",
    "HTML(\"<style>.container { width:100% !important; }</style>\")"
   ]
  },
  {
   "cell_type": "code",
   "execution_count": 2,
   "id": "42282e89",
   "metadata": {},
   "outputs": [],
   "source": [
    "import numpy as np\n",
    "from desdeo_emo.EAs import RVEA, NSGAIII\n",
    "from desdeo_problem.testproblems.TestProblems import test_problem_builder\n",
    "from desdeo_problem import DataProblem\n",
    "from desdeo_tools.utilities import fast_non_dominated_sort, hypervolume_indicator\n",
    "\n",
    "import matplotlib.pyplot as plt\n",
    "import sklearn\n",
    "from pyDOE import lhs\n",
    "import pandas as pd\n",
    "from sklearn.gaussian_process import GaussianProcessRegressor\n",
    "from sklearn.gaussian_process.kernels import RBF, ExpSineSquared, WhiteKernel, RationalQuadratic, DotProduct, ConstantKernel, Matern"
   ]
  },
  {
   "cell_type": "markdown",
   "id": "d833f7f7",
   "metadata": {},
   "source": [
    "## Assignment 4"
   ]
  },
  {
   "cell_type": "markdown",
   "id": "0d0f0d7d",
   "metadata": {},
   "source": [
    "## Task 1 \n",
    "\n",
    "Implement probability of selection for single objective optimization. * (refer eqn.\n",
    "12, 13, 14)"
   ]
  },
  {
   "cell_type": "code",
   "execution_count": 3,
   "id": "5638065e",
   "metadata": {},
   "outputs": [],
   "source": [
    "np.set_printoptions(precision=4,suppress=True) # easier to check values rn when we dont care too much about the exactness"
   ]
  },
  {
   "cell_type": "code",
   "execution_count": 4,
   "id": "5beb2c22",
   "metadata": {},
   "outputs": [
    {
     "data": {
      "text/plain": [
       "array([1., 0.])"
      ]
     },
     "execution_count": 4,
     "metadata": {},
     "output_type": "execute_result"
    }
   ],
   "source": [
    "# in minimization think probability of being wrong, in max probability of acceptance\n",
    "# probability of sample A dominating sample B in max is P(A > B) is\n",
    "def prob_selection(a, b, sigma_a, sigma_b):\n",
    "    #sigma_b = sigma_b + 0.01 # just to prevent division by zero\n",
    "    # seems not to be the correct way of hanlding sigma 0\n",
    "    if sigma_b == 0.0:\n",
    "        s = 0.\n",
    "        m = np.zeros_like(a)\n",
    "        print(\"hh\")\n",
    "    else:\n",
    "        s = sigma_a / sigma_b\n",
    "        m = (a - b) / sigma_b\n",
    "    \n",
    "    top = -2.5*m / np.sqrt(2 + 2*s**2)\n",
    "    bot = 1 + np.exp(top)\n",
    "    return 1 / bot\n",
    "\n",
    "# b clearly dominates\n",
    "a = np.array([1.0, 1.0])\n",
    "b = np.array([0.5, 1.5])\n",
    "sigma_a = .01\n",
    "sigma_b = .01\n",
    "\n",
    "prob_selection(a, b, sigma_a, sigma_b)"
   ]
  },
  {
   "cell_type": "code",
   "execution_count": 5,
   "id": "9d983c9f",
   "metadata": {},
   "outputs": [
    {
     "data": {
      "text/plain": [
       "array([1., 0.])"
      ]
     },
     "execution_count": 5,
     "metadata": {},
     "output_type": "execute_result"
    }
   ],
   "source": [
    "def prob_sel2(a, b, sigma_a, sigma_b):\n",
    "    if sigma_b == 0.0:\n",
    "        s = 0.\n",
    "        m = np.zeros_like(a)\n",
    "        print(\"hh\")\n",
    "    else:\n",
    "        s = sigma_a / sigma_b\n",
    "        m = (a - b) / sigma_b\n",
    "    \n",
    "    bot = 0.8*np.sqrt(2 + 2*s**2)\n",
    "    return 0.5*(1 + np.tanh(m/bot))\n",
    "    \n",
    "    \n",
    "    \n",
    "# a1 clearly dominates b1, b1 clearly dominates a2\n",
    "a = np.array([1.0, 1.0])\n",
    "b = np.array([0.5, 1.5])\n",
    "sigma_a = 0.001\n",
    "sigma_b = 0.001\n",
    "\n",
    "prob_sel2(a, b, sigma_a, sigma_b)"
   ]
  },
  {
   "cell_type": "markdown",
   "id": "695c0b79",
   "metadata": {},
   "source": [
    "So we can see that probability of being wrong with first items (1 and 2) by choosing a is 0.22. Again for second items (1,5) thats 0.007.  And also with 3rd items (3,1) its 0.92. So we can clearly see its working properly."
   ]
  },
  {
   "cell_type": "markdown",
   "id": "e4437cb5",
   "metadata": {},
   "source": [
    "## Task 2\n",
    "\n",
    "Implement probability of dominance and ranking. * (refer eqn. 15, 17, 18, 22)\n",
    "\n",
    "- Generate 50 samples from DTLZ2 problem (3 objectives, 5 decision variables) using LHS sampling\n",
    "- Build Kriging surrogates using the generated samples\n",
    "- Resample or generate 20 data points randomly\n",
    "- Rank the 20 points using probability of dominance ranking"
   ]
  },
  {
   "cell_type": "code",
   "execution_count": 9,
   "id": "4749f665",
   "metadata": {},
   "outputs": [],
   "source": [
    "dtlz2_3 = test_problem_builder(\"DTLZ2\", n_of_variables=5, n_of_objectives=3)"
   ]
  },
  {
   "cell_type": "code",
   "execution_count": 10,
   "id": "33c319db",
   "metadata": {},
   "outputs": [],
   "source": [
    "def create_samples(dec_dim, samples):\n",
    "    # create samples \n",
    "    x = lhs(dec_dim, samples)     \n",
    "    return np.asarray(x)"
   ]
  },
  {
   "cell_type": "code",
   "execution_count": 11,
   "id": "f41cd46d",
   "metadata": {
    "scrolled": true
   },
   "outputs": [
    {
     "name": "stdout",
     "output_type": "stream",
     "text": [
      "(50, 5)\n",
      "[[0.8913 0.6913 0.0039]\n",
      " [0.1408 0.6218 1.0171]\n",
      " [0.8357 0.3682 0.6289]\n",
      " [0.0402 0.1886 1.1342]\n",
      " [0.1014 0.0899 1.2099]]\n"
     ]
    }
   ],
   "source": [
    "x = create_samples(5, 50)\n",
    "print(x.shape)\n",
    "eval_results = dtlz2_3.evaluate(x)\n",
    "y = eval_results.objectives\n",
    "print(y[:5])"
   ]
  },
  {
   "cell_type": "code",
   "execution_count": 12,
   "id": "c667eb5b",
   "metadata": {},
   "outputs": [
    {
     "name": "stdout",
     "output_type": "stream",
     "text": [
      "[0.8913 0.1408 0.8357 0.0402 0.1014 0.5911 0.4447 0.86   1.1987 0.089\n",
      " 0.3723 1.1387 0.7821 1.0289 0.0566 0.801  0.3459 0.758  0.1752 0.003\n",
      " 0.2816 0.4041 0.1024 0.2507 0.6294 0.4027 0.8377 0.3641 0.0908 0.3179\n",
      " 0.5446 0.4121 0.8814 0.0018 0.4028 0.7037 1.0465 1.3726 1.2104 0.4077\n",
      " 0.3035 0.0579 0.2424 0.5002 0.0054 0.4853 0.3232 0.8696 0.5255 0.3682]\n"
     ]
    }
   ],
   "source": [
    "print(y[:,0])"
   ]
  },
  {
   "cell_type": "code",
   "execution_count": 13,
   "id": "f4514e24",
   "metadata": {},
   "outputs": [],
   "source": [
    "## build surrogates\n",
    "\n",
    "kernel = 1.0 * Matern(length_scale=1.0, length_scale_bounds=(1e-1, 20.0), nu=1.5)\n",
    "    \n",
    "y1 = y[:,0]\n",
    "gpr1 = GaussianProcessRegressor(kernel,n_restarts_optimizer=1,random_state=7).fit(x, y1)\n",
    "\n",
    "y2 = y[:,1]\n",
    "gpr2 = GaussianProcessRegressor(kernel,n_restarts_optimizer=1,random_state=7).fit(x, y2)\n",
    "\n",
    "y3 = y[:,2]\n",
    "gpr3 = GaussianProcessRegressor(kernel,n_restarts_optimizer=1,random_state=7).fit(x, y3)"
   ]
  },
  {
   "cell_type": "code",
   "execution_count": 14,
   "id": "09247aa3",
   "metadata": {},
   "outputs": [],
   "source": [
    "## resampling\n",
    "\n",
    "x_samples = create_samples(5, 20)\n",
    "\n",
    "# predict\n",
    "y1_sample, y1_std = gpr1.predict(x_samples, return_std=True) \n",
    "\n",
    "# predict\n",
    "y2_sample, y2_std = gpr2.predict(x_samples, return_std=True) \n",
    "\n",
    "# predict\n",
    "y3_sample, y3_std = gpr3.predict(x_samples, return_std=True) "
   ]
  },
  {
   "cell_type": "code",
   "execution_count": 15,
   "id": "356be609",
   "metadata": {},
   "outputs": [],
   "source": [
    "\n",
    "\n",
    "# eq 15: MO P(A < B) : product to k, P(Aj < Bj)\n",
    "def smaller(a, b):\n",
    "    p = 0\n",
    "    # probl sel calculates P(A>B), so turn around for P (A < B)\n",
    "    props = prob_selection(a, b, .01, .01) # should be prob a, b\n",
    "    p = np.prod(props)\n",
    "    #p = props\n",
    "    #print(props)\n",
    "\n",
    "    return p\n",
    "\n",
    "# eq 17: MO P(A > B) : product to k, 1 - P(Aj < Bj)\n",
    "def bigger(a, b):\n",
    "    return 1 - smaller(a, b)\n",
    "\n",
    "\n",
    "# eq 18: MO P(A = B) : 1 - P(A < B) - P(A > B)\n",
    "def equals(a, b):\n",
    "    return 1 - smaller(a, b) - bigger(a, b)\n",
    "\n",
    "\n",
    "def me_equals(a, b):\n",
    "    summa = 0\n",
    "    \n",
    "    #if f1 < f2:\n",
    "    \n",
    "def dominates(x: np.ndarray, y: np.ndarray):\n",
    "    dom = 0\n",
    "\n",
    "    for i in range(len(x)):\n",
    "        if x[i] > y[i]:\n",
    "            return 0\n",
    "        elif x[i] < y[i]:\n",
    "            dom = 1\n",
    "            \n",
    "    return dom"
   ]
  },
  {
   "cell_type": "code",
   "execution_count": 16,
   "id": "8ae7351b",
   "metadata": {},
   "outputs": [
    {
     "data": {
      "text/plain": [
       "0"
      ]
     },
     "execution_count": 16,
     "metadata": {},
     "output_type": "execute_result"
    }
   ],
   "source": [
    "dominates(a,b)"
   ]
  },
  {
   "cell_type": "code",
   "execution_count": 20,
   "id": "2b7159fe",
   "metadata": {
    "scrolled": true
   },
   "outputs": [
    {
     "data": {
      "text/plain": [
       "0.25"
      ]
     },
     "execution_count": 20,
     "metadata": {},
     "output_type": "execute_result"
    }
   ],
   "source": [
    "a = np.array([0.35,0.5])\n",
    "b = np.array([0.35,0.5])\n",
    "\n",
    "\n",
    "B = a\n",
    "E = b\n",
    "\n",
    "smaller(B,E)"
   ]
  },
  {
   "cell_type": "code",
   "execution_count": 21,
   "id": "7fc98922",
   "metadata": {
    "scrolled": true
   },
   "outputs": [
    {
     "data": {
      "text/plain": [
       "0.75"
      ]
     },
     "execution_count": 21,
     "metadata": {},
     "output_type": "execute_result"
    }
   ],
   "source": [
    "bigger(B,E)"
   ]
  },
  {
   "cell_type": "code",
   "execution_count": 22,
   "id": "a4732d3c",
   "metadata": {},
   "outputs": [
    {
     "data": {
      "text/plain": [
       "0.75"
      ]
     },
     "execution_count": 22,
     "metadata": {},
     "output_type": "execute_result"
    }
   ],
   "source": [
    "bigger(a,b)"
   ]
  },
  {
   "cell_type": "code",
   "execution_count": 23,
   "id": "32fb0446",
   "metadata": {},
   "outputs": [
    {
     "data": {
      "text/plain": [
       "0.0"
      ]
     },
     "execution_count": 23,
     "metadata": {},
     "output_type": "execute_result"
    }
   ],
   "source": [
    "equals(a,b)"
   ]
  },
  {
   "cell_type": "code",
   "execution_count": 24,
   "id": "cdd61130",
   "metadata": {
    "scrolled": true
   },
   "outputs": [],
   "source": [
    "f = bigger(a, b)\n",
    "\n",
    "# objective values from fitness measurements\n",
    "f1 = np.array([0,1])\n",
    "f2 = np.array([1,2])\n",
    "# f1 dominates f2"
   ]
  },
  {
   "cell_type": "code",
   "execution_count": 25,
   "id": "4b678dc1",
   "metadata": {},
   "outputs": [],
   "source": [
    "rrr = np.array([1.,2.,3.])\n",
    "kkk = np.array([4.,5.,6.])\n",
    "\n"
   ]
  },
  {
   "cell_type": "code",
   "execution_count": 26,
   "id": "581e6dfa",
   "metadata": {},
   "outputs": [
    {
     "data": {
      "text/plain": [
       "15.0"
      ]
     },
     "execution_count": 26,
     "metadata": {},
     "output_type": "execute_result"
    }
   ],
   "source": [
    "def sum_of_rank_pos(n):\n",
    "    return n*(n - 1)/2\n",
    "\n",
    "sum_of_rank_pos(ff.shape[0])"
   ]
  },
  {
   "cell_type": "code",
   "execution_count": 27,
   "id": "3169739e",
   "metadata": {},
   "outputs": [],
   "source": [
    "\n",
    "# eq 21: give fitnesses, return rankings \n",
    "def eq21(f):\n",
    "    ri = np.zeros_like(f)\n",
    "    \n",
    "    # FOR i in each individual. Sum compared to others j individuals -0.5 when i = j. \n",
    "    for i in range(f.shape[0]):\n",
    "        for j in range(f.shape[0]):\n",
    "            ri[i] += smaller(f[j], f[i])\n",
    "            print(ri[i])\n",
    "            #ri[i] += dominates(f[j], f[i])\n",
    "        ri[i] -= 0.5\n",
    "    return ri\n",
    "    \n",
    "\n",
    "# this is wrong or the equals atleast is wrong\n",
    "def eq22(sols):\n",
    "    print(sols.shape)\n",
    "    num_sols = len(sols)\n",
    "    ri = np.zeros(6)\n",
    "    # could vectorize do stupid first\n",
    "    print(ri.shape)\n",
    "    #n = f.shape[0]\n",
    "    for i in range(num_sols):\n",
    "        #print(sols[i])\n",
    "        for j in range(num_sols):\n",
    "            ri[i] += dominates(sols[i], sols[j])    \n",
    "            print(f\"ri {ri[i]} __ {i} ___ {j}\")\n",
    "    \n",
    "        ri[i] -= 0.5\n",
    "    ri *= 0.5\n",
    "            #ri[i] -= 0.5\n",
    "        \n",
    "            \n",
    "    print(ri)\n",
    "    #ri -= 0.5\n",
    "    return ri\n",
    "    \n",
    "    \n",
    "\n",
    "# eq 22: proba ranking : sum to n, P(Fj > Fi) + 0.5 sum to n P(Fj = Fi) - 0.5\n",
    "def probabilitistic_ranking():\n",
    "    ranks = 0\n",
    "    #non_dom = \n",
    "    \n",
    "    return ranks"
   ]
  },
  {
   "cell_type": "code",
   "execution_count": 25,
   "id": "89466011",
   "metadata": {
    "scrolled": true
   },
   "outputs": [
    {
     "name": "stdout",
     "output_type": "stream",
     "text": [
      "(6, 2)\n"
     ]
    },
    {
     "ename": "NameError",
     "evalue": "name 'smaller' is not defined",
     "output_type": "error",
     "traceback": [
      "\u001b[0;31m---------------------------------------------------------------------------\u001b[0m",
      "\u001b[0;31mNameError\u001b[0m                                 Traceback (most recent call last)",
      "Input \u001b[0;32mIn [25]\u001b[0m, in \u001b[0;36m<cell line: 12>\u001b[0;34m()\u001b[0m\n\u001b[1;32m     12\u001b[0m \u001b[38;5;28;01mfor\u001b[39;00m i \u001b[38;5;129;01min\u001b[39;00m \u001b[38;5;28mrange\u001b[39m(ff\u001b[38;5;241m.\u001b[39mshape[\u001b[38;5;241m0\u001b[39m]):\n\u001b[1;32m     13\u001b[0m     \u001b[38;5;28;01mfor\u001b[39;00m j \u001b[38;5;129;01min\u001b[39;00m \u001b[38;5;28mrange\u001b[39m(ff\u001b[38;5;241m.\u001b[39mshape[\u001b[38;5;241m0\u001b[39m]):\n\u001b[0;32m---> 14\u001b[0m         ff[i] \u001b[38;5;241m+\u001b[39m\u001b[38;5;241m=\u001b[39m \u001b[43msmaller\u001b[49m(sols[j], sols[i])\n",
      "\u001b[0;31mNameError\u001b[0m: name 'smaller' is not defined"
     ]
    }
   ],
   "source": [
    "A = [0.2, 0.9]  # tässä on a1 a2. kun lasketaan prod P (Ai < bi) i to n, tulee P(A < B)\n",
    "B = [0.3, 0.5]\n",
    "C = [0.5, 0.3]\n",
    "D = [0.8, 0.2]\n",
    "E = [0.85, 0.5]\n",
    "F = [0.9, 0.95]\n",
    "\n",
    "sols = np.array([A, B, C, D, E, F])\n",
    "print(sols.shape)\n",
    "ff = np.zeros(sols.shape[0])\n",
    "# this being eq21\n",
    "for i in range(ff.shape[0]):\n",
    "    for j in range(ff.shape[0]):\n",
    "        ff[i] += smaller(sols[j], sols[i])\n",
    "    #ff[i] -= 0.5"
   ]
  },
  {
   "cell_type": "code",
   "execution_count": 58,
   "id": "f026c6ec",
   "metadata": {},
   "outputs": [],
   "source": [
    "def prob_sel2(a, b, sigma_a, sigma_b):\n",
    "    if sigma_b == 0.0:\n",
    "        s = 0.\n",
    "        m = np.zeros_like(a)\n",
    "        print(\"hh\")\n",
    "    else:\n",
    "        s = sigma_a / sigma_b\n",
    "        m = (a - b) / sigma_b\n",
    "    \n",
    "    bot = 0.8*np.sqrt(2 + 2*s**2)\n",
    "    res = 0.5*(1 + np.tanh(m/bot))\n",
    "    res = np.prod(res)\n",
    "    #print(res.shape)\n",
    "    #print(res)\n",
    "    return res\n",
    "\n",
    "\n",
    "# eq 15: MO P(A < B) : product to k, P(Aj < Bj)\n",
    "def P_wrong(a, b):\n",
    "    p = 0\n",
    "    # probl sel calculates P(A>B), so turn around for P (A < B)\n",
    "    props = prob_sel2(a, b, .01, .01) # should be prob a, \n",
    "    \n",
    "    #p = np.prod(props)\n",
    "    p = props\n",
    "    print(props)\n",
    "\n",
    "    return p\n",
    "\n",
    "# eq 17: MO P(A > B) : product to k, 1 - P(Aj < Bj)\n",
    "def bigger(a, b):\n",
    "    return 1 - smaller(a, b)\n",
    "\n",
    "\n",
    "# eq 18: MO P(A = B) : 1 - P(A < B) - P(A > B)\n",
    "def equals(a, b):\n",
    "    return 1 - smaller(a, b) - bigger(a, b)\n"
   ]
  },
  {
   "cell_type": "markdown",
   "id": "5a9b9ce8",
   "metadata": {},
   "source": [
    "## DONE:\n",
    "\n",
    "Single objective ranking works with uncertainty 0 and uncertainty 1. So prob_sel2 works\n",
    "MO ranking with uncertainty 0 works\n",
    "\n",
    "## TODO:\n",
    "\n",
    "Multiobjective ranking with uncertainty has a bug and not working."
   ]
  },
  {
   "cell_type": "code",
   "execution_count": 52,
   "id": "4ecd6bf2",
   "metadata": {},
   "outputs": [],
   "source": [
    "sigma_a, sigma_b = 1.,1.\n",
    "\n",
    "def sof_prob_dom_single(fit, j):\n",
    "    summa = 0\n",
    "    for i in range(len(fit)):\n",
    "        if j == fit[i]:\n",
    "            #summa += 0.5\n",
    "            summa += prob_sel2(j, fit[i], sigma_a, sigma_b)\n",
    "        elif j > fit[i]:\n",
    "            #summa += 1.\n",
    "            summa += prob_sel2(j, fit[i], sigma_a, sigma_b)\n",
    "        elif j < fit[i]:\n",
    "            #summa += 0\n",
    "            summa += prob_sel2(j, fit[i], sigma_a, sigma_b)\n",
    "        else:\n",
    "            print(\"should not get here\")\n",
    "    summa -= 0.5\n",
    "    return summa\n",
    "  "
   ]
  },
  {
   "cell_type": "code",
   "execution_count": 39,
   "id": "69112bd1",
   "metadata": {
    "scrolled": true
   },
   "outputs": [
    {
     "name": "stdout",
     "output_type": "stream",
     "text": [
      "()\n",
      "0.5\n",
      "()\n",
      "0.22270013882530887\n",
      "()\n",
      "0.07585818002124356\n",
      "()\n",
      "0.07585818002124356\n",
      "()\n",
      "0.006692850924284843\n",
      "()\n",
      "0.0019267346633274895\n",
      "()\n",
      "0.001032231036754816\n",
      "()\n",
      "0.7772998611746911\n",
      "()\n",
      "0.5\n",
      "()\n",
      "0.22270013882530887\n",
      "()\n",
      "0.22270013882530887\n",
      "()\n",
      "0.022977369910025636\n",
      "()\n",
      "0.006692850924284843\n",
      "()\n",
      "0.003593602581420108\n",
      "()\n",
      "0.9241418199787564\n",
      "()\n",
      "0.7772998611746911\n",
      "()\n",
      "0.5\n",
      "()\n",
      "0.5\n",
      "()\n",
      "0.07585818002124356\n",
      "()\n",
      "0.022977369910025636\n",
      "()\n",
      "0.012431650853185816\n",
      "()\n",
      "0.9241418199787564\n",
      "()\n",
      "0.7772998611746911\n",
      "()\n",
      "0.5\n",
      "()\n",
      "0.5\n",
      "()\n",
      "0.07585818002124356\n",
      "()\n",
      "0.022977369910025636\n",
      "()\n",
      "0.012431650853185816\n",
      "()\n",
      "0.9933071490757152\n",
      "()\n",
      "0.9770226300899744\n",
      "()\n",
      "0.9241418199787564\n",
      "()\n",
      "0.9241418199787564\n",
      "()\n",
      "0.5\n",
      "()\n",
      "0.22270013882530887\n",
      "()\n",
      "0.1329642401978292\n",
      "()\n",
      "0.9980732653366725\n",
      "()\n",
      "0.9933071490757152\n",
      "()\n",
      "0.9770226300899744\n",
      "()\n",
      "0.9770226300899744\n",
      "()\n",
      "0.7772998611746911\n",
      "()\n",
      "0.5\n",
      "()\n",
      "0.34864513533394575\n",
      "()\n",
      "0.9989677689632452\n",
      "()\n",
      "0.99640639741858\n",
      "()\n",
      "0.9875683491468141\n",
      "()\n",
      "0.9875683491468141\n",
      "()\n",
      "0.8670357598021707\n",
      "()\n",
      "0.6513548646660543\n",
      "()\n",
      "0.5\n"
     ]
    },
    {
     "data": {
      "text/plain": [
       "[0.38406831549216314,\n",
       " 1.2559639622410395,\n",
       " 2.3127088819379025,\n",
       " 2.3127088819379025,\n",
       " 4.174277798146341,\n",
       " 5.071370671100974,\n",
       " 5.488901489143679]"
      ]
     },
     "execution_count": 39,
     "metadata": {},
     "output_type": "execute_result"
    }
   ],
   "source": [
    "# test from beginnning\n",
    "fit_values=[1.,2., 3., 3., 5., 6., 6.5 ]\n",
    "s = []\n",
    "\n",
    "for i in range(len(fit_values)):\n",
    "    s.append(sof_prob_dom_single(fit_values, fit_values[i]))\n",
    "s"
   ]
  },
  {
   "cell_type": "code",
   "execution_count": 53,
   "id": "6645c802",
   "metadata": {},
   "outputs": [
    {
     "data": {
      "text/plain": [
       "-1"
      ]
     },
     "execution_count": 53,
     "metadata": {},
     "output_type": "execute_result"
    }
   ],
   "source": [
    "def dominates(x: np.ndarray, y: np.ndarray):\n",
    "    dom = 0\n",
    "\n",
    "    for i in range(len(x)):\n",
    "        if x[i] > y[i]:\n",
    "            return -1\n",
    "        elif x[i] < y[i]:\n",
    "            dom = 1\n",
    "            \n",
    "    return dom\n",
    "\n",
    "\n",
    "x = np.array([1., 1.])\n",
    "y = np.array([.1, 1.])\n",
    "dominates(x, y)"
   ]
  },
  {
   "cell_type": "code",
   "execution_count": 201,
   "id": "eae0c88a",
   "metadata": {},
   "outputs": [],
   "source": [
    "sigma_a, sigma_b = 1.,1.\n",
    "\n",
    "\n",
    "# feels like im missing the product\n",
    "def sof_prob_dom_multi2(fit, j):\n",
    "    summa = 0\n",
    "    # should just go over the multi\n",
    "    for i in range(len(fit)):\n",
    "        for ii in range(fit.shape[1]):\n",
    "            #print(\"i\", ii)\n",
    "            #print(\"j\",j)\n",
    "            #j = j[ii]\n",
    "            fits = fit[i][ii]\n",
    "            if j[ii] == fits:\n",
    "                summa += 0.25\n",
    "                #s = prob_sel2(j[ii], fits, sigma_a, sigma_b)\n",
    "                #summa += s\n",
    "            elif j[ii] > fits:\n",
    "                summa += 0.5\n",
    "                #summa += prob_sel2(j[ii], fits, sigma_a, sigma_b)\n",
    "            elif j[ii] < fits:\n",
    "                summa += 0\n",
    "                #summa += prob_sel2(j[ii], fits, sigma_a, sigma_b)\n",
    "            else:\n",
    "                print(\"should not get here\")\n",
    "        \n",
    "        #summa *= 0.5\n",
    "    summa -= 0.5\n",
    "    return summa\n",
    "\n",
    "\n",
    "# feels like im missing the product\n",
    "def sof_prob_dom_multi(fit, j):\n",
    "    summa = 0\n",
    "    # should just go over the multi\n",
    "    for i in range(len(fit)):\n",
    "\n",
    "        #print(\"j\",j)\n",
    "        # P( A == B)\n",
    "        #print(\"round\")\n",
    "        if dominates(j, fit[i]) == 0:\n",
    "            xx = prob_sel2(j, fit[i], sigma_a, sigma_b)\n",
    "            #print(xx)\n",
    "            summa += 1.\n",
    "        # P( A > B)  \n",
    "        elif dominates(j, fit[i]) == 1:\n",
    "            xx2 = prob_sel2(j, fit[i], sigma_a, sigma_b)\n",
    "            #print(xx2)\n",
    "            summa += prob_sel2(j, fit[i], sigma_a, sigma_b)\n",
    "        # P( A < B)\n",
    "        elif dominates(j, fit[i]) == -1:\n",
    "            xx3 = prob_sel2(j, fit[i], sigma_a, sigma_b)\n",
    "            #print(xx3)\n",
    "            summa += prob_sel2(j, fit[i], sigma_a, sigma_b)\n",
    "        else:\n",
    "            print(\"should not get here\")\n",
    "         \n",
    "\n",
    "    summa *= 0.5\n",
    "    #summa -= 0.5\n",
    "    return summa\n"
   ]
  },
  {
   "cell_type": "markdown",
   "id": "8e514a36",
   "metadata": {},
   "source": [
    "###  this\n",
    "If the tness values are non-dominated, the corresponding\n",
    "probabilities are P (A > B ) = 0, P (A < B ) = 0, and P (A \u0011 B ) = 1. We have\n",
    "now lost the value 1 from the probability of domination calculations, therefore"
   ]
  },
  {
   "cell_type": "code",
   "execution_count": 202,
   "id": "eb0b1dc4",
   "metadata": {},
   "outputs": [
    {
     "data": {
      "text/plain": [
       "[1.064357939029948,\n",
       " 0.9685302625412685,\n",
       " 0.9702339537728406,\n",
       " 1.0361020890956514,\n",
       " 1.2086127540686513,\n",
       " 1.468952935018257]"
      ]
     },
     "execution_count": 202,
     "metadata": {},
     "output_type": "execute_result"
    }
   ],
   "source": [
    "\n",
    "s = []\n",
    "\n",
    "for i in range(len(sols)):\n",
    "    s.append(sof_prob_dom_multi(sols, sols[i]))\n",
    "s"
   ]
  },
  {
   "cell_type": "code",
   "execution_count": 203,
   "id": "fc64d215",
   "metadata": {},
   "outputs": [
    {
     "data": {
      "text/plain": [
       "[2.0, 1.75, 1.5, 1.5, 3.25, 5.0]"
      ]
     },
     "execution_count": 203,
     "metadata": {},
     "output_type": "execute_result"
    }
   ],
   "source": [
    "s2 = []\n",
    "\n",
    "for i in range(len(sols)):\n",
    "    s2.append(sof_prob_dom_multi2(sols, sols[i]))\n",
    "s2"
   ]
  },
  {
   "cell_type": "markdown",
   "id": "441a310c",
   "metadata": {},
   "source": [
    "## ^^ above works for uncertainty 0"
   ]
  },
  {
   "cell_type": "code",
   "execution_count": 204,
   "id": "2363b608",
   "metadata": {},
   "outputs": [
    {
     "data": {
      "text/plain": [
       "array([3.0644, 2.7185, 2.4702, 2.5361, 4.4586, 6.469 ])"
      ]
     },
     "execution_count": 204,
     "metadata": {},
     "output_type": "execute_result"
    }
   ],
   "source": [
    "s = np.asarray(s)\n",
    "s2 = np.asarray(s2)\n",
    "s + s2"
   ]
  },
  {
   "cell_type": "code",
   "execution_count": 124,
   "id": "2e8a241a",
   "metadata": {},
   "outputs": [],
   "source": [
    "## ^^ results look correct if eq22 would be correct..."
   ]
  },
  {
   "cell_type": "code",
   "execution_count": 30,
   "id": "8d242aa0",
   "metadata": {},
   "outputs": [
    {
     "data": {
      "text/plain": [
       "array([0., 0., 0., 0., 0., 0.])"
      ]
     },
     "execution_count": 30,
     "metadata": {},
     "output_type": "execute_result"
    }
   ],
   "source": [
    "ff\n",
    "#pr1 = ff"
   ]
  },
  {
   "cell_type": "code",
   "execution_count": 30,
   "id": "a8ef043a",
   "metadata": {},
   "outputs": [
    {
     "name": "stdout",
     "output_type": "stream",
     "text": [
      "0.5\n",
      "1.0001164570415275\n",
      "1.5002329140830533\n",
      "2.0002329140830533\n",
      "2.0002329140830533\n",
      "2.0002329140830533\n",
      "0.4998835429584724\n",
      "0.9998835429584725\n",
      "1.4998835429584707\n",
      "1.9997670859169432\n",
      "1.9997670859169432\n",
      "1.9997670859169432\n",
      "0.4998835429584742\n",
      "0.999883542958476\n",
      "1.499883542958476\n",
      "1.9997670859169503\n",
      "1.9997670859169503\n",
      "1.9997670859169503\n",
      "0.5\n",
      "1.0001164570415275\n",
      "1.5002329140830533\n",
      "2.0002329140830533\n",
      "2.0002329140830533\n",
      "2.0002329140830533\n",
      "1.0\n",
      "2.0\n",
      "3.0\n",
      "4.0\n",
      "4.5\n",
      "4.5\n",
      "1.0\n",
      "2.0\n",
      "3.0\n",
      "4.0\n",
      "5.0\n",
      "5.5\n"
     ]
    },
    {
     "data": {
      "text/plain": [
       "array([1.5002, 1.4998, 1.4998, 1.5002, 4.    , 5.    ])"
      ]
     },
     "execution_count": 30,
     "metadata": {},
     "output_type": "execute_result"
    }
   ],
   "source": [
    "pr1 = eq21(ff)\n",
    "pr1"
   ]
  },
  {
   "cell_type": "code",
   "execution_count": 31,
   "id": "d289ae53",
   "metadata": {},
   "outputs": [
    {
     "name": "stdout",
     "output_type": "stream",
     "text": [
      "(6, 2)\n",
      "(6,)\n",
      "ri 0.0 __ 0 ___ 0\n",
      "ri 0.0 __ 0 ___ 1\n",
      "ri 0.0 __ 0 ___ 2\n",
      "ri 0.0 __ 0 ___ 3\n",
      "ri 0.0 __ 0 ___ 4\n",
      "ri 1.0 __ 0 ___ 5\n",
      "ri 0.0 __ 1 ___ 0\n",
      "ri 0.0 __ 1 ___ 1\n",
      "ri 0.0 __ 1 ___ 2\n",
      "ri 0.0 __ 1 ___ 3\n",
      "ri 1.0 __ 1 ___ 4\n",
      "ri 2.0 __ 1 ___ 5\n",
      "ri 0.0 __ 2 ___ 0\n",
      "ri 0.0 __ 2 ___ 1\n",
      "ri 0.0 __ 2 ___ 2\n",
      "ri 0.0 __ 2 ___ 3\n",
      "ri 1.0 __ 2 ___ 4\n",
      "ri 2.0 __ 2 ___ 5\n",
      "ri 0.0 __ 3 ___ 0\n",
      "ri 0.0 __ 3 ___ 1\n",
      "ri 0.0 __ 3 ___ 2\n",
      "ri 0.0 __ 3 ___ 3\n",
      "ri 1.0 __ 3 ___ 4\n",
      "ri 2.0 __ 3 ___ 5\n",
      "ri 0.0 __ 4 ___ 0\n",
      "ri 0.0 __ 4 ___ 1\n",
      "ri 0.0 __ 4 ___ 2\n",
      "ri 0.0 __ 4 ___ 3\n",
      "ri 0.0 __ 4 ___ 4\n",
      "ri 1.0 __ 4 ___ 5\n",
      "ri 0.0 __ 5 ___ 0\n",
      "ri 0.0 __ 5 ___ 1\n",
      "ri 0.0 __ 5 ___ 2\n",
      "ri 0.0 __ 5 ___ 3\n",
      "ri 0.0 __ 5 ___ 4\n",
      "ri 0.0 __ 5 ___ 5\n",
      "[ 0.25  0.75  0.75  0.75  0.25 -0.25]\n"
     ]
    },
    {
     "data": {
      "text/plain": [
       "array([ 0.25,  0.75,  0.75,  0.75,  0.25, -0.25])"
      ]
     },
     "execution_count": 31,
     "metadata": {},
     "output_type": "execute_result"
    }
   ],
   "source": [
    "pr2 = eq22(sols)\n",
    "pr2"
   ]
  },
  {
   "cell_type": "code",
   "execution_count": 32,
   "id": "c48acb3c",
   "metadata": {
    "scrolled": true
   },
   "outputs": [
    {
     "data": {
      "text/plain": [
       "array([1.7502, 2.2498, 2.2498, 2.2502, 4.25  , 4.75  ])"
      ]
     },
     "execution_count": 32,
     "metadata": {},
     "output_type": "execute_result"
    }
   ],
   "source": [
    "res = pr1 + pr2\n",
    "res"
   ]
  },
  {
   "cell_type": "code",
   "execution_count": 33,
   "id": "a847a36a",
   "metadata": {},
   "outputs": [
    {
     "data": {
      "text/plain": [
       "17.5"
      ]
     },
     "execution_count": 33,
     "metadata": {},
     "output_type": "execute_result"
    }
   ],
   "source": [
    "np.sum(res)"
   ]
  },
  {
   "cell_type": "code",
   "execution_count": 432,
   "id": "b367214a",
   "metadata": {},
   "outputs": [],
   "source": [
    "assert np.floor(np.sum(res)) == sum_of_rank_pos(ff.shape[0])"
   ]
  },
  {
   "cell_type": "code",
   "execution_count": null,
   "id": "3c065a2b",
   "metadata": {},
   "outputs": [],
   "source": []
  }
 ],
 "metadata": {
  "kernelspec": {
   "display_name": "38datademos_env",
   "language": "python",
   "name": "38datademos_env"
  },
  "language_info": {
   "codemirror_mode": {
    "name": "ipython",
    "version": 3
   },
   "file_extension": ".py",
   "mimetype": "text/x-python",
   "name": "python",
   "nbconvert_exporter": "python",
   "pygments_lexer": "ipython3",
   "version": "3.8.13"
  }
 },
 "nbformat": 4,
 "nbformat_minor": 5
}
