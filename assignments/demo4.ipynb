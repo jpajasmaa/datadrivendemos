{
 "cells": [
  {
   "cell_type": "code",
   "execution_count": 1,
   "id": "2d6f87a8",
   "metadata": {},
   "outputs": [
    {
     "data": {
      "text/html": [
       "<style>.container { width:100% !important; }</style>"
      ],
      "text/plain": [
       "<IPython.core.display.HTML object>"
      ]
     },
     "execution_count": 1,
     "metadata": {},
     "output_type": "execute_result"
    }
   ],
   "source": [
    "from IPython.display import HTML\n",
    "HTML(\"<style>.container { width:100% !important; }</style>\")"
   ]
  },
  {
   "cell_type": "code",
   "execution_count": 2,
   "id": "42282e89",
   "metadata": {},
   "outputs": [],
   "source": [
    "import numpy as np\n",
    "from desdeo_emo.EAs import RVEA, NSGAIII\n",
    "from desdeo_problem.testproblems.TestProblems import test_problem_builder\n",
    "from desdeo_problem import DataProblem\n",
    "from desdeo_tools.utilities import fast_non_dominated_sort, hypervolume_indicator\n",
    "\n",
    "import matplotlib.pyplot as plt\n",
    "import sklearn\n",
    "from pyDOE import lhs\n",
    "import pandas as pd\n",
    "from sklearn.gaussian_process import GaussianProcessRegressor\n",
    "from sklearn.gaussian_process.kernels import RBF, ExpSineSquared, WhiteKernel, RationalQuadratic, DotProduct, ConstantKernel, Matern"
   ]
  },
  {
   "cell_type": "markdown",
   "id": "d833f7f7",
   "metadata": {},
   "source": [
    "## Assignment 4"
   ]
  },
  {
   "cell_type": "markdown",
   "id": "0d0f0d7d",
   "metadata": {},
   "source": [
    "## Task 1 \n",
    "\n",
    "Implement probability of selection for single objective optimization. * (refer eqn.\n",
    "12, 13, 14)"
   ]
  },
  {
   "cell_type": "code",
   "execution_count": 4,
   "id": "5638065e",
   "metadata": {},
   "outputs": [],
   "source": [
    "np.set_printoptions(precision=4,suppress=True) # easier to check values rn when we dont care too much about the exactness"
   ]
  },
  {
   "cell_type": "code",
   "execution_count": 5,
   "id": "5beb2c22",
   "metadata": {},
   "outputs": [
    {
     "data": {
      "text/plain": [
       "array([0., 0., 1.])"
      ]
     },
     "execution_count": 5,
     "metadata": {},
     "output_type": "execute_result"
    }
   ],
   "source": [
    "# in minimization think probability of being wrong, in max probability of acceptance\n",
    "# probability of sample A dominating sample B in max is P(A > B) is\n",
    "def prob_selection(a, b, sigma_a, sigma_b):\n",
    "    s = sigma_a / sigma_b\n",
    "    m = (a - b) / sigma_b\n",
    "    \n",
    "    top = -2.5*m / np.sqrt(2 + 2*s**2)\n",
    "    bot = 1 + np.exp(top)\n",
    "    return 1 / bot\n",
    "\n",
    "# b clearly dominates\n",
    "a = np.array([1.,1.,3.])\n",
    "b = np.array([2.,5.,1.])\n",
    "sigma_a = 0.01\n",
    "sigma_b = 0.01\n",
    "\n",
    "prob_selection(a, b, sigma_a, sigma_b)"
   ]
  },
  {
   "cell_type": "code",
   "execution_count": 6,
   "id": "9d983c9f",
   "metadata": {},
   "outputs": [
    {
     "data": {
      "text/plain": [
       "array([0.2227, 0.0067, 0.9241])"
      ]
     },
     "execution_count": 6,
     "metadata": {},
     "output_type": "execute_result"
    }
   ],
   "source": [
    "def prob_sel2(a, b, sigma_a, sigma_b):\n",
    "    s = sigma_a / sigma_b\n",
    "    m = (a - b) / sigma_b\n",
    "\n",
    "    bot = 0.8*np.sqrt(2 + 2*s**2)\n",
    "    return 0.5*(1 + np.tanh(m/bot))\n",
    "    \n",
    "    \n",
    "    \n",
    "# a1 clearly dominates b1, b1 clearly dominates a2\n",
    "a = np.array([1.,1.,3.])\n",
    "b = np.array([2.,5.,1.])\n",
    "sigma_a = 1.\n",
    "sigma_b = 1.\n",
    "\n",
    "prob_sel2(a, b, sigma_a, sigma_b)"
   ]
  },
  {
   "cell_type": "markdown",
   "id": "695c0b79",
   "metadata": {},
   "source": [
    "So we can see that probability of being wrong with first items (1 and 2) by choosing a is 0.22. Again for second items (1,5) thats 0.007.  And also with 3rd items (3,1) its 0.92. So we can clearly see its working properly."
   ]
  },
  {
   "cell_type": "markdown",
   "id": "e4437cb5",
   "metadata": {},
   "source": [
    "## Task 2\n",
    "\n",
    "Implement probability of dominance and ranking. * (refer eqn. 15, 17, 18, 22)\n",
    "\n",
    "- Generate 50 samples from DTLZ2 problem (3 objectives, 5 decision variables) using LHS sampling\n",
    "- Build Kriging surrogates using the generated samples\n",
    "- Resample or generate 20 data points randomly\n",
    "- Rank the 20 points using probability of dominance ranking"
   ]
  },
  {
   "cell_type": "code",
   "execution_count": 9,
   "id": "4749f665",
   "metadata": {},
   "outputs": [],
   "source": [
    "dtlz2_3 = test_problem_builder(\"DTLZ2\", n_of_variables=5, n_of_objectives=3)"
   ]
  },
  {
   "cell_type": "code",
   "execution_count": 10,
   "id": "33c319db",
   "metadata": {},
   "outputs": [],
   "source": [
    "def create_samples(dec_dim, samples):\n",
    "    # create samples \n",
    "    x = lhs(dec_dim, samples)     \n",
    "    return np.asarray(x)"
   ]
  },
  {
   "cell_type": "code",
   "execution_count": 11,
   "id": "f41cd46d",
   "metadata": {
    "scrolled": true
   },
   "outputs": [
    {
     "name": "stdout",
     "output_type": "stream",
     "text": [
      "(50, 5)\n",
      "[[0.622  0.7431 1.0673]\n",
      " [0.1619 1.225  0.5548]\n",
      " [0.5454 0.8174 0.8826]\n",
      " [0.0292 0.0374 1.1344]\n",
      " [1.0229 0.7998 0.1999]]\n"
     ]
    }
   ],
   "source": [
    "x = create_samples(5, 50)\n",
    "print(x.shape)\n",
    "eval_results = dtlz2_3.evaluate(x)\n",
    "y = eval_results.objectives\n",
    "print(y[:5])"
   ]
  },
  {
   "cell_type": "code",
   "execution_count": 12,
   "id": "c667eb5b",
   "metadata": {},
   "outputs": [
    {
     "name": "stdout",
     "output_type": "stream",
     "text": [
      "[0.622  0.1619 0.5454 0.0292 1.0229 1.0629 0.1616 0.3233 0.2553 0.2015\n",
      " 0.164  0.9144 0.4622 0.1    0.3535 0.8779 0.0119 0.7184 0.1718 0.5466\n",
      " 1.205  0.5222 0.0011 0.0037 0.3003 0.5981 0.4178 0.173  0.0484 0.792\n",
      " 0.1383 0.9036 0.4067 0.7915 1.0321 0.7092 1.2004 0.0617 0.3289 0.0463\n",
      " 0.1488 1.2565 1.0837 0.4299 0.7827 0.9642 0.2509 0.9557 0.6971 0.6054]\n"
     ]
    }
   ],
   "source": [
    "print(y[:,0])"
   ]
  },
  {
   "cell_type": "code",
   "execution_count": 13,
   "id": "f4514e24",
   "metadata": {},
   "outputs": [],
   "source": [
    "## build surrogates\n",
    "\n",
    "kernel = 1.0 * Matern(length_scale=1.0, length_scale_bounds=(1e-1, 20.0), nu=1.5)\n",
    "    \n",
    "y1 = y[:,0]\n",
    "gpr1 = GaussianProcessRegressor(kernel,n_restarts_optimizer=1,random_state=7).fit(x, y1)\n",
    "\n",
    "y2 = y[:,1]\n",
    "gpr2 = GaussianProcessRegressor(kernel,n_restarts_optimizer=1,random_state=7).fit(x, y2)\n",
    "\n",
    "y3 = y[:,2]\n",
    "gpr3 = GaussianProcessRegressor(kernel,n_restarts_optimizer=1,random_state=7).fit(x, y3)"
   ]
  },
  {
   "cell_type": "code",
   "execution_count": 14,
   "id": "09247aa3",
   "metadata": {},
   "outputs": [
    {
     "name": "stdout",
     "output_type": "stream",
     "text": [
      "0.06816775838730102\n",
      "0.06568298843432663\n",
      "0.05839646889857207\n"
     ]
    },
    {
     "data": {
      "text/plain": [
       "(20, 3)"
      ]
     },
     "execution_count": 14,
     "metadata": {},
     "output_type": "execute_result"
    }
   ],
   "source": [
    "## resampling\n",
    "\n",
    "x_samples = create_samples(5, 20)\n",
    "\n",
    "# predict\n",
    "y1_sample, y1_std = gpr1.predict(x_samples, return_std=True) \n",
    "print(np.mean(y1_std))\n",
    "\n",
    "# predict\n",
    "y2_sample, y2_std = gpr2.predict(x_samples, return_std=True) \n",
    "print(np.mean(y2_std))\n",
    "# predict\n",
    "y3_sample, y3_std = gpr3.predict(x_samples, return_std=True) \n",
    "print(np.mean(y3_std))\n",
    "\n",
    "y_samples = np.column_stack((y1_sample, y2_sample, y3_sample))\n",
    "#y_samples.reshape(1,-1)\n",
    "y_samples.shape"
   ]
  },
  {
   "cell_type": "code",
   "execution_count": 15,
   "id": "90226adf",
   "metadata": {},
   "outputs": [],
   "source": [
    "#print(y_samples)"
   ]
  },
  {
   "cell_type": "code",
   "execution_count": 16,
   "id": "581e6dfa",
   "metadata": {},
   "outputs": [
    {
     "data": {
      "text/plain": [
       "190.0"
      ]
     },
     "execution_count": 16,
     "metadata": {},
     "output_type": "execute_result"
    }
   ],
   "source": [
    "def sum_of_rank_pos(n):\n",
    "    return n*(n - 1)/2\n",
    "\n",
    "sum_of_rank_pos(y_samples.shape[0])"
   ]
  },
  {
   "cell_type": "code",
   "execution_count": 17,
   "id": "89466011",
   "metadata": {
    "scrolled": true
   },
   "outputs": [
    {
     "name": "stdout",
     "output_type": "stream",
     "text": [
      "(6, 2)\n"
     ]
    }
   ],
   "source": [
    "# Papers example, just to test the code\n",
    "A = [0.2, 0.9]  # tässä on a1 a2. kun lasketaan prod P (Ai < bi) i to n, tulee P(A < B)\n",
    "B = [0.3, 0.5]\n",
    "C = [0.5, 0.3]\n",
    "D = [0.8, 0.2]\n",
    "E = [0.85, 0.5]\n",
    "F = [0.9, 0.95]\n",
    "\n",
    "sols = np.array([A, B, C, D, E, F])\n",
    "print(sols.shape)"
   ]
  },
  {
   "cell_type": "markdown",
   "id": "5a9b9ce8",
   "metadata": {},
   "source": [
    "## DONE:\n",
    "\n",
    "Single objective ranking works with uncertainty 0 and uncertainty 1. So prob_sel2 works\n",
    "MO ranking with uncertainty 0 works\n",
    "\n",
    "mo ranking with uncertainty works\n",
    "\n",
    "## TODO:\n",
    "\n",
    "rest of the assigment using some data\n",
    "\n",
    "ask/find out about the bug with m."
   ]
  },
  {
   "cell_type": "code",
   "execution_count": 44,
   "id": "eae0c88a",
   "metadata": {},
   "outputs": [],
   "source": [
    "\n",
    "def prob_sel(a, b, sigma_a, sigma_b):\n",
    "    s = sigma_a / sigma_b\n",
    "    m = (a - b) / sigma_b\n",
    "\n",
    "    bot = 0.8*np.sqrt(2 + 2*s**2)\n",
    "    res = 0.5*(1 + np.tanh(m/bot))\n",
    "    res = np.prod(res)\n",
    "    return res\n",
    "\n",
    "\n",
    "def sof_prob_dom_multi(fit, j, sigma_a, sigma_b):\n",
    "    summa = 0\n",
    "    # iterate the sols\n",
    "    for i in range(fit.shape[0]):\n",
    "        for ii in range(fit.shape[1]):\n",
    "            \n",
    "            fits = fit[i][ii]\n",
    "            if j[ii] == fits:\n",
    "                s = prob_sel2(j[ii], fits, sigma_a, sigma_b)\n",
    "                summa += 0.5*s\n",
    "            elif j[ii] > fits:\n",
    "                s = prob_sel2(j[ii], fits, sigma_a, sigma_b)\n",
    "                summa += 0.5*s\n",
    "            elif j[ii] < fits:\n",
    "                s = prob_sel2(j[ii], fits, sigma_a, sigma_b)\n",
    "                summa += 0.5*s\n",
    "            else:\n",
    "                print(\"should not get here\")\n",
    "        \n",
    "    summa -= 0.5    \n",
    "    return summa"
   ]
  },
  {
   "cell_type": "markdown",
   "id": "8e514a36",
   "metadata": {},
   "source": [
    "###  Testing with paper example"
   ]
  },
  {
   "cell_type": "code",
   "execution_count": 45,
   "id": "fc64d215",
   "metadata": {
    "scrolled": false
   },
   "outputs": [
    {
     "data": {
      "text/plain": [
       "[2.0, 1.75, 1.5, 1.5, 3.25, 5.0]"
      ]
     },
     "execution_count": 45,
     "metadata": {},
     "output_type": "execute_result"
    }
   ],
   "source": [
    "s2 = []\n",
    "sigma_a, sigma_b = 0.001, 0.001 # no uncertainty\n",
    "\n",
    "# seems to work properly\n",
    "\n",
    "for i in range(len(sols)):\n",
    "    s2.append(sof_prob_dom_multi(sols, sols[i], sigma_a, sigma_b))\n",
    "s2"
   ]
  },
  {
   "cell_type": "markdown",
   "id": "ebf7e732",
   "metadata": {},
   "source": [
    "Same results as in the paper with 0 uncertainty."
   ]
  },
  {
   "cell_type": "code",
   "execution_count": 46,
   "id": "3f4099be",
   "metadata": {},
   "outputs": [
    {
     "data": {
      "text/plain": [
       "15.0"
      ]
     },
     "execution_count": 46,
     "metadata": {},
     "output_type": "execute_result"
    }
   ],
   "source": [
    "np.sum(s2)"
   ]
  },
  {
   "cell_type": "code",
   "execution_count": 47,
   "id": "cb6bd2f4",
   "metadata": {},
   "outputs": [
    {
     "data": {
      "text/plain": [
       "[2.4424476117753353,\n",
       " 2.0712607555795635,\n",
       " 2.069245942354567,\n",
       " 2.323391690061394,\n",
       " 2.7454916020811777,\n",
       " 3.348162398147964]"
      ]
     },
     "execution_count": 47,
     "metadata": {},
     "output_type": "execute_result"
    }
   ],
   "source": [
    "s3 = []\n",
    "sigma_a, sigma_b = 1., .1 # uncertainty of 1. \n",
    "\n",
    "for i in range(len(sols)):\n",
    "    s3.append(sof_prob_dom_multi(sols, sols[i], sigma_a, sigma_b))\n",
    "s3"
   ]
  },
  {
   "cell_type": "code",
   "execution_count": 48,
   "id": "33d6e68b",
   "metadata": {},
   "outputs": [
    {
     "data": {
      "text/plain": [
       "15.0"
      ]
     },
     "execution_count": 48,
     "metadata": {},
     "output_type": "execute_result"
    }
   ],
   "source": [
    "np.sum(s3)"
   ]
  },
  {
   "cell_type": "markdown",
   "id": "3d7b0ff3",
   "metadata": {},
   "source": [
    "With sigma = 1, results are quite not like in the paper.. but"
   ]
  },
  {
   "cell_type": "code",
   "execution_count": 49,
   "id": "ba8f554f",
   "metadata": {},
   "outputs": [
    {
     "data": {
      "text/plain": [
       "[2.2906164496671124,\n",
       " 1.634060344553688,\n",
       " 1.436565639361921,\n",
       " 1.9073932584275828,\n",
       " 3.1988455322854907,\n",
       " 4.532518775704205]"
      ]
     },
     "execution_count": 49,
     "metadata": {},
     "output_type": "execute_result"
    }
   ],
   "source": [
    "s4 = []\n",
    "sigma_a, sigma_b = 0.1, 0.1 # uncertainty of 0.1. \n",
    "\n",
    "for i in range(len(sols)):\n",
    "    s4.append(sof_prob_dom_multi(sols, sols[i], sigma_a, sigma_b))\n",
    "s4"
   ]
  },
  {
   "cell_type": "markdown",
   "id": "8a8d102d",
   "metadata": {},
   "source": [
    "with sigma 0.1, it gives pretty much the same results as in the paper.\n",
    "\n",
    "Assuming it works fine enough to continue, although not sure what is the problem."
   ]
  },
  {
   "cell_type": "markdown",
   "id": "67b4409d",
   "metadata": {},
   "source": [
    "## Ranking y_samples"
   ]
  },
  {
   "cell_type": "code",
   "execution_count": 96,
   "id": "3c065a2b",
   "metadata": {
    "scrolled": true
   },
   "outputs": [
    {
     "data": {
      "text/plain": [
       "[9.969902948052436,\n",
       " 8.824946374506299,\n",
       " 10.793185979834501,\n",
       " 7.793596512366614,\n",
       " 11.144231260213015,\n",
       " 9.69023281210676,\n",
       " 5.867692513312983,\n",
       " 6.3545436690189,\n",
       " 12.034783384098912,\n",
       " 10.03338939676105,\n",
       " 11.02243523077399,\n",
       " 9.7834697053731,\n",
       " 4.953107938432389,\n",
       " 7.898109177434787,\n",
       " 10.333824946205178,\n",
       " 11.485039980555257,\n",
       " 6.925057748638848,\n",
       " 11.563144307016799,\n",
       " 12.965306238121173,\n",
       " 10.563999877177014]"
      ]
     },
     "execution_count": 96,
     "metadata": {},
     "output_type": "execute_result"
    }
   ],
   "source": [
    "s = []\n",
    "sigma_a, sigma_b = np.mean(y1_std), np.mean(y2_std) # what about y3_std?\n",
    "\n",
    "\n",
    "for i in range(len(y_samples)):\n",
    "    s.append(sof_prob_dom_multi(y_samples, y_samples[i], sigma_a, sigma_b) - 5) # need to subtract -5 to hit 190 of sum rank pos, why?\n",
    "s"
   ]
  },
  {
   "cell_type": "code",
   "execution_count": 97,
   "id": "b5e9eb19",
   "metadata": {},
   "outputs": [
    {
     "data": {
      "text/plain": [
       "190.0"
      ]
     },
     "execution_count": 97,
     "metadata": {},
     "output_type": "execute_result"
    }
   ],
   "source": [
    "np.sum(s)"
   ]
  },
  {
   "cell_type": "code",
   "execution_count": 98,
   "id": "ab11cecc",
   "metadata": {},
   "outputs": [
    {
     "data": {
      "text/plain": [
       "190.0"
      ]
     },
     "execution_count": 98,
     "metadata": {},
     "output_type": "execute_result"
    }
   ],
   "source": [
    "sum_of_rank_pos(y_samples.shape[0])"
   ]
  },
  {
   "cell_type": "markdown",
   "id": "b5088563",
   "metadata": {},
   "source": [
    "### Everything kinda works?\n",
    "\n",
    "Ranking works, it does what is supposed to do if adding the extra subtract of 5, for the y_samples. That lets the sum of rank position to stay correct. Not sure if it is necessary to make these match or if there is a bug in the code and extra subtraction is not needed.."
   ]
  }
 ],
 "metadata": {
  "kernelspec": {
   "display_name": "38datademos_env",
   "language": "python",
   "name": "38datademos_env"
  },
  "language_info": {
   "codemirror_mode": {
    "name": "ipython",
    "version": 3
   },
   "file_extension": ".py",
   "mimetype": "text/x-python",
   "name": "python",
   "nbconvert_exporter": "python",
   "pygments_lexer": "ipython3",
   "version": "3.8.13"
  }
 },
 "nbformat": 4,
 "nbformat_minor": 5
}
