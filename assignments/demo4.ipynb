{
 "cells": [
  {
   "cell_type": "code",
   "execution_count": 1,
   "id": "2d6f87a8",
   "metadata": {},
   "outputs": [
    {
     "data": {
      "text/html": [
       "<style>.container { width:100% !important; }</style>"
      ],
      "text/plain": [
       "<IPython.core.display.HTML object>"
      ]
     },
     "execution_count": 1,
     "metadata": {},
     "output_type": "execute_result"
    }
   ],
   "source": [
    "from IPython.display import HTML\n",
    "HTML(\"<style>.container { width:100% !important; }</style>\")"
   ]
  },
  {
   "cell_type": "code",
   "execution_count": 2,
   "id": "42282e89",
   "metadata": {},
   "outputs": [],
   "source": [
    "import numpy as np\n",
    "from desdeo_emo.EAs import RVEA, NSGAIII\n",
    "from desdeo_problem.testproblems.TestProblems import test_problem_builder\n",
    "from desdeo_problem import DataProblem\n",
    "from desdeo_tools.utilities import fast_non_dominated_sort, hypervolume_indicator\n",
    "\n",
    "import matplotlib.pyplot as plt\n",
    "import sklearn\n",
    "from pyDOE import lhs\n",
    "import pandas as pd\n",
    "from sklearn.gaussian_process import GaussianProcessRegressor\n",
    "from sklearn.gaussian_process.kernels import RBF, ExpSineSquared, WhiteKernel, RationalQuadratic, DotProduct, ConstantKernel, Matern"
   ]
  },
  {
   "cell_type": "markdown",
   "id": "d833f7f7",
   "metadata": {},
   "source": [
    "## Assignment 4"
   ]
  },
  {
   "cell_type": "markdown",
   "id": "0d0f0d7d",
   "metadata": {},
   "source": [
    "## Task 1 \n",
    "\n",
    "Implement probability of selection for single objective optimization. * (refer eqn.\n",
    "12, 13, 14)"
   ]
  },
  {
   "cell_type": "code",
   "execution_count": 3,
   "id": "5638065e",
   "metadata": {},
   "outputs": [],
   "source": [
    "#np.set_printoptions(precision=4,suppress=True) # easier to check values rn when we dont care too much about the exactness"
   ]
  },
  {
   "cell_type": "code",
   "execution_count": 4,
   "id": "5beb2c22",
   "metadata": {},
   "outputs": [
    {
     "data": {
      "text/plain": [
       "array([5.16642063e-055, 7.12457641e-218, 1.00000000e+000])"
      ]
     },
     "execution_count": 4,
     "metadata": {},
     "output_type": "execute_result"
    }
   ],
   "source": [
    "# in minimization think probability of being wrong, in max probability of acceptance\n",
    "# probability of sample A dominating sample B in max is P(A > B) is\n",
    "def prob_selection(a, b, sigma_a, sigma_b):\n",
    "    s = sigma_a / sigma_b\n",
    "    m = (a - b) / sigma_b\n",
    "    \n",
    "    top = -2.5*m / np.sqrt(2 + 2*s**2)\n",
    "    bot = 1 + np.exp(top)\n",
    "    return 1 / bot\n",
    "\n",
    "# b clearly dominates\n",
    "a = np.array([1.,1.,3.])\n",
    "b = np.array([2.,5.,1.])\n",
    "sigma_a = 0.01\n",
    "sigma_b = 0.01\n",
    "\n",
    "prob_selection(a, b, sigma_a, sigma_b)"
   ]
  },
  {
   "cell_type": "code",
   "execution_count": 5,
   "id": "9d983c9f",
   "metadata": {},
   "outputs": [
    {
     "data": {
      "text/plain": [
       "array([0.22270014, 0.00669285, 0.92414182])"
      ]
     },
     "execution_count": 5,
     "metadata": {},
     "output_type": "execute_result"
    }
   ],
   "source": [
    "def prob_sel2(a, b):\n",
    "    s = 1.\n",
    "    m = (a - b) / 1.\n",
    "\n",
    "    bot = 0.8*np.sqrt(2 + 2*s**2)\n",
    "    return 0.5*(1 + np.tanh(m/bot))\n",
    "    \n",
    "    \n",
    "    \n",
    "# a1 clearly dominates b1, b1 clearly dominates a2\n",
    "a = np.array([1.,1.,3.])\n",
    "b = np.array([2.,5.,1.])\n",
    "\n",
    "\n",
    "prob_sel2(a, b)"
   ]
  },
  {
   "cell_type": "markdown",
   "id": "695c0b79",
   "metadata": {},
   "source": [
    "So we can see that probability of being wrong with first items (1 and 2) by choosing a is 0.22. Again for second items (1,5) thats 0.007.  And also with 3rd items (3,1) its 0.92. So we can clearly see its working properly."
   ]
  },
  {
   "cell_type": "markdown",
   "id": "e4437cb5",
   "metadata": {},
   "source": [
    "## Task 2\n",
    "\n",
    "Implement probability of dominance and ranking. * (refer eqn. 15, 17, 18, 22)\n",
    "\n",
    "- Generate 50 samples from DTLZ2 problem (3 objectives, 5 decision variables) using LHS sampling\n",
    "- Build Kriging surrogates using the generated samples\n",
    "- Resample or generate 20 data points randomly\n",
    "- Rank the 20 points using probability of dominance ranking"
   ]
  },
  {
   "cell_type": "code",
   "execution_count": 6,
   "id": "4749f665",
   "metadata": {},
   "outputs": [],
   "source": [
    "dtlz2_3 = test_problem_builder(\"DTLZ2\", n_of_variables=10, n_of_objectives=3)"
   ]
  },
  {
   "cell_type": "code",
   "execution_count": 7,
   "id": "33c319db",
   "metadata": {},
   "outputs": [],
   "source": [
    "def create_samples(dec_dim, samples):\n",
    "    # create samples \n",
    "    x = lhs(dec_dim, samples)     \n",
    "    return np.asarray(x)"
   ]
  },
  {
   "cell_type": "code",
   "execution_count": 8,
   "id": "f41cd46d",
   "metadata": {
    "scrolled": true
   },
   "outputs": [
    {
     "name": "stdout",
     "output_type": "stream",
     "text": [
      "(50, 10)\n",
      "[[0.01036054 0.00255694 1.5652018 ]\n",
      " [0.62344626 1.2807436  0.46982219]\n",
      " [0.01682817 1.52689439 0.39748128]\n",
      " [0.26087877 1.02314909 1.24290418]\n",
      " [0.90098103 0.79452953 0.81241821]]\n"
     ]
    }
   ],
   "source": [
    "x = create_samples(10, 50)\n",
    "print(x.shape)\n",
    "eval_results = dtlz2_3.evaluate(x)\n",
    "y = eval_results.objectives\n",
    "print(y[:5])"
   ]
  },
  {
   "cell_type": "code",
   "execution_count": 9,
   "id": "c667eb5b",
   "metadata": {},
   "outputs": [
    {
     "name": "stdout",
     "output_type": "stream",
     "text": [
      "[0.01036054 0.62344626 0.01682817 0.26087877 0.90098103 1.62355111\n",
      " 0.11561917 0.39517427 0.08310203 1.36062989 0.44934034 0.38784565\n",
      " 0.45693609 0.77361781 1.05700672 1.20362712 0.22638598 0.87220131\n",
      " 1.83892285 0.00881717 0.69219821 1.06703121 0.07237437 0.797057\n",
      " 0.45301648 0.02760147 0.31132831 0.10404651 0.09819365 0.76201001\n",
      " 0.81810897 0.88686998 0.21299806 1.50798702 0.03296605 1.15602488\n",
      " 0.73294866 1.61554898 0.74984241 0.48151025 1.98142186 0.47598442\n",
      " 0.90259875 0.83644563 1.16286381 1.15428215 0.54893222 1.25284948\n",
      " 0.33861398 0.74537751]\n"
     ]
    }
   ],
   "source": [
    "print(y[:,0])"
   ]
  },
  {
   "cell_type": "code",
   "execution_count": 10,
   "id": "f4514e24",
   "metadata": {},
   "outputs": [],
   "source": [
    "## build surrogates\n",
    "\n",
    "kernel = 1.0 * Matern(length_scale=1.0, length_scale_bounds=(1e-1, 20.0), nu=1.5)\n",
    "    \n",
    "y1 = y[:,0]\n",
    "gpr1 = GaussianProcessRegressor(kernel,n_restarts_optimizer=1,random_state=7).fit(x, y1)\n",
    "\n",
    "y2 = y[:,1]\n",
    "gpr2 = GaussianProcessRegressor(kernel,n_restarts_optimizer=1,random_state=7).fit(x, y2)\n",
    "\n",
    "y3 = y[:,2]\n",
    "gpr3 = GaussianProcessRegressor(kernel,n_restarts_optimizer=1,random_state=7).fit(x, y3)"
   ]
  },
  {
   "cell_type": "code",
   "execution_count": 11,
   "id": "09247aa3",
   "metadata": {},
   "outputs": [
    {
     "name": "stdout",
     "output_type": "stream",
     "text": [
      "0.1755047725529455\n",
      "0.20721492660547117\n",
      "0.1591923856873339\n"
     ]
    },
    {
     "data": {
      "text/plain": [
       "(20, 3)"
      ]
     },
     "execution_count": 11,
     "metadata": {},
     "output_type": "execute_result"
    }
   ],
   "source": [
    "## resampling\n",
    "\n",
    "x_samples = create_samples(10, 20)\n",
    "\n",
    "# predict\n",
    "y1_sample, y1_std = gpr1.predict(x_samples, return_std=True) \n",
    "print(np.mean(y1_std))\n",
    "\n",
    "# predict\n",
    "y2_sample, y2_std = gpr2.predict(x_samples, return_std=True) \n",
    "print(np.mean(y2_std))\n",
    "# predict\n",
    "y3_sample, y3_std = gpr3.predict(x_samples, return_std=True) \n",
    "print(np.mean(y3_std))\n",
    "\n",
    "y_samples = np.column_stack((y1_sample, y2_sample, y3_sample))\n",
    "#y_samples.reshape(1,-1)\n",
    "y_samples.shape"
   ]
  },
  {
   "cell_type": "code",
   "execution_count": 12,
   "id": "90226adf",
   "metadata": {},
   "outputs": [],
   "source": [
    "#print(y_samples)"
   ]
  },
  {
   "cell_type": "code",
   "execution_count": 13,
   "id": "581e6dfa",
   "metadata": {},
   "outputs": [
    {
     "data": {
      "text/plain": [
       "190.0"
      ]
     },
     "execution_count": 13,
     "metadata": {},
     "output_type": "execute_result"
    }
   ],
   "source": [
    "def sum_of_rank_pos(n):\n",
    "    return n*(n - 1)/2\n",
    "\n",
    "sum_of_rank_pos(y_samples.shape[0])"
   ]
  },
  {
   "cell_type": "code",
   "execution_count": 14,
   "id": "89466011",
   "metadata": {
    "scrolled": false
   },
   "outputs": [
    {
     "name": "stdout",
     "output_type": "stream",
     "text": [
      "(6, 2)\n",
      "15.0\n"
     ]
    }
   ],
   "source": [
    "# Papers example, just to test the code\n",
    "A = [0.2, 0.9]  # tässä on a1 a2. kun lasketaan prod P (Ai < bi) i to n, tulee P(A < B)\n",
    "B = [0.3, 0.5]\n",
    "C = [0.5, 0.3]\n",
    "D = [0.8, 0.2]\n",
    "E = [0.85, 0.5]\n",
    "F = [0.9, 0.95]\n",
    "\n",
    "sols = np.array([A, B, C, D, E, F])\n",
    "print(sols.shape)\n",
    "print(sum_of_rank_pos(sols.shape[0]))"
   ]
  },
  {
   "cell_type": "code",
   "execution_count": 15,
   "id": "58bda390",
   "metadata": {},
   "outputs": [],
   "source": [
    "simples = np.array([1.,2.,3.,3.,5.,6.,6.5])"
   ]
  },
  {
   "cell_type": "code",
   "execution_count": 16,
   "id": "b796f6bb",
   "metadata": {},
   "outputs": [
    {
     "data": {
      "text/plain": [
       "21.0"
      ]
     },
     "execution_count": 16,
     "metadata": {},
     "output_type": "execute_result"
    }
   ],
   "source": [
    "sum_of_rank_pos(simples.shape[0])"
   ]
  },
  {
   "cell_type": "code",
   "execution_count": 28,
   "id": "903c354c",
   "metadata": {},
   "outputs": [],
   "source": [
    "def prob_sel(a, b, sigma_a, sigma_b): \n",
    "    s = sigma_a / sigma_b\n",
    "    #s = 1.\n",
    "    m = (a - b) / sigma_b\n",
    "    bot = 0.8*np.sqrt(2 + 2*s**2)\n",
    "    return 0.5*(1 + np.tanh(m/bot))\n",
    "\n",
    "\n",
    "def smaller(a, b, sigma_a, sigma_b):\n",
    "    p = 0\n",
    "    props = prob_sel(a, b, sigma_a, sigma_b)\n",
    "    p = np.prod(props)\n",
    "    return p\n",
    "\n",
    "\n",
    "def bigger(a, b, sigma_a, sigma_b):\n",
    "    p = 0\n",
    "    props = np.ones_like(a.shape[0]) - prob_sel(a, b, sigma_a, sigma_b)\n",
    "    p = np.prod(props)\n",
    "    return p\n",
    "\n",
    "def equals(a, b, sigma_a, sigma_b):\n",
    "    s = smaller(a, b, sigma_a, sigma_b)\n",
    "    b = bigger(a, b, sigma_a, sigma_b)\n",
    "    return 1. - s - b\n",
    "\n",
    "# eq 21: give fitnesses, return rankings \n",
    "def eq21(f, sigma_a, sigma_b):\n",
    "    ri = []\n",
    "    for j in range(f.shape[0]):\n",
    "        summa = 0\n",
    "        for i in range(f.shape[0]):\n",
    "            summa += smaller(f[j], f[i], sigma_a, sigma_b)\n",
    "        #summa -= 0.5 # remove from here if using it in eq22\n",
    "        ri.append(summa)\n",
    "    return np.asarray(ri)\n",
    "\n",
    "def eq22(f, sigma_a, sigma_b):\n",
    "    ri = []\n",
    "    for j in range(f.shape[0]):\n",
    "        summa = 0\n",
    "        for i in range(f.shape[0]):\n",
    "            summa += equals(f[j], f[i], sigma_a, sigma_b)\n",
    "        summa *= 0.5\n",
    "        summa -= 0.5 # remove from here if using it in eq21\n",
    "        ri.append(summa)\n",
    "    return np.asarray(ri)\n",
    "\n",
    "# just calls eq21 and eq22 and sums them\n",
    "def mop_ranking(f, sigma_a, sigma_b):\n",
    "    return eq21(f, sigma_a, sigma_b) + eq22(f, sigma_a, sigma_b)"
   ]
  },
  {
   "cell_type": "markdown",
   "id": "8e514a36",
   "metadata": {},
   "source": [
    "###  Testing with paper example"
   ]
  },
  {
   "cell_type": "code",
   "execution_count": 34,
   "id": "fc64d215",
   "metadata": {
    "scrolled": false
   },
   "outputs": [
    {
     "data": {
      "text/plain": [
       "array([2.  , 1.75, 1.5 , 1.5 , 3.25, 5.  ])"
      ]
     },
     "execution_count": 34,
     "metadata": {},
     "output_type": "execute_result"
    }
   ],
   "source": [
    "sigma_a, sigma_b = 0.0001, 0.0001 # no uncertainty\n",
    "\n",
    "res = mop_ranking(sols, sigma_a, sigma_b)\n",
    "res"
   ]
  },
  {
   "cell_type": "markdown",
   "id": "ebf7e732",
   "metadata": {},
   "source": [
    "Same results as in the paper with 0 uncertainty."
   ]
  },
  {
   "cell_type": "code",
   "execution_count": 35,
   "id": "cb6bd2f4",
   "metadata": {},
   "outputs": [
    {
     "data": {
      "text/plain": [
       "array([2.4563904 , 2.18422086, 2.18354484, 2.36772444, 2.68053434,\n",
       "       3.12758511])"
      ]
     },
     "execution_count": 35,
     "metadata": {},
     "output_type": "execute_result"
    }
   ],
   "source": [
    "sigma_a, sigma_b = 1., 1. # uncertainty of 1. \n",
    "\n",
    "res = mop_ranking(sols, sigma_a, sigma_b)\n",
    "res"
   ]
  },
  {
   "cell_type": "markdown",
   "id": "3d7b0ff3",
   "metadata": {},
   "source": [
    "With sigma = 1, results are quite not like in the paper.. but"
   ]
  },
  {
   "cell_type": "code",
   "execution_count": 36,
   "id": "ba8f554f",
   "metadata": {},
   "outputs": [
    {
     "data": {
      "text/plain": [
       "array([2.29061645, 1.63406034, 1.43656564, 1.90739326, 3.19884553,\n",
       "       4.53251878])"
      ]
     },
     "execution_count": 36,
     "metadata": {},
     "output_type": "execute_result"
    }
   ],
   "source": [
    "sigma_a, sigma_b = 0.1, 0.1 # uncertainty of 0.1. \n",
    "\n",
    "res = mop_ranking(sols, sigma_a, sigma_b)\n",
    "res"
   ]
  },
  {
   "cell_type": "markdown",
   "id": "8a8d102d",
   "metadata": {},
   "source": [
    "with sigma 0.1, it gives pretty much the same results as in the paper.\n",
    "\n",
    "Assuming it works fine enough to continue, although not sure what is the problem."
   ]
  },
  {
   "cell_type": "markdown",
   "id": "67b4409d",
   "metadata": {},
   "source": [
    "## Ranking y_samples"
   ]
  },
  {
   "cell_type": "code",
   "execution_count": 23,
   "id": "3c065a2b",
   "metadata": {
    "scrolled": true
   },
   "outputs": [
    {
     "data": {
      "text/plain": [
       "array([ 9.42993203,  9.07658494,  9.2839752 ,  9.12258372,  9.46986736,\n",
       "        9.64007296,  9.61675007, 10.46343574,  9.41097698,  9.45228593,\n",
       "        8.974647  ,  9.14702022,  9.91579433, 10.17114515,  9.56704969,\n",
       "        9.86783602,  9.53670408,  9.56365501,  9.34873224,  8.94095134])"
      ]
     },
     "execution_count": 23,
     "metadata": {},
     "output_type": "execute_result"
    }
   ],
   "source": [
    "s = []\n",
    "sigma_a, sigma_b = np.mean(y1_std), np.mean(y2_std) # what about y3_std?\n",
    "y_samples\n",
    "\n",
    "res = mop_ranking(y_samples, sigma_a, sigma_b)\n",
    "res"
   ]
  },
  {
   "cell_type": "code",
   "execution_count": 25,
   "id": "b5e9eb19",
   "metadata": {},
   "outputs": [
    {
     "data": {
      "text/plain": [
       "190.0"
      ]
     },
     "execution_count": 25,
     "metadata": {},
     "output_type": "execute_result"
    }
   ],
   "source": [
    "np.sum(res)"
   ]
  },
  {
   "cell_type": "code",
   "execution_count": 26,
   "id": "ab11cecc",
   "metadata": {},
   "outputs": [
    {
     "data": {
      "text/plain": [
       "190.0"
      ]
     },
     "execution_count": 26,
     "metadata": {},
     "output_type": "execute_result"
    }
   ],
   "source": [
    "sum_of_rank_pos(y_samples.shape[0])"
   ]
  }
 ],
 "metadata": {
  "kernelspec": {
   "display_name": "38datademos_env",
   "language": "python",
   "name": "38datademos_env"
  },
  "language_info": {
   "codemirror_mode": {
    "name": "ipython",
    "version": 3
   },
   "file_extension": ".py",
   "mimetype": "text/x-python",
   "name": "python",
   "nbconvert_exporter": "python",
   "pygments_lexer": "ipython3",
   "version": "3.8.13"
  }
 },
 "nbformat": 4,
 "nbformat_minor": 5
}
