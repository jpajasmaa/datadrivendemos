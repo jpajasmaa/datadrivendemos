{
 "cells": [
  {
   "cell_type": "code",
   "execution_count": 1,
   "id": "2d6f87a8",
   "metadata": {},
   "outputs": [
    {
     "data": {
      "text/html": [
       "<style>.container { width:100% !important; }</style>"
      ],
      "text/plain": [
       "<IPython.core.display.HTML object>"
      ]
     },
     "execution_count": 1,
     "metadata": {},
     "output_type": "execute_result"
    }
   ],
   "source": [
    "from IPython.display import HTML\n",
    "HTML(\"<style>.container { width:100% !important; }</style>\")"
   ]
  },
  {
   "cell_type": "code",
   "execution_count": 32,
   "id": "42282e89",
   "metadata": {},
   "outputs": [],
   "source": [
    "import numpy as np\n",
    "from desdeo_emo.EAs import RVEA, NSGAIII\n",
    "from desdeo_problem.testproblems.TestProblems import test_problem_builder\n",
    "from desdeo_problem import DataProblem\n",
    "from desdeo_tools.utilities import fast_non_dominated_sort, hypervolume_indicator\n",
    "\n",
    "import matplotlib.pyplot as plt\n",
    "import sklearn\n",
    "from pyDOE import lhs\n",
    "import pandas as pd\n",
    "from sklearn.gaussian_process import GaussianProcessRegressor\n",
    "from sklearn.gaussian_process.kernels import RBF, ExpSineSquared, WhiteKernel, RationalQuadratic, DotProduct, ConstantKernel, Matern"
   ]
  },
  {
   "cell_type": "markdown",
   "id": "d833f7f7",
   "metadata": {},
   "source": [
    "## Assignment 4"
   ]
  },
  {
   "cell_type": "markdown",
   "id": "0d0f0d7d",
   "metadata": {},
   "source": [
    "## Task 1 \n",
    "\n",
    "Implement probability of selection for single objective optimization. * (refer eqn.\n",
    "12, 13, 14)"
   ]
  },
  {
   "cell_type": "code",
   "execution_count": 33,
   "id": "5638065e",
   "metadata": {},
   "outputs": [],
   "source": [
    "np.set_printoptions(suppress=True) # easier to check values rn when we dont care too much about the exactness"
   ]
  },
  {
   "cell_type": "code",
   "execution_count": 49,
   "id": "5beb2c22",
   "metadata": {},
   "outputs": [
    {
     "data": {
      "text/plain": [
       "array([0.22270014, 0.00669285, 0.92414182])"
      ]
     },
     "execution_count": 49,
     "metadata": {},
     "output_type": "execute_result"
    }
   ],
   "source": [
    "# in minimization think probability of being wrong, in max probability of acceptance\n",
    "# probability of sample A dominating sample B in max is P(A > B) is\n",
    "def prob_selection(a, b, sigma_a, sigma_b):\n",
    "    s = sigma_a / (sigma_b + 0.00001) # just to prevent division by zero\n",
    "    m = (a - b) / sigma_b\n",
    "    top = -2.5*m / np.sqrt(2 + 2*s**2)\n",
    "    bot = 1 + np.exp(top)\n",
    "    return 1 / bot\n",
    "\n",
    "\n",
    "a = np.array([1,1,3])\n",
    "b = np.array([2,5,1])\n",
    "sigma_a = 1.0\n",
    "sigma_b = 1.0\n",
    "\n",
    "prob_selection(a, b, sigma_a, sigma_b)"
   ]
  },
  {
   "cell_type": "markdown",
   "id": "695c0b79",
   "metadata": {},
   "source": [
    "So we can see that probability of being wrong with first items (1 and 2) by choosing a is 0.22. Again for second items (1,5) thats 0.007.  And also with 3rd items (3,1) its 0.92. So we can clearly see its working properly."
   ]
  },
  {
   "cell_type": "markdown",
   "id": "e4437cb5",
   "metadata": {},
   "source": [
    "## Task 2\n",
    "\n",
    "Implement probability of dominance and ranking. * (refer eqn. 15, 17, 18, 22)\n",
    "\n",
    "- Generate 50 samples from DTLZ2 problem (3 objectives, 5 decision variables) using LHS sampling\n",
    "- Build Kriging surrogates using the generated samples\n",
    "- Resample or generate 20 data points randomly\n",
    "- Rank the 20 points using probability of dominance ranking"
   ]
  },
  {
   "cell_type": "code",
   "execution_count": 42,
   "id": "4749f665",
   "metadata": {},
   "outputs": [],
   "source": [
    "dtlz2_3 = test_problem_builder(\"DTLZ2\", n_of_variables=5, n_of_objectives=3)"
   ]
  },
  {
   "cell_type": "code",
   "execution_count": 43,
   "id": "33c319db",
   "metadata": {},
   "outputs": [],
   "source": [
    "def create_samples(dec_dim, samples):\n",
    "    # create samples \n",
    "    x = lhs(dec_dim, samples)     \n",
    "    return np.asarray(x)"
   ]
  },
  {
   "cell_type": "code",
   "execution_count": 44,
   "id": "f41cd46d",
   "metadata": {
    "scrolled": true
   },
   "outputs": [
    {
     "name": "stdout",
     "output_type": "stream",
     "text": [
      "(50, 5)\n",
      "[[1.1893948  0.17827164 0.1959251 ]\n",
      " [0.05729974 0.11694473 1.06965455]\n",
      " [0.24042055 0.74171975 1.05247565]\n",
      " [0.88144829 0.930741   0.4431327 ]\n",
      " [0.92001799 0.49817906 1.11552057]]\n"
     ]
    }
   ],
   "source": [
    "x = create_samples(5, 50)\n",
    "print(x.shape)\n",
    "eval_results = dtlz2_3.evaluate(x)\n",
    "y = eval_results.objectives\n",
    "print(y[:5])"
   ]
  },
  {
   "cell_type": "code",
   "execution_count": 45,
   "id": "c667eb5b",
   "metadata": {},
   "outputs": [
    {
     "name": "stdout",
     "output_type": "stream",
     "text": [
      "[1.1893948  0.05729974 0.24042055 0.88144829 0.92001799 0.17385373\n",
      " 0.25250361 0.98912795 0.27973573 0.10875958 0.48843669 1.12852472\n",
      " 0.18311602 0.53590127 0.71384297 0.8465182  0.22945687 0.01626112\n",
      " 0.13166219 0.85366239 0.68474785 0.70350046 0.85339772 0.42743307\n",
      " 0.21017408 0.03569362 0.11921928 1.05129454 1.15501347 0.21246462\n",
      " 0.8594671  0.36990048 0.71579045 0.52058036 0.62377022 0.21384557\n",
      " 0.94192856 1.60108798 0.07989734 0.44294343 0.57026266 0.00196047\n",
      " 0.09424005 0.7217975  0.00187209 1.27111086 0.54936379 1.14372167\n",
      " 0.00764793 1.22283513]\n"
     ]
    }
   ],
   "source": [
    "print(y[:,0])"
   ]
  },
  {
   "cell_type": "code",
   "execution_count": 46,
   "id": "f4514e24",
   "metadata": {},
   "outputs": [],
   "source": [
    "## build surrogates\n",
    "\n",
    "kernel = 1.0 * Matern(length_scale=1.0, length_scale_bounds=(1e-1, 20.0), nu=1.5)\n",
    "    \n",
    "y1 = y[:,0]\n",
    "gpr1 = GaussianProcessRegressor(kernel,n_restarts_optimizer=1,random_state=7).fit(x, y1)\n",
    "\n",
    "y2 = y[:,1]\n",
    "gpr2 = GaussianProcessRegressor(kernel,n_restarts_optimizer=1,random_state=7).fit(x, y2)\n",
    "\n",
    "y3 = y[:,2]\n",
    "gpr3 = GaussianProcessRegressor(kernel,n_restarts_optimizer=1,random_state=7).fit(x, y3)"
   ]
  },
  {
   "cell_type": "code",
   "execution_count": 47,
   "id": "09247aa3",
   "metadata": {},
   "outputs": [],
   "source": [
    "## resampling\n",
    "\n",
    "x_samples = create_samples(5, 20)\n",
    "\n",
    "# predict\n",
    "y1_sample, y1_std = gpr1.predict(x_samples, return_std=True) \n",
    "\n",
    "# predict\n",
    "y2_sample, y2_std = gpr2.predict(x_samples, return_std=True) \n",
    "\n",
    "# predict\n",
    "y3_sample, y3_std = gpr3.predict(x_samples, return_std=True) "
   ]
  },
  {
   "cell_type": "code",
   "execution_count": 48,
   "id": "356be609",
   "metadata": {},
   "outputs": [],
   "source": [
    "a = np.array([1,1])\n",
    "b = np.array([2,0])\n",
    "\n",
    "# eq 15: MO P(A < B) : product to k, P(Aj < Bj)\n",
    "def smaller(a, b):\n",
    "    return j\n",
    "\n",
    "# eq 17: MO P(A > B) : product to k, 1 - P(Aj < Bj)\n",
    "def bigger(a, b):\n",
    "    return 1 - smaller(a, b)\n",
    "\n",
    "\n",
    "# eq 18: MO P(A = B) : 1 - P(A < B) - P(A > B)\n",
    "def equals(a, b):\n",
    "    return 1 - smaller(a, b) - bigger(a, b)\n",
    "\n",
    "# eq 22: proba ranking : sum to n, P(Fj > Fi) + 0.5 sum to n P(Fj = Fi) - 0.5\n",
    "def probabilitistic_ranking():\n",
    "    ranks = 0\n",
    "    #non_dom = \n",
    "    \n",
    "    return ranks"
   ]
  },
  {
   "cell_type": "code",
   "execution_count": null,
   "id": "2b7159fe",
   "metadata": {},
   "outputs": [],
   "source": [
    "a = np.array([1,1])\n",
    "b = np.array([2,0])\n",
    "\n",
    "smaller(a,b)"
   ]
  },
  {
   "cell_type": "code",
   "execution_count": null,
   "id": "cdd61130",
   "metadata": {},
   "outputs": [],
   "source": [
    "# objective values from fitness measurements\n",
    "f1 = np.array([0,1])\n",
    "f2 = np.array([1,2])\n",
    "# f1 dominates f2"
   ]
  }
 ],
 "metadata": {
  "kernelspec": {
   "display_name": "38datademos_env",
   "language": "python",
   "name": "38datademos_env"
  },
  "language_info": {
   "codemirror_mode": {
    "name": "ipython",
    "version": 3
   },
   "file_extension": ".py",
   "mimetype": "text/x-python",
   "name": "python",
   "nbconvert_exporter": "python",
   "pygments_lexer": "ipython3",
   "version": "3.8.13"
  }
 },
 "nbformat": 4,
 "nbformat_minor": 5
}
