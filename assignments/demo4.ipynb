{
 "cells": [
  {
   "cell_type": "code",
   "execution_count": 1,
   "id": "2d6f87a8",
   "metadata": {},
   "outputs": [
    {
     "data": {
      "text/html": [
       "<style>.container { width:100% !important; }</style>"
      ],
      "text/plain": [
       "<IPython.core.display.HTML object>"
      ]
     },
     "execution_count": 1,
     "metadata": {},
     "output_type": "execute_result"
    }
   ],
   "source": [
    "from IPython.display import HTML\n",
    "HTML(\"<style>.container { width:100% !important; }</style>\")"
   ]
  },
  {
   "cell_type": "code",
   "execution_count": 2,
   "id": "42282e89",
   "metadata": {},
   "outputs": [],
   "source": [
    "import numpy as np\n",
    "from desdeo_emo.EAs import RVEA, NSGAIII\n",
    "from desdeo_problem.testproblems.TestProblems import test_problem_builder\n",
    "from desdeo_problem import DataProblem\n",
    "from desdeo_tools.utilities import fast_non_dominated_sort, hypervolume_indicator\n",
    "\n",
    "import matplotlib.pyplot as plt\n",
    "import sklearn\n",
    "from pyDOE import lhs\n",
    "import pandas as pd\n",
    "from sklearn.gaussian_process import GaussianProcessRegressor\n",
    "from sklearn.gaussian_process.kernels import RBF, ExpSineSquared, WhiteKernel, RationalQuadratic, DotProduct, ConstantKernel, Matern"
   ]
  },
  {
   "cell_type": "markdown",
   "id": "d833f7f7",
   "metadata": {},
   "source": [
    "## Assignment 4"
   ]
  },
  {
   "cell_type": "markdown",
   "id": "0d0f0d7d",
   "metadata": {},
   "source": [
    "## Task 1 \n",
    "\n",
    "Implement probability of selection for single objective optimization. * (refer eqn.\n",
    "12, 13, 14)"
   ]
  },
  {
   "cell_type": "code",
   "execution_count": 3,
   "id": "5638065e",
   "metadata": {},
   "outputs": [],
   "source": [
    "np.set_printoptions(precision=4,suppress=True) # easier to check values rn when we dont care too much about the exactness"
   ]
  },
  {
   "cell_type": "code",
   "execution_count": 81,
   "id": "5beb2c22",
   "metadata": {},
   "outputs": [
    {
     "data": {
      "text/plain": [
       "array([0., 0., 1.])"
      ]
     },
     "execution_count": 81,
     "metadata": {},
     "output_type": "execute_result"
    }
   ],
   "source": [
    "# in minimization think probability of being wrong, in max probability of acceptance\n",
    "# probability of sample A dominating sample B in max is P(A > B) is\n",
    "def prob_selection(a, b, sigma_a, sigma_b):\n",
    "    #sigma_b = sigma_b + 0.01 # just to prevent division by zero\n",
    "    # seems not to be the correct way of hanlding sigma 0\n",
    "    if sigma_b == 0.0:\n",
    "        s = 0.\n",
    "        m = np.zeros_like(a)\n",
    "        print(\"hh\")\n",
    "    else:\n",
    "        s = sigma_a / sigma_b\n",
    "        m = (a - b) / sigma_b\n",
    "    \n",
    "    top = -2.5*m / np.sqrt(2 + 2*s**2)\n",
    "    bot = 1 + np.exp(top)\n",
    "    return 1 / bot\n",
    "\n",
    "# b clearly dominates\n",
    "a = np.array([1.,1.,3.])\n",
    "b = np.array([2.,5.,1.])\n",
    "sigma_a = 0.01\n",
    "sigma_b = 0.01\n",
    "\n",
    "prob_selection(a, b, sigma_a, sigma_b)"
   ]
  },
  {
   "cell_type": "code",
   "execution_count": 82,
   "id": "9d983c9f",
   "metadata": {},
   "outputs": [
    {
     "data": {
      "text/plain": [
       "array([0.2227, 0.0067, 0.9241])"
      ]
     },
     "execution_count": 82,
     "metadata": {},
     "output_type": "execute_result"
    }
   ],
   "source": [
    "def prob_sel2(a, b, sigma_a, sigma_b):\n",
    "    if sigma_b == 0.0:\n",
    "        s = 0.\n",
    "        m = np.zeros_like(a)\n",
    "        print(\"hh\")\n",
    "    else:\n",
    "        s = sigma_a / sigma_b\n",
    "        m = (a - b) / sigma_b\n",
    "\n",
    "    bot = 0.8*np.sqrt(2 + 2*s**2)\n",
    "    return 0.5*(1 + np.tanh(m/bot))\n",
    "    \n",
    "    \n",
    "    \n",
    "# a1 clearly dominates b1, b1 clearly dominates a2\n",
    "a = np.array([1.,1.,3.])\n",
    "b = np.array([2.,5.,1.])\n",
    "sigma_a = 1.\n",
    "sigma_b = 1.\n",
    "\n",
    "prob_sel2(a, b, sigma_a, sigma_b)"
   ]
  },
  {
   "cell_type": "markdown",
   "id": "695c0b79",
   "metadata": {},
   "source": [
    "So we can see that probability of being wrong with first items (1 and 2) by choosing a is 0.22. Again for second items (1,5) thats 0.007.  And also with 3rd items (3,1) its 0.92. So we can clearly see its working properly."
   ]
  },
  {
   "cell_type": "markdown",
   "id": "e4437cb5",
   "metadata": {},
   "source": [
    "## Task 2\n",
    "\n",
    "Implement probability of dominance and ranking. * (refer eqn. 15, 17, 18, 22)\n",
    "\n",
    "- Generate 50 samples from DTLZ2 problem (3 objectives, 5 decision variables) using LHS sampling\n",
    "- Build Kriging surrogates using the generated samples\n",
    "- Resample or generate 20 data points randomly\n",
    "- Rank the 20 points using probability of dominance ranking"
   ]
  },
  {
   "cell_type": "code",
   "execution_count": 83,
   "id": "4749f665",
   "metadata": {},
   "outputs": [],
   "source": [
    "dtlz2_3 = test_problem_builder(\"DTLZ2\", n_of_variables=5, n_of_objectives=3)"
   ]
  },
  {
   "cell_type": "code",
   "execution_count": 84,
   "id": "33c319db",
   "metadata": {},
   "outputs": [],
   "source": [
    "def create_samples(dec_dim, samples):\n",
    "    # create samples \n",
    "    x = lhs(dec_dim, samples)     \n",
    "    return np.asarray(x)"
   ]
  },
  {
   "cell_type": "code",
   "execution_count": 85,
   "id": "f41cd46d",
   "metadata": {
    "scrolled": true
   },
   "outputs": [
    {
     "name": "stdout",
     "output_type": "stream",
     "text": [
      "(50, 5)\n",
      "[[0.1371 0.0643 1.1041]\n",
      " [0.0247 0.9792 0.7709]\n",
      " [1.1628 0.121  0.2835]\n",
      " [1.2394 0.1599 0.6591]\n",
      " [0.9885 0.0187 0.5617]]\n"
     ]
    }
   ],
   "source": [
    "x = create_samples(5, 50)\n",
    "print(x.shape)\n",
    "eval_results = dtlz2_3.evaluate(x)\n",
    "y = eval_results.objectives\n",
    "print(y[:5])"
   ]
  },
  {
   "cell_type": "code",
   "execution_count": 86,
   "id": "c667eb5b",
   "metadata": {},
   "outputs": [
    {
     "name": "stdout",
     "output_type": "stream",
     "text": [
      "[0.1371 0.0247 1.1628 1.2394 0.9885 0.0936 1.0715 0.181  0.0909 0.2334\n",
      " 0.2436 0.1661 0.5621 0.3013 0.8812 0.6573 0.8101 0.0455 0.6783 0.9711\n",
      " 0.136  0.9906 0.6532 0.8524 0.6053 0.5604 0.6017 0.7743 0.816  0.2302\n",
      " 0.0322 0.1503 0.003  0.0155 0.8721 0.359  1.0353 1.4057 0.2536 0.3012\n",
      " 0.3315 0.2029 0.5867 0.5506 0.3259 0.3336 0.0268 0.4476 0.4068 0.5986]\n"
     ]
    }
   ],
   "source": [
    "print(y[:,0])"
   ]
  },
  {
   "cell_type": "code",
   "execution_count": 87,
   "id": "f4514e24",
   "metadata": {},
   "outputs": [],
   "source": [
    "## build surrogates\n",
    "\n",
    "kernel = 1.0 * Matern(length_scale=1.0, length_scale_bounds=(1e-1, 20.0), nu=1.5)\n",
    "    \n",
    "y1 = y[:,0]\n",
    "gpr1 = GaussianProcessRegressor(kernel,n_restarts_optimizer=1,random_state=7).fit(x, y1)\n",
    "\n",
    "y2 = y[:,1]\n",
    "gpr2 = GaussianProcessRegressor(kernel,n_restarts_optimizer=1,random_state=7).fit(x, y2)\n",
    "\n",
    "y3 = y[:,2]\n",
    "gpr3 = GaussianProcessRegressor(kernel,n_restarts_optimizer=1,random_state=7).fit(x, y3)"
   ]
  },
  {
   "cell_type": "code",
   "execution_count": 88,
   "id": "09247aa3",
   "metadata": {},
   "outputs": [
    {
     "name": "stdout",
     "output_type": "stream",
     "text": [
      "0.059758661192970276\n",
      "0.06008813678032761\n",
      "0.05121147283185466\n"
     ]
    },
    {
     "data": {
      "text/plain": [
       "(20, 3)"
      ]
     },
     "execution_count": 88,
     "metadata": {},
     "output_type": "execute_result"
    }
   ],
   "source": [
    "## resampling\n",
    "\n",
    "x_samples = create_samples(5, 20)\n",
    "\n",
    "# predict\n",
    "y1_sample, y1_std = gpr1.predict(x_samples, return_std=True) \n",
    "print(np.mean(y1_std))\n",
    "\n",
    "# predict\n",
    "y2_sample, y2_std = gpr2.predict(x_samples, return_std=True) \n",
    "print(np.mean(y2_std))\n",
    "# predict\n",
    "y3_sample, y3_std = gpr3.predict(x_samples, return_std=True) \n",
    "print(np.mean(y3_std))\n",
    "\n",
    "y_samples = np.column_stack((y1_sample, y2_sample, y3_sample))\n",
    "#y_samples.reshape(1,-1)\n",
    "y_samples.shape"
   ]
  },
  {
   "cell_type": "code",
   "execution_count": 89,
   "id": "90226adf",
   "metadata": {},
   "outputs": [],
   "source": [
    "#print(y_samples)"
   ]
  },
  {
   "cell_type": "code",
   "execution_count": 90,
   "id": "581e6dfa",
   "metadata": {},
   "outputs": [
    {
     "data": {
      "text/plain": [
       "190.0"
      ]
     },
     "execution_count": 90,
     "metadata": {},
     "output_type": "execute_result"
    }
   ],
   "source": [
    "def sum_of_rank_pos(n):\n",
    "    return n*(n - 1)/2\n",
    "\n",
    "sum_of_rank_pos(y_samples.shape[0])"
   ]
  },
  {
   "cell_type": "code",
   "execution_count": 91,
   "id": "89466011",
   "metadata": {
    "scrolled": true
   },
   "outputs": [
    {
     "name": "stdout",
     "output_type": "stream",
     "text": [
      "(6, 2)\n"
     ]
    }
   ],
   "source": [
    "# Papers example, just to test the code\n",
    "A = [0.2, 0.9]  # tässä on a1 a2. kun lasketaan prod P (Ai < bi) i to n, tulee P(A < B)\n",
    "B = [0.3, 0.5]\n",
    "C = [0.5, 0.3]\n",
    "D = [0.8, 0.2]\n",
    "E = [0.85, 0.5]\n",
    "F = [0.9, 0.95]\n",
    "\n",
    "sols = np.array([A, B, C, D, E, F])\n",
    "print(sols.shape)"
   ]
  },
  {
   "cell_type": "markdown",
   "id": "5a9b9ce8",
   "metadata": {},
   "source": [
    "## DONE:\n",
    "\n",
    "Single objective ranking works with uncertainty 0 and uncertainty 1. So prob_sel2 works\n",
    "MO ranking with uncertainty 0 works\n",
    "\n",
    "mo ranking with uncertainty works\n",
    "\n",
    "## TODO:\n",
    "\n",
    "rest of the assigment using some data\n",
    "\n",
    "ask/find out about the bug with m."
   ]
  },
  {
   "cell_type": "code",
   "execution_count": 92,
   "id": "eae0c88a",
   "metadata": {},
   "outputs": [],
   "source": [
    "\n",
    "## Need to:\n",
    "## either multiply m by 10, or multiply sigmas by 10, to get similar results than in example\n",
    "##\n",
    "\n",
    "\n",
    "def prob_sel(a, b, sigma_a, sigma_b):\n",
    "    s = sigma_a / sigma_b\n",
    "    #print(\"S\",s)\n",
    "    #s = 1.\n",
    "    m = (a - b) / sigma_b\n",
    "    #print(\"M\",m)\n",
    "    m = m *10\n",
    "\n",
    "    bot = 0.8*np.sqrt(2 + 2*s**2)\n",
    "    res = 0.5*(1 + np.tanh(m/bot))\n",
    "    res = np.prod(res)\n",
    "    return res\n",
    "\n",
    "\n",
    "# note 18.27 approx with uncertainty of 0 works\n",
    "def sof_prob_dom_multi(fit, j, sigma_a, sigma_b):\n",
    "    summa = 0\n",
    "    # should just go over the multi\n",
    "    for i in range(fit.shape[0]):\n",
    "        for ii in range(fit.shape[1]):\n",
    "            \n",
    "            fits = fit[i][ii]\n",
    "            if j[ii] == fits:\n",
    "                #summa += 0.25\n",
    "                s = prob_sel2(j[ii], fits, sigma_a, sigma_b)\n",
    "                #print(\"eq\", s)\n",
    "                summa += 0.5*s\n",
    "            elif j[ii] > fits:\n",
    "                #summa += 0.5\n",
    "                s = prob_sel2(j[ii], fits, sigma_a, sigma_b)\n",
    "                #print(\"doms\",s)\n",
    "                summa += 0.5*s\n",
    "            elif j[ii] < fits:\n",
    "                #summa += 0\n",
    "                s = prob_sel2(j[ii], fits, sigma_a, sigma_b)\n",
    "                #print(\"does not dom\",s)\n",
    "                summa += 0.5*s\n",
    "            else:\n",
    "                print(\"should not get here\")\n",
    "        \n",
    "    summa -= 0.5\n",
    "    # this seems to need to be -5.5 for 5 var, 3 obj\n",
    "    \n",
    "    return summa"
   ]
  },
  {
   "cell_type": "markdown",
   "id": "8e514a36",
   "metadata": {},
   "source": [
    "###  Testing with paper example"
   ]
  },
  {
   "cell_type": "code",
   "execution_count": 93,
   "id": "fc64d215",
   "metadata": {
    "scrolled": false
   },
   "outputs": [
    {
     "data": {
      "text/plain": [
       "[2.0, 1.75, 1.5, 1.5, 3.25, 5.0]"
      ]
     },
     "execution_count": 93,
     "metadata": {},
     "output_type": "execute_result"
    }
   ],
   "source": [
    "s2 = []\n",
    "sigma_a, sigma_b = 0.001, 0.001 # no uncertainty\n",
    "\n",
    "for i in range(len(sols)):\n",
    "    s2.append(sof_prob_dom_multi(sols, sols[i], sigma_a, sigma_b))\n",
    "s2"
   ]
  },
  {
   "cell_type": "code",
   "execution_count": 94,
   "id": "3f4099be",
   "metadata": {},
   "outputs": [
    {
     "data": {
      "text/plain": [
       "15.0"
      ]
     },
     "execution_count": 94,
     "metadata": {},
     "output_type": "execute_result"
    }
   ],
   "source": [
    "np.sum(s2)"
   ]
  },
  {
   "cell_type": "code",
   "execution_count": 95,
   "id": "cb6bd2f4",
   "metadata": {},
   "outputs": [
    {
     "data": {
      "text/plain": [
       "[2.4563903951090653,\n",
       " 2.1842208625286634,\n",
       " 2.1835448445715415,\n",
       " 2.367724440504491,\n",
       " 2.680534343436036,\n",
       " 3.1275851138502024]"
      ]
     },
     "execution_count": 95,
     "metadata": {},
     "output_type": "execute_result"
    }
   ],
   "source": [
    "s3 = []\n",
    "sigma_a, sigma_b = 1., 1. # uncertainty of 1. \n",
    "\n",
    "for i in range(len(sols)):\n",
    "    s3.append(sof_prob_dom_multi(sols, sols[i], sigma_a, sigma_b))\n",
    "s3"
   ]
  },
  {
   "cell_type": "code",
   "execution_count": 77,
   "id": "19e30f46",
   "metadata": {},
   "outputs": [
    {
     "data": {
      "text/plain": [
       "15.0"
      ]
     },
     "execution_count": 77,
     "metadata": {},
     "output_type": "execute_result"
    }
   ],
   "source": [
    "np.sum(s3)"
   ]
  },
  {
   "cell_type": "markdown",
   "id": "67b4409d",
   "metadata": {},
   "source": [
    "## Ranking y_samples"
   ]
  },
  {
   "cell_type": "code",
   "execution_count": 96,
   "id": "3c065a2b",
   "metadata": {
    "scrolled": true
   },
   "outputs": [
    {
     "data": {
      "text/plain": [
       "[9.969902948052436,\n",
       " 8.824946374506299,\n",
       " 10.793185979834501,\n",
       " 7.793596512366614,\n",
       " 11.144231260213015,\n",
       " 9.69023281210676,\n",
       " 5.867692513312983,\n",
       " 6.3545436690189,\n",
       " 12.034783384098912,\n",
       " 10.03338939676105,\n",
       " 11.02243523077399,\n",
       " 9.7834697053731,\n",
       " 4.953107938432389,\n",
       " 7.898109177434787,\n",
       " 10.333824946205178,\n",
       " 11.485039980555257,\n",
       " 6.925057748638848,\n",
       " 11.563144307016799,\n",
       " 12.965306238121173,\n",
       " 10.563999877177014]"
      ]
     },
     "execution_count": 96,
     "metadata": {},
     "output_type": "execute_result"
    }
   ],
   "source": [
    "s = []\n",
    "sigma_a, sigma_b = np.mean(y1_std), np.mean(y2_std) # what about y3_std?\n",
    "\n",
    "\n",
    "for i in range(len(y_samples)):\n",
    "    s.append(sof_prob_dom_multi(y_samples, y_samples[i], sigma_a, sigma_b) - 5) # need to subtract -5 to hit 190 of sum rank pos, why?\n",
    "s"
   ]
  },
  {
   "cell_type": "code",
   "execution_count": 97,
   "id": "b5e9eb19",
   "metadata": {},
   "outputs": [
    {
     "data": {
      "text/plain": [
       "190.0"
      ]
     },
     "execution_count": 97,
     "metadata": {},
     "output_type": "execute_result"
    }
   ],
   "source": [
    "np.sum(s)"
   ]
  },
  {
   "cell_type": "code",
   "execution_count": 98,
   "id": "ab11cecc",
   "metadata": {},
   "outputs": [
    {
     "data": {
      "text/plain": [
       "190.0"
      ]
     },
     "execution_count": 98,
     "metadata": {},
     "output_type": "execute_result"
    }
   ],
   "source": [
    "sum_of_rank_pos(y_samples.shape[0])"
   ]
  },
  {
   "cell_type": "markdown",
   "id": "b5088563",
   "metadata": {},
   "source": [
    "### Everything kinda works?\n",
    "\n",
    "* expect the m needs to be * by 10 for the paper examples to work\n",
    "\n",
    "* and one should minus -5.5 from the sum with 5 var, 3 obj to keep sum of rank pos equal.\n",
    "\n",
    "\n",
    "Probably has something to do with below..\n",
    "\"\"\"\n",
    "domination calculations.\n",
    "If we consider the ranking case for a single dimension, if A and B are iden-\n",
    "tical, we cannot choose between them and so add in 0.5 to the sum. With\n",
    "non-domination, we also have the situation where we cannot choose between\n",
    "objectives and should therefore add 0.5 to the sum as required. In the case of\n",
    "uncertain measurements, we can multiply the value of 0:5 by the probability of\n",
    "non-domination, and still subtract o 0:5 to allow for comparing the individual\n",
    "with itself, thereby maintaining the sum of the rank positions as n(n 1)=2.\n",
    "Thus we can add the non-domination term into (21). The rank calculation for\n",
    "multi-objective ranking is shown in (22), where n is the number of measurements\n",
    "\n",
    "\"\"\n",
    "Does it just come from that 5.5 happens to be the combinations of 3 dimensions in this case?"
   ]
  }
 ],
 "metadata": {
  "kernelspec": {
   "display_name": "38datademos_env",
   "language": "python",
   "name": "38datademos_env"
  },
  "language_info": {
   "codemirror_mode": {
    "name": "ipython",
    "version": 3
   },
   "file_extension": ".py",
   "mimetype": "text/x-python",
   "name": "python",
   "nbconvert_exporter": "python",
   "pygments_lexer": "ipython3",
   "version": "3.8.13"
  }
 },
 "nbformat": 4,
 "nbformat_minor": 5
}
