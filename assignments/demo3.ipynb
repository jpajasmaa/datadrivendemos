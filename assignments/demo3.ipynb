{
 "cells": [
  {
   "cell_type": "code",
   "execution_count": 1,
   "id": "357964b2",
   "metadata": {},
   "outputs": [
    {
     "data": {
      "text/html": [
       "<style>.container { width:100% !important; }</style>"
      ],
      "text/plain": [
       "<IPython.core.display.HTML object>"
      ]
     },
     "execution_count": 1,
     "metadata": {},
     "output_type": "execute_result"
    }
   ],
   "source": [
    "from IPython.display import HTML\n",
    "HTML(\"<style>.container { width:100% !important; }</style>\")"
   ]
  },
  {
   "cell_type": "code",
   "execution_count": 2,
   "id": "7bbe4f70",
   "metadata": {},
   "outputs": [],
   "source": [
    "import warnings\n",
    "warnings.filterwarnings('ignore')"
   ]
  },
  {
   "cell_type": "code",
   "execution_count": 6,
   "id": "c850693f",
   "metadata": {},
   "outputs": [],
   "source": [
    "import numpy as np\n",
    "from desdeo_emo.EAs import RVEA, NSGAIII\n",
    "from desdeo_problem.testproblems.TestProblems import test_problem_builder\n",
    "from desdeo_problem import DataProblem\n",
    "from desdeo_tools.utilities import fast_non_dominated_sort, hypervolume_indicator\n",
    "\n",
    "import matplotlib.pyplot as plt\n",
    "import sklearn\n",
    "from pyDOE import lhs\n",
    "import pandas as pd\n"
   ]
  },
  {
   "cell_type": "markdown",
   "id": "69aef005",
   "metadata": {},
   "source": [
    "## Assignment 3\n",
    "\n",
    "#### about acquisitio function in bayesian model management"
   ]
  },
  {
   "cell_type": "markdown",
   "id": "c4f09ff5",
   "metadata": {},
   "source": [
    "## Task 1 \n",
    "\n",
    " Use EI and the mean prediction to solve any single objective benchmark problem (e.g.\n",
    "Ackley, Rosenblock, sphere etc.) with any single objective optimizer (preferably GA). \n",
    "\n",
    "Set max exact function evaluations to 50 (start with 50 design points). Was the solutions\n",
    "found by EI better? (you can implement EI is you wish to)"
   ]
  },
  {
   "cell_type": "markdown",
   "id": "6185790e",
   "metadata": {},
   "source": [
    "##### steps\n",
    "\n",
    "voisi käyttää omaa GA, giomaran kurssilta. Siellä varmaan ratkaistu myös jokin single obj ongelma, täys pohja sieltä siihen. EI ja mean prediction ovat sitten se optimizer functio vaii?\n",
    "\n",
    "max evals 50 ja 50 individuaalia..\n",
    "\n",
    "mitä on mean prediction tässä tilanteessa? vai kuitenkin käytössä GRP ja GA on vaan optimizer? --  posterior predicted mean from Kriging surrogates <-- tässä varmaan mean prediction\n",
    "\n",
    "Voisi eka ratkaista jollain helpolla ja sitten vähän vaikeemmalla kuten tuo hartmann jossa 6 lokaalia min ja 1 global ja 6 dims on x.\n",
    "\n",
    "DOE meaning: \n",
    "\n",
    "In its simplest form, an experiment aims at predicting the outcome by introducing a change of the preconditions, which is represented by one or more independent variables, also referred to as \"input variables\" or \"predictor variables.\" The change in one or more independent variables is generally hypothesized to result in a change in one or more dependent variables, also referred to as \"output variables\" or \"response variables.\" \n",
    "\n",
    "Tämä slide:\n",
    "\n",
    "\n",
    "Muistetaans nyt pääpointti. Meillä ei ole oikeita objektive funtioita käytössä tai liian kalliita. GRP sun muut on se kevyempi objektivefunctio. GA edelleen optimoija. data on populaation jäsenet decision space. laskettuna surrogatella GPR ne on surrogate objective space. Ja oikeilla sitten oikea objective space.\n",
    "\n",
    "Oliko mean prediction error nyt sitten miten tämä mean prediction (surrogate) eroaa oikeasta mean ?\n",
    "\n",
    "Easiest Approach (single objective)\n",
    "\n",
    "- 1. Build surrogates with initial data (or DOE)\n",
    "- 2. Optimize considering the mean prediction as objectives\n",
    "- 3. Evaluate the solution with the expensive functions \n",
    "- 4. Rebuild the surrogates with the new data\n",
    "- 5. Repeat Step 2 to Step 4 until maximum number of expensive function evaluation is reached\n",
    "\n",
    "!!!! IMPORTATN !!!\n",
    "\n",
    "we need to find the sampling points by optimizing the acf.\n",
    "\n",
    "Acquicisiton functin (EI) shoudl be optimized?!"
   ]
  },
  {
   "cell_type": "code",
   "execution_count": 7,
   "id": "06dc5e07",
   "metadata": {},
   "outputs": [],
   "source": [
    "# Problem is the expensive function to evaluate.\n",
    "# use ackley\n",
    "def problem(x):\n",
    "    term1 = -20 * np.exp(-0.2 * np.sqrt(0.5 * (x[0]**2 + x[1]**2)))\n",
    "    term2 = np.exp(0.5 * (np.cos(2 * np.pi * x[0]) + np.cos(2 * np.pi * x[1])))\n",
    "    return term1 - term2 + np.exp(1) + 20\n"
   ]
  },
  {
   "cell_type": "code",
   "execution_count": 8,
   "id": "34681512",
   "metadata": {
    "scrolled": true
   },
   "outputs": [
    {
     "data": {
      "text/plain": [
       "11.013420717655569"
      ]
     },
     "execution_count": 8,
     "metadata": {},
     "output_type": "execute_result"
    }
   ],
   "source": [
    "problem([4,4])"
   ]
  },
  {
   "cell_type": "code",
   "execution_count": null,
   "id": "972df969",
   "metadata": {},
   "outputs": [],
   "source": [
    "# IDEAA KUINKA HOMMA SKULAA\n",
    "\n",
    "from sklearn.gaussian_process import GaussianProcessRegressor\n",
    "from sklearn.gaussian_process.kernels import ConstantKernel, Matern\n",
    "from bayesian_optimization_util import plot_approximation, plot_acquisition\n",
    "\n",
    "# Gaussian process with Mat??rn kernel as surrogate model\n",
    "m52 = ConstantKernel(1.0) * Matern(length_scale=1.0, nu=2.5)\n",
    "gpr = GaussianProcessRegressor(kernel=m52, alpha=noise**2)\n",
    "\n",
    "# Initialize samples\n",
    "X_sample = X_init\n",
    "Y_sample = Y_init\n",
    "\n",
    "# Number of iterations\n",
    "n_iter = 10\n",
    "\n",
    "plt.figure(figsize=(12, n_iter * 3))\n",
    "plt.subplots_adjust(hspace=0.4)\n",
    "\n",
    "for i in range(n_iter):\n",
    "    # Update Gaussian process with existing samples\n",
    "    gpr.fit(X_sample, Y_sample)\n",
    "\n",
    "    # Obtain next sampling point from the acquisition function (expected_improvement)\n",
    "    X_next = propose_location(expected_improvement, X_sample, Y_sample, gpr, bounds)\n",
    "    \n",
    "    # Obtain next noisy sample from the objective function\n",
    "    Y_next = f(X_next, noise)\n",
    "    \n",
    "    # Plot samples, surrogate function, noise-free objective and next sampling location\n",
    "    plt.subplot(n_iter, 2, 2 * i + 1)\n",
    "    plot_approximation(gpr, X, Y, X_sample, Y_sample, X_next, show_legend=i==0)\n",
    "    plt.title(f'Iteration {i+1}')\n",
    "\n",
    "    plt.subplot(n_iter, 2, 2 * i + 2)\n",
    "    plot_acquisition(X, expected_improvement(X, X_sample, Y_sample, gpr), X_next, show_legend=i==0)\n",
    "    \n",
    "    # Add sample to previous samples\n",
    "    X_sample = np.vstack((X_sample, X_next))\n",
    "    Y_sample = np.vstack((Y_sample, Y_next))"
   ]
  },
  {
   "cell_type": "markdown",
   "id": "24ccb03d",
   "metadata": {},
   "source": [
    "## TODO:\n",
    "\n",
    "Now somewhat works.\n",
    "\n",
    "\n",
    "\n",
    "-- also need to try EI but should first get atleast surrogates to wrok\n",
    "\n",
    "-- run several times\n",
    "\n",
    "-- either make bounded SBX or comment about it possibly doing issues with crossover\n"
   ]
  },
  {
   "cell_type": "code",
   "execution_count": 9,
   "id": "dedc61a2",
   "metadata": {},
   "outputs": [],
   "source": [
    "from sklearn.gaussian_process import GaussianProcessRegressor as GPR\n",
    "from sklearn.gaussian_process.kernels import RBF, ExpSineSquared, WhiteKernel, RationalQuadratic, DotProduct, ConstantKernel, Matern\n",
    "\n",
    "class real_GA:\n",
    "    def __init__(self, problem, pop, pop_size, pm, bounds, di, order, acf=False, use_surr=False, max_func_evals=50, gen_max=50):\n",
    "        self.problem = problem # problem function to solve\n",
    "        self.pop = pop # pop array to hold binary population strings\n",
    "        self.pm = pm # probability of mutation\n",
    "        self.pop_size = pop_size # population size\n",
    "        self.lbounds = bounds[0]\n",
    "        self.ubounds = bounds[1]\n",
    "        self.di = di # for crossover\n",
    "        self.order = order # for mutation\n",
    "        self.acf = acf\n",
    "        self.use_surr = use_surr\n",
    "        self.gen_max = gen_max # max generations\n",
    "        self.max_func_evals = max_func_evals\n",
    "        \n",
    "        self.best_ind = None\n",
    "        self.fitness = [] # fitness array to hold calculated fitness values\n",
    "        self.gen = 0 # current generation\n",
    "        self.surr = None\n",
    "        \n",
    "    \n",
    "    # start pop and evaluate each member in the pop\n",
    "    def initialize(self):\n",
    "        if len(self.pop) < 1:\n",
    "            x1range = np.random.uniform(low=self.lbounds[0], high=self.ubounds[0], size=self.pop_size)\n",
    "            x2range = np.random.uniform(low=self.lbounds[1], high=self.ubounds[1], size=self.pop_size)\n",
    "            self.pop = np.stack((x1range, x2range), axis=-1)\n",
    "        \n",
    "        self.fitness = np.array([self.evaluate(member) for member in self.pop]) # calculate fitness for each pop member\n",
    "        \n",
    "\n",
    "    # run the GA\n",
    "    def run(self):\n",
    "        n = 0 # init iterations\n",
    "        self.initialize()\n",
    "        \n",
    "        # 1. building the surrogates with initial data\n",
    "        if self.use_surr:\n",
    "            # kernel = Matern(length_scale_bounds=(1e-10, 1000000))\n",
    "            kernel = Matern(length_scale=1.0)\n",
    "            self.surr = GPR(kernel,n_restarts_optimizer=1,random_state=7).fit(self.pop, self.fitness)\n",
    "            print(\"in first build\", self.surr.score(self.pop, self.fitness))\n",
    "\n",
    "        # 2. optimize part ?\n",
    "        while self.gen_max > n:\n",
    "            next_gen = [] # init next_gen population array\n",
    "            for i in range(int(self.pop.shape[0]/2)):\n",
    "                # select two individuals with deterministic tournament selection, append them in a next gen list for crossover\n",
    "                i1, i2 = self.tour_select()\n",
    "                s1 = self.pop[i1]\n",
    "                s2 = self.pop[i2]\n",
    "                next_gen.append(s1)\n",
    "                next_gen.append(s2)\n",
    "                \n",
    "            # crossover. Happens every time\n",
    "            next_gen = self.SBX(next_gen)\n",
    "                \n",
    "            # Mutation. happens if rand < pm for member in pop\n",
    "            for i in range(self.pop_size):\n",
    "                if np.random.rand() < self.pm:\n",
    "                    next_gen[i] = self.poly_mutation(next_gen[i], self.order)\n",
    "             \n",
    "            self.pop = np.asarray(next_gen) # add next gen to self pop \n",
    "            \n",
    "            # evaluate the population members, using surrogates if wanted\n",
    "            # 2. ?\n",
    "            if self.surr is not None:\n",
    "                best_idx = self.surrogate_part()\n",
    "                # eval the solution with expesive functions\n",
    "                best_fit = self.evaluate(self.pop[best_idx])\n",
    "                self.best_ind = best_fit\n",
    "                self.max_func_evals += 1\n",
    "                \n",
    "                # compute the best surrogate eval member's exact function value. Put it instead of the surrogate fitness value\n",
    "                self.fitness[best_idx] = best_fit\n",
    "                # self.fitness[np.where(np.argmin(self.fitness))] = best_fit # are these the same? meant to be, but not sure..\n",
    "                \n",
    "                # rebuilt surrogates?\n",
    "                self.update_surrogates()\n",
    "            else:    \n",
    "                self.fitness = np.array([self.evaluate(member) for member in self.pop])\n",
    "            n += 1\n",
    "            self.gen += 1\n",
    "        \n",
    "        \n",
    "        # evaluate the best individual with real func. TODO: to use this or not?\n",
    "        self.best_ind = self.evaluate(self.pop[np.argmin(self.fitness)])\n",
    "        \n",
    "\n",
    "    def update_surrogates(self):\n",
    "        kernel = Matern(length_scale=1.0)\n",
    "        self.surr = GPR(kernel,n_restarts_optimizer=1,random_state=7).fit(self.pop, self.fitness)\n",
    "        #print(\"updating surr\", self.surr.score(self.pop, self.fitness))\n",
    "\n",
    "    # 2. ?\n",
    "    def surrogate_part(self):\n",
    "        if self.acf:\n",
    "            # use EI here too\n",
    "            mean, std = self.surr.predict(self.pop, return_std=True)\n",
    "            max_val = np.max(mean)\n",
    "            tradeoff = 0.5\n",
    "            mean_pred = EI(mean, std, max_val, tradeoff)\n",
    "            best_idx = np.argmax(mean_pred) # MAXIMIZE EI\n",
    "            return best_idx\n",
    "    \n",
    "        # otherwise just use mean posteriory pred\n",
    "        mean_pred = self.surr.predict(self.pop)\n",
    "        self.fitness = mean_pred\n",
    "        best_idx = np.argmin(mean_pred)\n",
    "        return best_idx\n",
    "    \n",
    "    \n",
    "    # evaluate population members\n",
    "    def evaluate(self, member):\n",
    "        # constraint evaluation       \n",
    "        fitness = self.fitness_evaluation(member)\n",
    "        return fitness\n",
    "        \n",
    "    # evaluates constraint violations and updates the fitness value by chosen penalty constraint method\n",
    "    def fitness_evaluation(self, x):\n",
    "        # constraint evaluation  \n",
    "        #x, infeasible = check_constraints(x)\n",
    "        fitness = problem(x)          \n",
    "        return fitness\n",
    "        \n",
    "        \n",
    "    # deterministic binary tournament selection\n",
    "    def tour_select(self):        \n",
    "        cf = self.fitness\n",
    "        b1 = np.argmin(cf) # get best member by fitness\n",
    "        cf = np.delete(cf, b1) # remove it from cf\n",
    "        b2 = np.argmin(cf) # get (2nd) best member by fitness\n",
    "        return b1, b2 # return best and 2nd best members as parents\n",
    "        \n",
    "        \n",
    "    # Simulated binary crossover (non-bounded)\n",
    "    def SBX(self, parents):\n",
    "        parents = np.asarray(parents)\n",
    "        pop_size, num_var = parents.shape\n",
    "        children = np.zeros_like(parents)\n",
    "        for i in range(0, pop_size, num_var):\n",
    "            p1 = (parents[i] + parents[i + 1]) / 2\n",
    "            p2 = (parents[i] - parents[i + 1]) / 2\n",
    "            beta = np.zeros(num_var)\n",
    "            alpha = np.random.rand(num_var)\n",
    "            bx = np.random.randint(0, high=2, size=num_var)\n",
    "            beta[alpha <= 0.5] = (2 * alpha[alpha <= 0.5])**(1 / (self.di + 1))\n",
    "            beta[alpha > 0.5] = (2 - 2 * alpha[alpha > 0.5])**(-1 / (self.di + 1))            \n",
    "            beta = beta * ((-1)**bx)\n",
    "            children[i] = p1 + beta * p2\n",
    "            children[i + 1] = p1 - beta * p2\n",
    "        return children\n",
    "        \n",
    "    \n",
    "    # polynomial mutation for one pop member p\n",
    "    def poly_mutation(self, p, order):\n",
    "        children = np.array([0,0])\n",
    "        for i in range(0, 2):\n",
    "            pL = self.lbounds[i]\n",
    "            pU = self.ubounds[i]\n",
    "            u = np.random.random() # r [0,1]\n",
    "            mp = 0\n",
    "            dl = (2*u)**(1/1+order) - 1\n",
    "            dr = 1 - (2*(1 - u))**(1/1+order) \n",
    "            if u <= 0.5:\n",
    "                mp = p[i] + dl*(p[i] - pL)\n",
    "            else:\n",
    "                mp = p[i] + dr*(pU - p[i])\n",
    "            children[i] = mp\n",
    "        return children"
   ]
  },
  {
   "cell_type": "code",
   "execution_count": 10,
   "id": "b9ac2fd9",
   "metadata": {},
   "outputs": [],
   "source": [
    "# best fitness 1.3862981070613571\n",
    "# best variable values [-0.05708943 -0.00045767]\n",
    "\n",
    "# normal GA just gets stuck on some local min anytime.\n",
    "\n",
    "# global optimum of ackley f(0,0) = 0."
   ]
  },
  {
   "cell_type": "code",
   "execution_count": 11,
   "id": "84eb57d6",
   "metadata": {},
   "outputs": [],
   "source": [
    "# this works weird with desdeo ??\n",
    "# should be just like\n",
    "# lhs(30, 100) but :o\n",
    "\n",
    "def create_samples(dec_dim, samples):\n",
    "    # create samples \n",
    "    x = lhs(dec_dim, samples)\n",
    "    return x"
   ]
  },
  {
   "cell_type": "code",
   "execution_count": 127,
   "id": "7a53cda4",
   "metadata": {},
   "outputs": [],
   "source": [
    "# https://modal-python.readthedocs.io/en/latest/_modules/modAL/acquisition.html#max_EI\n",
    "from scipy.stats import norm\n",
    "from scipy.special import ndtr\n",
    "\n",
    "def EI(mean, std, max_val, tradeoff):\n",
    "    z = (mean - max_val - tradeoff) / std\n",
    "    return (mean - max_val - tradeoff) * ndtr(z) + std * norm.pdf(z)"
   ]
  },
  {
   "cell_type": "code",
   "execution_count": 128,
   "id": "6919050b",
   "metadata": {},
   "outputs": [],
   "source": [
    "# params\n",
    "pop_s = 50\n",
    "pm = 0.1\n",
    "bounds = np.array([[-1, -1], [1, 1]]) # variable bounds (lower, upper)\n",
    "gen_max = 50\n",
    "use_surr = True\n",
    "fmax = 50 # max func evals\n",
    "di = 2 # distribution index\n",
    "order = 20 # polynomial order param\n",
    "\n",
    "times = 20"
   ]
  },
  {
   "cell_type": "markdown",
   "id": "4cf80f62",
   "metadata": {},
   "source": [
    "### Using mean pred"
   ]
  },
  {
   "cell_type": "code",
   "execution_count": 129,
   "id": "f22e3ed6",
   "metadata": {},
   "outputs": [],
   "source": [
    "mean_pred_result_all = []"
   ]
  },
  {
   "cell_type": "code",
   "execution_count": 130,
   "id": "f9066673",
   "metadata": {
    "scrolled": true
   },
   "outputs": [
    {
     "name": "stdout",
     "output_type": "stream",
     "text": [
      "in first build 1.0\n",
      "best surrogate fitness -0.023002369761355723\n",
      "best decision values [ 9.80503082e-03 -1.36731449e-09]\n",
      "best exact func value 0.030290800480049285\n",
      "in first build 1.0\n",
      "best surrogate fitness -7.166498422622681\n",
      "best decision values [0.00591616 0.00250669]\n",
      "best exact func value 0.019272481127455166\n",
      "in first build 1.0\n",
      "best surrogate fitness 0.0\n",
      "best decision values [0. 0.]\n",
      "best exact func value 0.0\n",
      "in first build 1.0\n",
      "best surrogate fitness -5.134289979934692\n",
      "best decision values [0.         0.00014223]\n",
      "best exact func value 0.000402816257548011\n",
      "in first build 1.0\n",
      "best surrogate fitness -10.407612681388855\n",
      "best decision values [-1.80289596  0.        ]\n",
      "best exact func value 5.278588195085181\n",
      "in first build 1.0\n",
      "best surrogate fitness -2.3373260498046875\n",
      "best decision values [-2.80758533e+00  7.38234900e-07]\n",
      "best exact func value 7.304365913784219\n",
      "in first build 1.0\n",
      "best surrogate fitness -0.2398583641976413\n",
      "best decision values [ 6.19446400e-04 -5.24516219e+00]\n",
      "best exact func value 11.518993812938891\n",
      "in first build 1.0\n",
      "best surrogate fitness -4.682960183108158\n",
      "best decision values [-0.35605328  0.        ]\n",
      "best exact func value 2.4900329210351266\n",
      "in first build 1.0\n",
      "best surrogate fitness -4.0909662857302465e-07\n",
      "best decision values [-5.42475064e-09  1.28868773e-07]\n",
      "best exact func value 3.648191757577024e-07\n",
      "in first build 1.0\n",
      "best surrogate fitness -0.10078400621569017\n",
      "best decision values [ 0.         -0.34235855]\n",
      "best exact func value 2.410149652013857\n",
      "in first build 1.0\n",
      "best surrogate fitness -0.6749077141284943\n",
      "best decision values [0.00031852 0.11480072]\n",
      "best exact func value 0.6403680475184963\n",
      "in first build 1.0\n",
      "best surrogate fitness -0.017378989243297838\n",
      "best decision values [-0.17443219  0.        ]\n",
      "best exact func value 1.1334722574849572\n",
      "in first build 1.0\n",
      "best surrogate fitness -0.28248581290245056\n",
      "best decision values [0.02094716 0.00016202]\n",
      "best exact func value 0.07089178320847722\n",
      "in first build 1.0\n",
      "best surrogate fitness -0.01973211276344955\n",
      "best decision values [-0.01386235  0.        ]\n",
      "best exact func value 0.04431756883939286\n",
      "in first build 1.0\n",
      "best surrogate fitness -0.46788620863117103\n",
      "best decision values [-0.00651227  0.        ]\n",
      "best exact func value 0.019548380246579455\n",
      "in first build 1.0\n",
      "best surrogate fitness -0.09362098574638367\n",
      "best decision values [-0.01425027  0.00047519]\n",
      "best exact func value 0.045732636837144014\n",
      "in first build 1.0\n",
      "best surrogate fitness 0.0\n",
      "best decision values [0. 0.]\n",
      "best exact func value 0.0\n",
      "in first build 1.0\n",
      "best surrogate fitness -0.0726951436651898\n",
      "best decision values [-0.68353835  1.00198399]\n",
      "best exact func value 4.524790766821834\n",
      "in first build 1.0\n",
      "best surrogate fitness -0.009618939847883312\n",
      "best decision values [0. 0.]\n",
      "best exact func value 0.0\n",
      "in first build 1.0\n",
      "best surrogate fitness 0.0\n",
      "best decision values [ 1.58157318 -0.00883553]\n",
      "best exact func value 5.661193410199395\n"
     ]
    }
   ],
   "source": [
    "for _ in range(times):\n",
    "    acf = False # use acquicisition function EI\n",
    "    pop = create_samples(2, pop_s)\n",
    "\n",
    "    ga = real_GA(problem, pop, pop_s, pm, bounds, di, order, acf, use_surr, fmax, gen_max) \n",
    "    ga.run()\n",
    "    fittest_idx = np.argmin(ga.fitness)\n",
    "    print(\"best surrogate fitness\", ga.fitness[fittest_idx])\n",
    "    print(\"best decision values\", ga.pop[fittest_idx])\n",
    "    print(\"best exact func value\", ga.best_ind)\n",
    "    mean_pred_result_all.append(ga.best_ind)"
   ]
  },
  {
   "cell_type": "code",
   "execution_count": 131,
   "id": "9686bf7c",
   "metadata": {},
   "outputs": [
    {
     "data": {
      "text/plain": [
       "[0.030290800480049285,\n",
       " 0.019272481127455166,\n",
       " 0.0,\n",
       " 0.000402816257548011,\n",
       " 5.278588195085181,\n",
       " 7.304365913784219,\n",
       " 11.518993812938891,\n",
       " 2.4900329210351266,\n",
       " 3.648191757577024e-07,\n",
       " 2.410149652013857,\n",
       " 0.6403680475184963,\n",
       " 1.1334722574849572,\n",
       " 0.07089178320847722,\n",
       " 0.04431756883939286,\n",
       " 0.019548380246579455,\n",
       " 0.045732636837144014,\n",
       " 0.0,\n",
       " 4.524790766821834,\n",
       " 0.0,\n",
       " 5.661193410199395]"
      ]
     },
     "execution_count": 131,
     "metadata": {},
     "output_type": "execute_result"
    }
   ],
   "source": [
    "mean_pred_result_all"
   ]
  },
  {
   "cell_type": "code",
   "execution_count": 132,
   "id": "bf0bd7ab",
   "metadata": {},
   "outputs": [
    {
     "data": {
      "text/plain": [
       "2.0596205904348888"
      ]
     },
     "execution_count": 132,
     "metadata": {},
     "output_type": "execute_result"
    }
   ],
   "source": [
    "np.mean(mean_pred_result_all)"
   ]
  },
  {
   "cell_type": "markdown",
   "id": "b8df40e9",
   "metadata": {},
   "source": [
    "### using EI"
   ]
  },
  {
   "cell_type": "code",
   "execution_count": 133,
   "id": "e3d9fc1d",
   "metadata": {},
   "outputs": [],
   "source": [
    "EI_result_all = []"
   ]
  },
  {
   "cell_type": "code",
   "execution_count": 134,
   "id": "6ede7dcd",
   "metadata": {
    "scrolled": true
   },
   "outputs": [
    {
     "name": "stdout",
     "output_type": "stream",
     "text": [
      "in first build 1.0\n",
      "best surrogate fitness 2.623570269477682e-05\n",
      "best decision values [-7.36766571e-06 -6.76024811e-04]\n",
      "best exact func value 0.001924371285170423\n",
      "in first build 1.0\n",
      "best surrogate fitness 0.0\n",
      "best decision values [-5.14879381e-04  7.89205943e-06]\n",
      "best exact func value 0.0014635307182935264\n",
      "in first build 1.0\n",
      "best surrogate fitness 0.0002703982264300464\n",
      "best decision values [0.00013746 0.00049794]\n",
      "best exact func value 0.0014681685430772973\n",
      "in first build 1.0\n",
      "best surrogate fitness 4.97933999419331e-05\n",
      "best decision values [-2.58363766e-03  2.24461353e-08]\n",
      "best exact func value 0.007485370397358082\n",
      "in first build 1.0\n",
      "best surrogate fitness 0.00012205714234880816\n",
      "best decision values [-4.40015183e-05  2.45091732e-06]\n",
      "best exact func value 0.00012469971984430117\n",
      "in first build 1.0\n",
      "best surrogate fitness 0.7589543891016781\n",
      "best decision values [-0.06776776 -0.37715715]\n",
      "best exact func value 2.6713754586722303\n",
      "in first build 1.0\n",
      "best surrogate fitness 0.00022801198348076923\n",
      "best decision values [0.00109204 0.20967079]\n",
      "best exact func value 1.4337507863221681\n",
      "in first build 1.0\n",
      "best surrogate fitness 0.0\n",
      "best decision values [0. 0.]\n",
      "best exact func value 0.0\n",
      "in first build 1.0\n",
      "best surrogate fitness 3.0476556922565123e-05\n",
      "best decision values [ 0.         -0.32591432]\n",
      "best exact func value 2.308632362675258\n",
      "in first build 1.0\n",
      "best surrogate fitness 0.5906764057177583\n",
      "best decision values [-0.58357494 -0.02127493]\n",
      "best exact func value 3.2386868841142693\n",
      "in first build 1.0\n",
      "best surrogate fitness 0.05551713709784423\n",
      "best decision values [-0.81503169 -0.54799421]\n",
      "best exact func value 4.5551605667282224\n",
      "in first build 1.0\n",
      "best surrogate fitness 0.2662478591100488\n",
      "best decision values [-0.02738884 -8.04368232]\n",
      "best exact func value 13.65799127666248\n",
      "in first build 1.0\n",
      "best surrogate fitness 0.6912515169269362\n",
      "best decision values [-0.0594834  -0.01873513]\n",
      "best exact func value 0.2769133887457187\n",
      "in first build 1.0\n",
      "best surrogate fitness 0.00015410718847874705\n",
      "best decision values [1.82702384e-08 2.51834975e-03]\n",
      "best exact func value 0.007291839398654076\n",
      "in first build 1.0\n",
      "best surrogate fitness 0.00023155756088044654\n",
      "best decision values [-0.00362807  0.81437681]\n",
      "best exact func value 2.8870052018196866\n",
      "in first build 1.0\n",
      "best surrogate fitness 0.14115822166333913\n",
      "best decision values [0.         0.02958024]\n",
      "best exact func value 0.10679737045125037\n",
      "in first build 1.0\n",
      "best surrogate fitness 1.2387170504222524\n",
      "best decision values [0. 1.]\n",
      "best exact func value 2.637531092108304\n",
      "in first build 1.0\n",
      "best surrogate fitness 0.0\n",
      "best decision values [0. 0.]\n",
      "best exact func value 0.0\n",
      "in first build 1.0\n",
      "best surrogate fitness 5.295603422439399e-07\n",
      "best decision values [-7.67812174e-08 -1.70759223e-07]\n",
      "best exact func value 5.295597524934692e-07\n",
      "in first build 1.0\n",
      "best surrogate fitness 0.0\n",
      "best decision values [ 0. -1.]\n",
      "best exact func value 2.637531092108304\n"
     ]
    }
   ],
   "source": [
    "for _ in range(times):\n",
    "    acf = True\n",
    "    pop = create_samples(2, pop_s)\n",
    "    \n",
    "    ga = real_GA(problem, pop, pop_s, pm, bounds, di, order, acf, use_surr, fmax, gen_max) \n",
    "    ga.run()\n",
    "    fittest_idx = np.argmin(ga.fitness)\n",
    "    print(\"best surrogate fitness\", ga.fitness[fittest_idx])\n",
    "    print(\"best decision values\", ga.pop[fittest_idx])\n",
    "    print(\"best exact func value\", ga.best_ind)\n",
    "    EI_result_all.append(ga.best_ind)"
   ]
  },
  {
   "cell_type": "code",
   "execution_count": 135,
   "id": "c2d63959",
   "metadata": {},
   "outputs": [
    {
     "data": {
      "text/plain": [
       "[0.001924371285170423,\n",
       " 0.0014635307182935264,\n",
       " 0.0014681685430772973,\n",
       " 0.007485370397358082,\n",
       " 0.00012469971984430117,\n",
       " 2.6713754586722303,\n",
       " 1.4337507863221681,\n",
       " 0.0,\n",
       " 2.308632362675258,\n",
       " 3.2386868841142693,\n",
       " 4.5551605667282224,\n",
       " 13.65799127666248,\n",
       " 0.2769133887457187,\n",
       " 0.007291839398654076,\n",
       " 2.8870052018196866,\n",
       " 0.10679737045125037,\n",
       " 2.637531092108304,\n",
       " 0.0,\n",
       " 5.295597524934692e-07,\n",
       " 2.637531092108304]"
      ]
     },
     "execution_count": 135,
     "metadata": {},
     "output_type": "execute_result"
    }
   ],
   "source": [
    "EI_result_all"
   ]
  },
  {
   "cell_type": "code",
   "execution_count": 136,
   "id": "8ac26476",
   "metadata": {},
   "outputs": [
    {
     "data": {
      "text/plain": [
       "1.8215566995015025"
      ]
     },
     "execution_count": 136,
     "metadata": {},
     "output_type": "execute_result"
    }
   ],
   "source": [
    "np.mean(EI_result_all)"
   ]
  },
  {
   "cell_type": "markdown",
   "id": "fef00784",
   "metadata": {},
   "source": [
    "## TODO:\n",
    "\n",
    "check code for mistakes.\n",
    "\n",
    "make loops to run both algos atleast 10 times. Then can compare the results between runs.\n",
    "\n",
    "-- for now EI one seems to work very nice. mean pred not so nice always, which might be as expected.\n",
    "\n",
    "\n",
    "Was assuming EI will be better, but with several 20-run blocks there was no clear winner. Maybe due to GA implementation there is too much randomness? atleast SBX is not bounded maybe that."
   ]
  },
  {
   "cell_type": "markdown",
   "id": "bce01bcf",
   "metadata": {},
   "source": [
    "#### Botorch stuff"
   ]
  },
  {
   "cell_type": "markdown",
   "id": "43a95d55",
   "metadata": {},
   "source": [
    "## Task 2\n",
    "\n",
    "Solve any benchmark problems (K=2 and 5, n=10) with ParEGO and LCB.\n",
    "Start with 109 design points. Compare the hypervolume of the solutions after 100 exact function\n",
    "evaluations."
   ]
  },
  {
   "cell_type": "markdown",
   "id": "f71d5b4a",
   "metadata": {},
   "source": [
    "#### Notes\n",
    "\n",
    "$$\n",
    "LCB(x) = \\mu(x) - \\beta \\sigma (x)\n",
    "$$\n",
    "\n",
    "β is a parameter controlling the\n",
    "degree of exploration\n",
    "\n",
    "\n",
    "Maybe try Botorch? now reason to try the framework!\n",
    "\n",
    "https://botorch.org/tutorials/multi_objective_bo"
   ]
  },
  {
   "cell_type": "markdown",
   "id": "396e2399",
   "metadata": {},
   "source": [
    "has example here how to use parEGo\n",
    "\n",
    "https://github.com/shinya-ml/Multiobj-Bayes-opt\n",
    "\n",
    "Basically, MOPGI, custom class wrapper for Gpy's GPR to handle multiple outputs. Has also predict method using NSGA-II as the optimizer. Query dataset.get_observed seems to be the part where calls the optim.\n",
    "\n",
    "Then max iter loop for ParEGO, optim, fit using MOPGI, until done."
   ]
  },
  {
   "cell_type": "markdown",
   "id": "764a3124",
   "metadata": {},
   "source": [
    "##### steps\n",
    "\n",
    "- LHS? to generate 109 design points\n",
    "- LCB and ParEGO are acquisition fucntions.. Use NSGA-III or whatever as the optimizer.\n",
    "\n",
    "\n",
    "ParEGO\n",
    "\n",
    "1. Draw random weight vector λ\n",
    "2. Scalarize the objectives (using ASF) for the\n",
    "provided data\n",
    "3. Build GP on the scalarized objectives\n",
    "4. Maximize EI\n",
    "5. Evaluate and Repeat from step 1\n",
    "\n",
    "-- use LCB first, simpler."
   ]
  },
  {
   "cell_type": "code",
   "execution_count": null,
   "id": "f2ba05f0",
   "metadata": {},
   "outputs": [],
   "source": [
    "# https://github.com/yunshengtian/DGEMO/blob/master/mobo/mobo.py\n",
    "\n",
    "# idea how Multiobjective bayesian optimization goes\n",
    "\n",
    "# if nothing else use this repo bc it should be able to do the things"
   ]
  },
  {
   "cell_type": "code",
   "execution_count": 20,
   "id": "6823c151",
   "metadata": {},
   "outputs": [],
   "source": [
    "def LCB(mean, std, beta=.5):\n",
    "    return mean - beta*std"
   ]
  },
  {
   "cell_type": "code",
   "execution_count": 13,
   "id": "4e8dc3fb",
   "metadata": {},
   "outputs": [
    {
     "ename": "SyntaxError",
     "evalue": "invalid syntax (2459848700.py, line 8)",
     "output_type": "error",
     "traceback": [
      "\u001b[0;36m  Input \u001b[0;32mIn [13]\u001b[0;36m\u001b[0m\n\u001b[0;31m    theta = theta / (np.sum(theta) + 1e-10\u001b[0m\n\u001b[0m    ^\u001b[0m\n\u001b[0;31mSyntaxError\u001b[0m\u001b[0;31m:\u001b[0m invalid syntax\n"
     ]
    }
   ],
   "source": [
    "#https://github.com/automl/SMAC3/blob/main/smac/optimizer/multi_objective/parego.py\n",
    "\n",
    "#rho = 0.05\n",
    "\n",
    "# Then we have to compute the weight\n",
    "theta = self.rng.rand(self.num_obj\n",
    "# Normalize st all theta values sum up to 1\n",
    "theta = theta / (np.sum(theta) + 1e-10\n",
    "#Weight the values\n",
    "theta_f = theta * valuereturn np.max(theta_f, axis=1) + self.rho * np.sum(theta_f, axis=1)"
   ]
  },
  {
   "cell_type": "code",
   "execution_count": 15,
   "id": "e55fe21f",
   "metadata": {},
   "outputs": [],
   "source": [
    "dtlz5_2 = test_problem_builder('DTLZ5', n_of_variables=10, n_of_objectives=2)"
   ]
  },
  {
   "cell_type": "code",
   "execution_count": 16,
   "id": "0ce303c4",
   "metadata": {},
   "outputs": [
    {
     "data": {
      "text/plain": [
       "array([[0.91951996, 0.79860568, 0.32740432, 0.16544181, 0.41547068,\n",
       "        0.95738555, 0.49552473, 0.84539565, 0.92692711, 0.61035256]])"
      ]
     },
     "execution_count": 16,
     "metadata": {},
     "output_type": "execute_result"
    }
   ],
   "source": [
    "x = create_samples(10, 109)\n",
    "x[:1]"
   ]
  },
  {
   "cell_type": "code",
   "execution_count": 25,
   "id": "92dbe533",
   "metadata": {},
   "outputs": [],
   "source": [
    "y = dtlz5_2.evaluate(x)\n",
    "y.objectives[:5]\n",
    "y = y.objectives\n",
    "y1 = y[:,0]\n",
    "y2 = y[:,1]"
   ]
  },
  {
   "cell_type": "code",
   "execution_count": 26,
   "id": "41867cd4",
   "metadata": {},
   "outputs": [
    {
     "name": "stdout",
     "output_type": "stream",
     "text": [
      "(109, 2)\n",
      "(109,)\n",
      "(109,)\n"
     ]
    }
   ],
   "source": [
    "print(y.shape)\n",
    "print(y1.shape)\n",
    "print(y2.shape)"
   ]
  },
  {
   "cell_type": "code",
   "execution_count": 19,
   "id": "9f2e2d39",
   "metadata": {},
   "outputs": [],
   "source": [
    "x_names = [f'x{i}' for i in range(1,11)]\n",
    "y_names = [\"f1\", \"f2\"]\n",
    "\n",
    "data = pd.DataFrame(np.hstack((x,y)), columns=x_names+y_names)\n",
    "#data"
   ]
  },
  {
   "cell_type": "code",
   "execution_count": 156,
   "id": "dbc8a078",
   "metadata": {},
   "outputs": [],
   "source": [
    "# problem = DataProblem(data=data, variable_names=x_names, objective_names=y_names)"
   ]
  },
  {
   "cell_type": "code",
   "execution_count": 27,
   "id": "e561818d",
   "metadata": {},
   "outputs": [],
   "source": [
    "## params\n",
    "\n",
    "#x_bound = np.zeros(10)\n",
    "#rho = 0.\n",
    "#xi = 1.\n",
    "\n",
    "kernel = Matern(length_scale=1.0)\n",
    "gpr1 = GPR(kernel,n_restarts_optimizer=1,random_state=7).fit(x, y1)\n",
    "gpr2 = GPR(kernel,n_restarts_optimizer=1,random_state=7).fit(x, y2)"
   ]
  },
  {
   "cell_type": "code",
   "execution_count": 30,
   "id": "970e5e13",
   "metadata": {},
   "outputs": [
    {
     "name": "stdout",
     "output_type": "stream",
     "text": [
      "0.009014959543760418\n",
      "0.028814023908107982\n"
     ]
    }
   ],
   "source": [
    "for i in range(1):\n",
    "    # predict with surrogates\n",
    "    y1_pred, std1 = gpr1.predict(x, return_std=True) \n",
    "    y2_pred, std2 = gpr2.predict(x, return_std=True) \n",
    "    \n",
    "    # calc LCB\n",
    "    y1_lcb = LCB(y1_pred, std1)\n",
    "    y2_lcb = LCB(y2_pred, std2)\n",
    "    \n",
    "    y1_idx = np.argmin(y1_lcb)\n",
    "    y2_idx = np.argmin(y2_lcb)\n",
    "\n",
    "    # add to data ?\n",
    "    x = np.append(x, [y1_idx])\n",
    "    "
   ]
  },
  {
   "cell_type": "code",
   "execution_count": 179,
   "id": "6d42e0da",
   "metadata": {},
   "outputs": [],
   "source": [
    "class ParEGO():\n",
    "    \"\"\"\n",
    "    This class keep attributes and method about ParEGO\n",
    "    Attributes\n",
    "    ----------\n",
    "    x_bounds : list\n",
    "        input domain which is optimized.\n",
    "    x_train : numpy.array\n",
    "        observed input data\n",
    "    y_train : numpy.array\n",
    "        observed output data\n",
    "    rho : float\n",
    "        hyper parameter in chebyshev scalarization\n",
    "    xi : float\n",
    "        hyper parameter in Expected Improvement\n",
    "    \"\"\"\n",
    "    def __init__(self, x_bounds, x_train, y_train, rho, xi):\n",
    "        self.x_bounds = x_bounds\n",
    "        self.x_train = x_train\n",
    "        self.y_train = y_train\n",
    "        self.rho = rho\n",
    "        self.xi = xi\n",
    "        self.task_num = y_train.shape[1]\n",
    "        self.train_num = y_train.shape[0]\n",
    "        self.f_theta = np.zeros(self.train_num)\n",
    "    def calc_parego(self):\n",
    "        \"\"\"\n",
    "        get the result of optimized ParEGO\n",
    "        \"\"\"\n",
    "        self.scalarization()\n",
    "        # res = minimize(self.EI, bounds=self.x_bounds, algomethod=1)\n",
    "        res = self.EI()\n",
    "        return res\n",
    "    def scalarization(self):\n",
    "        \"\"\"\n",
    "        scalarize observed output data\n",
    "        \"\"\"\n",
    "\n",
    "        theta = np.random.random_sample((self.task_num))\n",
    "\n",
    "        sum_theta = np.sum(theta)\n",
    "        theta = theta / sum_theta\n",
    "        \n",
    "        theta_f = theta * self.y_train\n",
    "        max_k = np.max(theta_f, axis = 1)\n",
    "        rho_sum_theta_f = self.rho * np.sum(theta_f, axis = 1)\n",
    "        self.f_theta = max_k + rho_sum_theta_f\n",
    "    def obj(self, x):\n",
    "        if np.any(np.all(self.x_train == x, axis=1)):\n",
    "            return 1.0e5\n",
    "        else:\n",
    "            mean, var = self.model.predict(np.atleast_2d(x))\n",
    "            std = np.sqrt(var[0,0])\n",
    "\n",
    "            # mean_inv = (-1) * mean\n",
    "            current_max = self.f_theta.max()\n",
    "            # print(current_max)\n",
    "            Z = (current_max - mean[0,0] - self.xi) / std\n",
    "            # print(norm.cdf(Z))\n",
    "            # print(norm.pdf(Z))\n",
    "            ei = (-1) * (Z * std) * norm.cdf(Z) + std * norm.pdf(Z)\n",
    "            # print(ei)\n",
    "            return ei\n",
    "    def EI(self):\n",
    "        \"\"\"\n",
    "        construct a GP model for scalarized output data\n",
    "        applying EI for this model\n",
    "        \"\"\"\n",
    "        kernel = GPy.kern.RBF(self.x_train.shape[1])\n",
    "        self.model = GPy.models.GPRegression(self.x_train, self.f_theta[:,None],kernel=kernel, normalizer=None)\n",
    "        self.model['.*Gaussian_noise.variance'].constrain_fixed(1.0e-2)\n",
    "        self.model['.*rbf.variance'].constrain_fixed(1.0)\n",
    "\n",
    "        x_dist = distance.cdist(self.x_train, self.x_train)\n",
    "        median = np.median(x_dist)\n",
    "        if median == 0:\n",
    "            lower = 1.0e-3\n",
    "            upper = 100\n",
    "        else:\n",
    "            lower = 1.0e-3 * median\n",
    "            upper = 100  * median\n",
    "        self.model['.*rbf.lengthscale'].constrain_bounded(lower, upper)\n",
    "        self.model.optimize_restarts()\n",
    "\n",
    "        array_bounds = np.array(self.x_bounds)\n",
    "        max_bound = np.argmax(array_bounds[:,0] - array_bounds[:,1])\n",
    "        terminate_vol = (0.1 ** self.x_train.shape[1]) / (array_bounds[max_bound, 1] - array_bounds[max_bound, 0])\n",
    "        res = minimize(self.obj, bounds = self.x_bounds, algmethod=1,volper = terminate_vol)\n",
    "        return res"
   ]
  },
  {
   "cell_type": "code",
   "execution_count": 180,
   "id": "4b23e359",
   "metadata": {
    "scrolled": true
   },
   "outputs": [
    {
     "data": {
      "text/html": [
       "<div>\n",
       "<style scoped>\n",
       "    .dataframe tbody tr th:only-of-type {\n",
       "        vertical-align: middle;\n",
       "    }\n",
       "\n",
       "    .dataframe tbody tr th {\n",
       "        vertical-align: top;\n",
       "    }\n",
       "\n",
       "    .dataframe thead th {\n",
       "        text-align: right;\n",
       "    }\n",
       "</style>\n",
       "<table border=\"1\" class=\"dataframe\">\n",
       "  <thead>\n",
       "    <tr style=\"text-align: right;\">\n",
       "      <th></th>\n",
       "      <th>x1</th>\n",
       "      <th>x2</th>\n",
       "      <th>x3</th>\n",
       "      <th>x4</th>\n",
       "      <th>x5</th>\n",
       "      <th>x6</th>\n",
       "      <th>x7</th>\n",
       "      <th>x8</th>\n",
       "      <th>x9</th>\n",
       "      <th>x10</th>\n",
       "      <th>f1</th>\n",
       "      <th>f2</th>\n",
       "    </tr>\n",
       "  </thead>\n",
       "  <tbody>\n",
       "    <tr>\n",
       "      <th>0</th>\n",
       "      <td>0.560775</td>\n",
       "      <td>0.124008</td>\n",
       "      <td>0.308101</td>\n",
       "      <td>0.398957</td>\n",
       "      <td>0.725020</td>\n",
       "      <td>0.639573</td>\n",
       "      <td>0.283232</td>\n",
       "      <td>0.424593</td>\n",
       "      <td>0.467520</td>\n",
       "      <td>0.242308</td>\n",
       "      <td>0.877493</td>\n",
       "      <td>1.063341</td>\n",
       "    </tr>\n",
       "    <tr>\n",
       "      <th>1</th>\n",
       "      <td>0.423274</td>\n",
       "      <td>0.493814</td>\n",
       "      <td>0.365374</td>\n",
       "      <td>0.508758</td>\n",
       "      <td>0.106245</td>\n",
       "      <td>0.995189</td>\n",
       "      <td>0.289963</td>\n",
       "      <td>0.987092</td>\n",
       "      <td>0.046779</td>\n",
       "      <td>0.580918</td>\n",
       "      <td>1.504593</td>\n",
       "      <td>1.179525</td>\n",
       "    </tr>\n",
       "    <tr>\n",
       "      <th>2</th>\n",
       "      <td>0.168388</td>\n",
       "      <td>0.929267</td>\n",
       "      <td>0.337976</td>\n",
       "      <td>0.094917</td>\n",
       "      <td>0.636774</td>\n",
       "      <td>0.272181</td>\n",
       "      <td>0.410702</td>\n",
       "      <td>0.074885</td>\n",
       "      <td>0.081247</td>\n",
       "      <td>0.608744</td>\n",
       "      <td>1.757766</td>\n",
       "      <td>0.476090</td>\n",
       "    </tr>\n",
       "    <tr>\n",
       "      <th>3</th>\n",
       "      <td>0.008066</td>\n",
       "      <td>0.255611</td>\n",
       "      <td>0.774269</td>\n",
       "      <td>0.346813</td>\n",
       "      <td>0.877044</td>\n",
       "      <td>0.239686</td>\n",
       "      <td>0.338721</td>\n",
       "      <td>0.934012</td>\n",
       "      <td>0.470484</td>\n",
       "      <td>0.229505</td>\n",
       "      <td>1.656624</td>\n",
       "      <td>0.020991</td>\n",
       "    </tr>\n",
       "    <tr>\n",
       "      <th>4</th>\n",
       "      <td>0.094010</td>\n",
       "      <td>0.908879</td>\n",
       "      <td>0.864651</td>\n",
       "      <td>0.307506</td>\n",
       "      <td>0.202080</td>\n",
       "      <td>0.121143</td>\n",
       "      <td>0.065626</td>\n",
       "      <td>0.829762</td>\n",
       "      <td>0.758206</td>\n",
       "      <td>0.637416</td>\n",
       "      <td>1.931223</td>\n",
       "      <td>0.287277</td>\n",
       "    </tr>\n",
       "  </tbody>\n",
       "</table>\n",
       "</div>"
      ],
      "text/plain": [
       "         x1        x2        x3        x4        x5        x6        x7  \\\n",
       "0  0.560775  0.124008  0.308101  0.398957  0.725020  0.639573  0.283232   \n",
       "1  0.423274  0.493814  0.365374  0.508758  0.106245  0.995189  0.289963   \n",
       "2  0.168388  0.929267  0.337976  0.094917  0.636774  0.272181  0.410702   \n",
       "3  0.008066  0.255611  0.774269  0.346813  0.877044  0.239686  0.338721   \n",
       "4  0.094010  0.908879  0.864651  0.307506  0.202080  0.121143  0.065626   \n",
       "\n",
       "         x8        x9       x10        f1        f2  \n",
       "0  0.424593  0.467520  0.242308  0.877493  1.063341  \n",
       "1  0.987092  0.046779  0.580918  1.504593  1.179525  \n",
       "2  0.074885  0.081247  0.608744  1.757766  0.476090  \n",
       "3  0.934012  0.470484  0.229505  1.656624  0.020991  \n",
       "4  0.829762  0.758206  0.637416  1.931223  0.287277  "
      ]
     },
     "execution_count": 180,
     "metadata": {},
     "output_type": "execute_result"
    }
   ],
   "source": [
    "data[:5]"
   ]
  },
  {
   "cell_type": "code",
   "execution_count": 182,
   "id": "4c0f70c7",
   "metadata": {},
   "outputs": [
    {
     "ename": "AttributeError",
     "evalue": "'list' object has no attribute 'shape'",
     "output_type": "error",
     "traceback": [
      "\u001b[0;31m---------------------------------------------------------------------------\u001b[0m",
      "\u001b[0;31mAttributeError\u001b[0m                            Traceback (most recent call last)",
      "Input \u001b[0;32mIn [182]\u001b[0m, in \u001b[0;36m<cell line: 6>\u001b[0;34m()\u001b[0m\n\u001b[1;32m      7\u001b[0m initial_x \u001b[38;5;241m=\u001b[39m problem\u001b[38;5;241m.\u001b[39mvariables\n\u001b[1;32m      8\u001b[0m initial_y \u001b[38;5;241m=\u001b[39m problem\u001b[38;5;241m.\u001b[39mobjectives\n\u001b[0;32m---> 10\u001b[0m parego \u001b[38;5;241m=\u001b[39m \u001b[43mParEGO\u001b[49m\u001b[43m(\u001b[49m\u001b[43mx_bound\u001b[49m\u001b[43m,\u001b[49m\u001b[43m \u001b[49m\u001b[43minitial_x\u001b[49m\u001b[43m,\u001b[49m\u001b[43m \u001b[49m\u001b[43minitial_y\u001b[49m\u001b[43m,\u001b[49m\u001b[43m \u001b[49m\u001b[43mrho\u001b[49m\u001b[43m,\u001b[49m\u001b[43m \u001b[49m\u001b[43mxi\u001b[49m\u001b[43m)\u001b[49m\n\u001b[1;32m     11\u001b[0m res \u001b[38;5;241m=\u001b[39m parego\u001b[38;5;241m.\u001b[39mcal_parego()\n\u001b[1;32m     13\u001b[0m \u001b[38;5;28mprint\u001b[39m(\u001b[38;5;124m'\u001b[39m\u001b[38;5;124m-----result of DIRECT-----\u001b[39m\u001b[38;5;124m'\u001b[39m)\n",
      "Input \u001b[0;32mIn [179]\u001b[0m, in \u001b[0;36mParEGO.__init__\u001b[0;34m(self, x_bounds, x_train, y_train, rho, xi)\u001b[0m\n\u001b[1;32m     21\u001b[0m \u001b[38;5;28mself\u001b[39m\u001b[38;5;241m.\u001b[39mrho \u001b[38;5;241m=\u001b[39m rho\n\u001b[1;32m     22\u001b[0m \u001b[38;5;28mself\u001b[39m\u001b[38;5;241m.\u001b[39mxi \u001b[38;5;241m=\u001b[39m xi\n\u001b[0;32m---> 23\u001b[0m \u001b[38;5;28mself\u001b[39m\u001b[38;5;241m.\u001b[39mtask_num \u001b[38;5;241m=\u001b[39m \u001b[43my_train\u001b[49m\u001b[38;5;241;43m.\u001b[39;49m\u001b[43mshape\u001b[49m[\u001b[38;5;241m1\u001b[39m]\n\u001b[1;32m     24\u001b[0m \u001b[38;5;28mself\u001b[39m\u001b[38;5;241m.\u001b[39mtrain_num \u001b[38;5;241m=\u001b[39m y_train\u001b[38;5;241m.\u001b[39mshape[\u001b[38;5;241m0\u001b[39m]\n\u001b[1;32m     25\u001b[0m \u001b[38;5;28mself\u001b[39m\u001b[38;5;241m.\u001b[39mf_theta \u001b[38;5;241m=\u001b[39m np\u001b[38;5;241m.\u001b[39mzeros(\u001b[38;5;28mself\u001b[39m\u001b[38;5;241m.\u001b[39mtrain_num)\n",
      "\u001b[0;31mAttributeError\u001b[0m: 'list' object has no attribute 'shape'"
     ]
    }
   ],
   "source": [
    "from desdeo_problem.surrogatemodels import GaussianProcessRegressor\n",
    "\n",
    "\n",
    "#problem.train(GaussianProcessRegressor, {\"kernel\": Matern(1.0)}) # train will do the fit with x, and y.\n",
    "\n",
    "for i in range(10):\n",
    "    \n",
    "    #res = parego.cal_parego()\n",
    "    \n",
    "    print('-----result of DIRECT-----')\n",
    "    print(res)\n",
    "    \n",
    "    initial_x = np.append(initial_x, [res.x], axis=0)\n",
    "    # get next y\n",
    "    next_y = 0\n",
    "    initial_y = np.append(initial_y, [next_y], axis=0)\n",
    "    \n",
    "    data = pd.DataFrame(np.hstack((initial_x,initial_y.objectives)), columns=x_names+y_names)\n",
    "    problem = DataProblem(data=data, variable_names=x_names, objective_names=y_names)\n",
    "    problem.train(GaussianProcessRegressor, {\"kernel\": Matern(1.0)}) # train again with new data"
   ]
  },
  {
   "cell_type": "code",
   "execution_count": null,
   "id": "60ff53f5",
   "metadata": {},
   "outputs": [],
   "source": []
  },
  {
   "cell_type": "code",
   "execution_count": 162,
   "id": "416b4aaf",
   "metadata": {},
   "outputs": [],
   "source": [
    "## desdeo example\n",
    "\n",
    "from desdeo_problem.surrogatemodels import GaussianProcessRegressor\n",
    "\n",
    "problem.train(GaussianProcessRegressor, {\"kernel\": Matern(nu=3/2)})\n",
    "\n",
    "evolver_G_opt = NSGAIII(problem, use_surrogates=True, selection_type=\"optimistic\")\n",
    "while evolver_G_opt.continue_evolution():\n",
    "    evolver_G_opt.iterate()"
   ]
  },
  {
   "cell_type": "code",
   "execution_count": 163,
   "id": "20d396fc",
   "metadata": {},
   "outputs": [
    {
     "data": {
      "text/plain": [
       "<matplotlib.legend.Legend at 0x7f7b26e93940>"
      ]
     },
     "execution_count": 163,
     "metadata": {},
     "output_type": "execute_result"
    },
    {
     "data": {
      "image/png": "[encoded data removed]",
      "text/plain": [
       "<Figure size 432x288 with 1 Axes>"
      ]
     },
     "metadata": {
      "needs_background": "light"
     },
     "output_type": "display_data"
    }
   ],
   "source": [
    "front_G_opt = evolver_G_opt.population.objectives - evolver_G_opt.population.uncertainity\n",
    "\n",
    "\n",
    "G_opt = plt.scatter(x=front_G_opt[:,0], y=front_G_opt[:,1], label=\"Optimistic Kriging\")\n",
    "\n",
    "plt.title(f\"Fronts obtained with various algorithms on the {problem_name} problem\")\n",
    "plt.xlabel(\"F1\")\n",
    "plt.ylabel(\"F2\")\n",
    "plt.legend()"
   ]
  }
 ],
 "metadata": {
  "kernelspec": {
   "display_name": "38datademos_env",
   "language": "python",
   "name": "38datademos_env"
  },
  "language_info": {
   "codemirror_mode": {
    "name": "ipython",
    "version": 3
   },
   "file_extension": ".py",
   "mimetype": "text/x-python",
   "name": "python",
   "nbconvert_exporter": "python",
   "pygments_lexer": "ipython3",
   "version": "3.8.13"
  }
 },
 "nbformat": 4,
 "nbformat_minor": 5
}
