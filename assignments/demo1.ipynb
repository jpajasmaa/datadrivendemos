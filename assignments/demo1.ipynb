{
 "cells": [
  {
   "cell_type": "code",
   "execution_count": 1,
   "id": "1a86eb91",
   "metadata": {},
   "outputs": [
    {
     "data": {
      "text/html": [
       "<style>.container { width:100% !important; }</style>"
      ],
      "text/plain": [
       "<IPython.core.display.HTML object>"
      ]
     },
     "execution_count": 1,
     "metadata": {},
     "output_type": "execute_result"
    }
   ],
   "source": [
    "from IPython.display import HTML\n",
    "HTML(\"<style>.container { width:100% !important; }</style>\")"
   ]
  },
  {
   "cell_type": "code",
   "execution_count": 2,
   "id": "1990254a",
   "metadata": {},
   "outputs": [],
   "source": [
    "import numpy as np\n",
    "from desdeo_emo.EAs import RVEA, NSGAIII\n",
    "from desdeo_problem.testproblems.TestProblems import test_problem_builder\n",
    "#from desdeo_problem.testproblems.DBMOPP import DBMOPP # do the PR\n",
    "from desdeo_tools.utilities import fast_non_dominated_sort, hypervolume_indicator\n",
    "\n",
    "import matplotlib.pyplot as plt"
   ]
  },
  {
   "cell_type": "markdown",
   "id": "69fcf1ae",
   "metadata": {},
   "source": [
    "## Assignment 1\n",
    "\n",
    "Solve two benchmark problems with 2 and 5 number of objectives and 10 decision variables from the DTLZ\n",
    "family having a) degenerate and b) disconnected Pareto front. \n",
    "\n",
    "Use RVEA and NSGA-III to solve the defined\n",
    "MOPs by running them for 1000 generations (and 100 generations/iteration).\n",
    "- Calculate the hypervolume of the solutions from all the different combinations of problem instances and\n",
    "MOEAs.\n",
    "- Plot the final solutions for the bi-objective cases for comparing them visually.\n",
    "\n",
    "\n",
    "Submit a jupyter notebook or pdf containing codes, plots and table. Add short descriptions as well."
   ]
  },
  {
   "cell_type": "markdown",
   "id": "bf7f9319",
   "metadata": {},
   "source": [
    "### Problems\n",
    "\n",
    "DTZL5 is has degenerate front and DTLZ7 has disconnected Pareto front.\n",
    "\n",
    "Let's just get test problems set up to variables. Under also reference points that are the same for both RVEA and NSGA. "
   ]
  },
  {
   "cell_type": "code",
   "execution_count": 3,
   "id": "be73d5bc",
   "metadata": {},
   "outputs": [],
   "source": [
    "dtlz5_2 = test_problem_builder('DTLZ5', n_of_variables=10, n_of_objectives=2)\n",
    "dtlz5_5 = test_problem_builder('DTLZ5', n_of_variables=10, n_of_objectives=5)"
   ]
  },
  {
   "cell_type": "code",
   "execution_count": 4,
   "id": "714bba6e",
   "metadata": {},
   "outputs": [],
   "source": [
    "dtlz7_2 = test_problem_builder('DTLZ7', n_of_variables=10, n_of_objectives=2)\n",
    "dtlz7_5 = test_problem_builder('DTLZ7', n_of_variables=10, n_of_objectives=5)"
   ]
  },
  {
   "cell_type": "code",
   "execution_count": 5,
   "id": "42bf54ea",
   "metadata": {},
   "outputs": [],
   "source": [
    "# referencepoints\n",
    "# dtlz5_2\n",
    "ref_dtlz5_2 = np.array([1.0,1.0])\n",
    "# dtlz5_5\n",
    "ref_dtlz5_5 = np.array([1.5,1.5, 1.5, 1.5, 1.5])\n",
    "# dtlz7_2\n",
    "ref_dtlz7_2 = np.array([4.0,4.0])\n",
    "# dtlz_7_5\n",
    "ref_dtlz7_5 = np.array([5.0,5.0, 5.0, 5.0, 5.0])"
   ]
  },
  {
   "cell_type": "code",
   "execution_count": 6,
   "id": "f24cf0ed",
   "metadata": {},
   "outputs": [],
   "source": [
    "def plot_result(pop, name):\n",
    "    plt.scatter(x=pop[:,0], y=pop[:,1], label=\"objective values\")\n",
    "    plt.title(f\"{name}\")\n",
    "    plt.xlabel(\"F1\")\n",
    "    plt.ylabel(\"F2\")\n",
    "    plt.legend()\n",
    "    plt.show()"
   ]
  },
  {
   "cell_type": "markdown",
   "id": "aed54a65",
   "metadata": {},
   "source": [
    "## RVEA DTLZ5, 2 obj"
   ]
  },
  {
   "cell_type": "code",
   "execution_count": 7,
   "id": "00c1ccf8",
   "metadata": {},
   "outputs": [
    {
     "name": "stdout",
     "output_type": "stream",
     "text": [
      "Hypervolume: 0.2050382788773223\n"
     ]
    }
   ],
   "source": [
    "evolver = RVEA(dtlz5_2, n_iterations=10, n_gen_per_iter=100)\n",
    "while evolver.continue_evolution():\n",
    "    evolver.iterate()\n",
    "    \n",
    "pop_rvea_dtlz5 = evolver.population.objectives\n",
    "\n",
    "ref = ref_dtlz5_2\n",
    "hv_dt52_rvea = hypervolume_indicator(pop_rvea_dtlz5, ref)\n",
    "print(f\"Hypervolume: {hv_dt52_rvea}\")"
   ]
  },
  {
   "cell_type": "code",
   "execution_count": 8,
   "id": "7590ee76",
   "metadata": {},
   "outputs": [
    {
     "data": {
      "image/png": "[encoded data removed]",
      "text/plain": [
       "<Figure size 432x288 with 1 Axes>"
      ]
     },
     "metadata": {
      "needs_background": "light"
     },
     "output_type": "display_data"
    }
   ],
   "source": [
    "plot_result(pop_rvea_dtlz5, \"RVEA DLTZ5\")"
   ]
  },
  {
   "cell_type": "markdown",
   "id": "8d8f8808",
   "metadata": {},
   "source": [
    "## RVEA DTLZ5, 5 obj"
   ]
  },
  {
   "cell_type": "code",
   "execution_count": 9,
   "id": "3ad99114",
   "metadata": {},
   "outputs": [
    {
     "name": "stdout",
     "output_type": "stream",
     "text": [
      "Hypervolume: 3.47993149248338\n"
     ]
    }
   ],
   "source": [
    "evolver = RVEA(dtlz5_5, n_iterations=10, n_gen_per_iter=100)\n",
    "while evolver.continue_evolution():\n",
    "    evolver.iterate()\n",
    "    \n",
    "pop = evolver.population.objectives\n",
    "\n",
    "ref = ref_dtlz5_5\n",
    "hv_dt55_rvea = hypervolume_indicator(pop, ref)\n",
    "print(f\"Hypervolume: {hv_dt55_rvea}\")"
   ]
  },
  {
   "cell_type": "markdown",
   "id": "d5d79742",
   "metadata": {},
   "source": [
    "## RVEA DTLZ7, 2 obj"
   ]
  },
  {
   "cell_type": "code",
   "execution_count": 45,
   "id": "45975b6d",
   "metadata": {},
   "outputs": [
    {
     "name": "stdout",
     "output_type": "stream",
     "text": [
      "Hypervolume: 5.7515338921623185\n"
     ]
    }
   ],
   "source": [
    "evolver = RVEA(dtlz7_2, n_iterations=10, n_gen_per_iter=100)\n",
    "while evolver.continue_evolution():\n",
    "    evolver.iterate()\n",
    "    \n",
    "pop_rvea_dtlz7 = evolver.population.objectives\n",
    "\n",
    "ref = ref_dtlz7_2\n",
    "hv_dt72_rvea = hypervolume_indicator(pop_rvea_dtlz7, ref)\n",
    "print(f\"Hypervolume: {hv_dt72_rvea}\")"
   ]
  },
  {
   "cell_type": "code",
   "execution_count": 46,
   "id": "8948a389",
   "metadata": {},
   "outputs": [
    {
     "data": {
      "image/png": "[encoded data removed]",
      "text/plain": [
       "<Figure size 432x288 with 1 Axes>"
      ]
     },
     "metadata": {
      "needs_background": "light"
     },
     "output_type": "display_data"
    }
   ],
   "source": [
    "plot_result(pop_rvea_dtlz7, \"RVEA DLTZ7\")"
   ]
  },
  {
   "cell_type": "markdown",
   "id": "3f5a08de",
   "metadata": {},
   "source": [
    "## RVEA DTLZ7, 5 obj"
   ]
  },
  {
   "cell_type": "code",
   "execution_count": 12,
   "id": "de8d1652",
   "metadata": {},
   "outputs": [
    {
     "name": "stdout",
     "output_type": "stream",
     "text": [
      "Hypervolume: 500.65856120343506\n"
     ]
    }
   ],
   "source": [
    "evolver = RVEA(dtlz7_5, n_iterations=10, n_gen_per_iter=100)\n",
    "while evolver.continue_evolution():\n",
    "    evolver.iterate()\n",
    "    \n",
    "pop = evolver.population.objectives\n",
    "\n",
    "ref = ref_dtlz7_5\n",
    "hv_dt75_rvea = hypervolume_indicator(pop, ref)\n",
    "print(f\"Hypervolume: {hv_dt75_rvea}\")"
   ]
  },
  {
   "cell_type": "markdown",
   "id": "a3fe1f49",
   "metadata": {},
   "source": [
    "## NSGA DTLZ5 2 obj"
   ]
  },
  {
   "cell_type": "code",
   "execution_count": 13,
   "id": "2fbf91ff",
   "metadata": {},
   "outputs": [
    {
     "name": "stdout",
     "output_type": "stream",
     "text": [
      "Hypervolume: 0.2055571818548244\n"
     ]
    }
   ],
   "source": [
    "evolver = NSGAIII(dtlz5_2, n_iterations=10, n_gen_per_iter=100)\n",
    "while evolver.continue_evolution():\n",
    "    evolver.iterate()\n",
    "    \n",
    "pop_nsga_dtlz5 = evolver.population.objectives\n",
    "\n",
    "ref = ref_dtlz5_2\n",
    "hv_dt52_nsga = hypervolume_indicator(pop_nsga_dtlz5, ref)\n",
    "print(f\"Hypervolume: {hv_dt52_nsga}\")"
   ]
  },
  {
   "cell_type": "code",
   "execution_count": 14,
   "id": "3eb4cca7",
   "metadata": {
    "scrolled": true
   },
   "outputs": [
    {
     "data": {
      "image/png": "[encoded data removed]",
      "text/plain": [
       "<Figure size 432x288 with 1 Axes>"
      ]
     },
     "metadata": {
      "needs_background": "light"
     },
     "output_type": "display_data"
    }
   ],
   "source": [
    "plot_result(pop_nsga_dtlz5, \"NSGA DLTZ5\")"
   ]
  },
  {
   "cell_type": "markdown",
   "id": "4377c10a",
   "metadata": {},
   "source": [
    "## NSGA DTLZ5 5 obj"
   ]
  },
  {
   "cell_type": "code",
   "execution_count": 15,
   "id": "9346756f",
   "metadata": {},
   "outputs": [
    {
     "name": "stdout",
     "output_type": "stream",
     "text": [
      "Hypervolume: 4.036918750195098\n"
     ]
    }
   ],
   "source": [
    "evolver = NSGAIII(dtlz5_5, n_iterations=10, n_gen_per_iter=100)\n",
    "while evolver.continue_evolution():\n",
    "    evolver.iterate()\n",
    "    \n",
    "pop = evolver.population.objectives\n",
    "\n",
    "ref = ref_dtlz5_5\n",
    "hv_dt55_nsga = hypervolume_indicator(pop, ref)\n",
    "print(f\"Hypervolume: {hv_dt55_nsga}\")"
   ]
  },
  {
   "cell_type": "markdown",
   "id": "51be1298",
   "metadata": {},
   "source": [
    "## NSGA DTLZ7 2 obj"
   ]
  },
  {
   "cell_type": "code",
   "execution_count": 16,
   "id": "659a0ea6",
   "metadata": {},
   "outputs": [
    {
     "name": "stdout",
     "output_type": "stream",
     "text": [
      "Hypervolume: 5.798534997957947\n"
     ]
    }
   ],
   "source": [
    "evolver = NSGAIII(dtlz7_2, n_iterations=10, n_gen_per_iter=100)\n",
    "while evolver.continue_evolution():\n",
    "    evolver.iterate()\n",
    "    \n",
    "pop_nsga_dtlz7 = evolver.population.objectives\n",
    "\n",
    "ref = ref_dtlz7_2\n",
    "hv_dt72_nsga = hypervolume_indicator(pop_nsga_dtlz7, ref)\n",
    "print(f\"Hypervolume: {hv_dt72_nsga}\")"
   ]
  },
  {
   "cell_type": "code",
   "execution_count": 17,
   "id": "a60173d1",
   "metadata": {
    "scrolled": false
   },
   "outputs": [
    {
     "data": {
      "image/png": "[encoded data removed]",
      "text/plain": [
       "<Figure size 432x288 with 1 Axes>"
      ]
     },
     "metadata": {
      "needs_background": "light"
     },
     "output_type": "display_data"
    }
   ],
   "source": [
    "plot_result(pop_nsga_dtlz7, \"NSGA DLTZ7\")"
   ]
  },
  {
   "cell_type": "markdown",
   "id": "361d82e4",
   "metadata": {},
   "source": [
    "## NSGA DTLZ7 5 obj"
   ]
  },
  {
   "cell_type": "code",
   "execution_count": 18,
   "id": "1b432c07",
   "metadata": {
    "scrolled": true
   },
   "outputs": [
    {
     "name": "stdout",
     "output_type": "stream",
     "text": [
      "Hypervolume: 242.72627142636475\n"
     ]
    }
   ],
   "source": [
    "evolver = NSGAIII(dtlz7_5, n_iterations=10, n_gen_per_iter=100)\n",
    "while evolver.continue_evolution():\n",
    "    evolver.iterate()\n",
    "    \n",
    "pop = evolver.population.objectives\n",
    "\n",
    "ref = ref_dtlz7_5\n",
    "hv_dt75_nsga = hypervolume_indicator(pop, ref)\n",
    "print(f\"Hypervolume: {hv_dt75_nsga}\")"
   ]
  },
  {
   "cell_type": "markdown",
   "id": "ae38c862",
   "metadata": {},
   "source": [
    "# Results"
   ]
  },
  {
   "cell_type": "markdown",
   "id": "b7bab689",
   "metadata": {},
   "source": [
    "## Plots again for easier comparison"
   ]
  },
  {
   "cell_type": "markdown",
   "id": "c8d5e0f8",
   "metadata": {},
   "source": [
    "### DTLZ 5"
   ]
  },
  {
   "cell_type": "code",
   "execution_count": 19,
   "id": "36a7491e",
   "metadata": {},
   "outputs": [
    {
     "data": {
      "image/png": "[encoded data removed]",
      "text/plain": [
       "<Figure size 432x288 with 1 Axes>"
      ]
     },
     "metadata": {
      "needs_background": "light"
     },
     "output_type": "display_data"
    }
   ],
   "source": [
    "plot_result(pop_rvea_dtlz5, \"RVEA DLTZ5\")"
   ]
  },
  {
   "cell_type": "code",
   "execution_count": 20,
   "id": "7ca21864",
   "metadata": {
    "scrolled": true
   },
   "outputs": [
    {
     "data": {
      "image/png": "[encoded data removed]",
      "text/plain": [
       "<Figure size 432x288 with 1 Axes>"
      ]
     },
     "metadata": {
      "needs_background": "light"
     },
     "output_type": "display_data"
    }
   ],
   "source": [
    "plot_result(pop_nsga_dtlz5, \"NSGA DLTZ5\")"
   ]
  },
  {
   "cell_type": "markdown",
   "id": "8dbe6ea3",
   "metadata": {},
   "source": [
    "Not much to comment here. Both algorithms seem to handle DTLZ5 in 2 objectives well."
   ]
  },
  {
   "cell_type": "markdown",
   "id": "0b3ef197",
   "metadata": {},
   "source": [
    "### DTLZ 7"
   ]
  },
  {
   "cell_type": "code",
   "execution_count": 21,
   "id": "b0670397",
   "metadata": {},
   "outputs": [
    {
     "data": {
      "image/png": "[encoded data removed]",
      "text/plain": [
       "<Figure size 432x288 with 1 Axes>"
      ]
     },
     "metadata": {
      "needs_background": "light"
     },
     "output_type": "display_data"
    }
   ],
   "source": [
    "plot_result(pop_rvea_dtlz7, \"RVEA DLTZ7\")"
   ]
  },
  {
   "cell_type": "code",
   "execution_count": 22,
   "id": "5678142a",
   "metadata": {
    "scrolled": true
   },
   "outputs": [
    {
     "data": {
      "image/png": "[encoded data removed]",
      "text/plain": [
       "<Figure size 432x288 with 1 Axes>"
      ]
     },
     "metadata": {
      "needs_background": "light"
     },
     "output_type": "display_data"
    }
   ],
   "source": [
    "plot_result(pop_nsga_dtlz7, \"NSGA DLTZ7\")"
   ]
  },
  {
   "cell_type": "markdown",
   "id": "c54293b0",
   "metadata": {},
   "source": [
    "This one is more interesting. There is a clear difference between the plots. RVEA seems to get more (maybe too many) solutions near the edges of the disconnected areas and NSGA seems to miss some. "
   ]
  },
  {
   "cell_type": "markdown",
   "id": "b5c4a795",
   "metadata": {},
   "source": [
    "| Pareto front type | Objectives (K) | Decision variables (n) | HV RVEA | HV NSGA |\n",
    "| --- | --- | --- | --- | --- | \n",
    "| Degenerate | 2 | 10 | 0.205  | 0.206   |   \n",
    "| Degenerate | 5 | 10 | 3.480  | 4.037  |   \n",
    "| Disconnected | 2 | 10 | 5.767  | 5.799  |  \n",
    "| Disconnected | 5 | 10 | 500.659  | 242.726  |   "
   ]
  },
  {
   "cell_type": "markdown",
   "id": "63909c40",
   "metadata": {},
   "source": [
    "With reference points of\n",
    "- $[1.0, 1.0]$ for DTLZ5 in two objectives.\n",
    "- $[1.5,1.5, 1.5, 1.5, 1.5] $ for DTLZ5 in five objectives.\n",
    "\n",
    "- $[4.0,4.0]$ for DTLZ7 in two objectives.\n",
    "- $[5.0,5.0, 5.0, 5.0, 5.0]$ for DTLZ7 in five objectives.\n",
    "\n",
    "By the hypervolume it seems that there is not much difference with the degenerate fronts of DTLZ5 but more difference between handling the disconnected fronts of DTLZ7. With 2 objectives the hypervolumes are about the same but plots show the difference. \n",
    "\n",
    "More difference comes with 5 objectives, where RVEA has much bigger hypervolume. NSGAIII has about half of it, some runs its near 300 but still lot less. With some quick additional tests using MOEAD (MOEAD gave similar results to RVEA), it seems that NSGAIII is missing some of the solutions near the edges. This also leads to smaller hypervolume."
   ]
  }
 ],
 "metadata": {
  "kernelspec": {
   "display_name": "demovenv",
   "language": "python",
   "name": "demovenv"
  },
  "language_info": {
   "codemirror_mode": {
    "name": "ipython",
    "version": 3
   },
   "file_extension": ".py",
   "mimetype": "text/x-python",
   "name": "python",
   "nbconvert_exporter": "python",
   "pygments_lexer": "ipython3",
   "version": "3.9.9"
  }
 },
 "nbformat": 4,
 "nbformat_minor": 5
}
